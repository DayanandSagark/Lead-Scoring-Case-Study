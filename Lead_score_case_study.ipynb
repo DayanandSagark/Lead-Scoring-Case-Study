{
 "cells": [
  {
   "cell_type": "markdown",
   "metadata": {},
   "source": [
    "# Lead Scoring Case Study"
   ]
  },
  {
   "cell_type": "markdown",
   "metadata": {},
   "source": [
    "<b>Problem Statement:</b>\n",
    " \n",
    "1)An education company named X Education sells online courses to industry professionals. On any given day, many professionals who are interested in the courses land on their website and browse for courses. \n",
    " \n",
    "2)Although X Education gets a lot of leads, its lead conversion rate is very poor. For example, if, say, they acquire 100 leads in a day, only about 30 of them are converted. To make this process more efficient, the company wishes to identify the most potential leads, also known as ‘Hot Leads’.\n"
   ]
  },
  {
   "cell_type": "code",
   "execution_count": 1,
   "metadata": {},
   "outputs": [],
   "source": [
    "# Importing Pandas and NumPy\n",
    "import pandas as pd\n",
    "import numpy as np\n",
    "import matplotlib.pyplot as plt\n",
    "import seaborn as sns\n",
    "import warnings\n",
    "warnings.filterwarnings(\"ignore\")"
   ]
  },
  {
   "cell_type": "code",
   "execution_count": 2,
   "metadata": {},
   "outputs": [
    {
     "data": {
      "text/html": [
       "<div>\n",
       "<style scoped>\n",
       "    .dataframe tbody tr th:only-of-type {\n",
       "        vertical-align: middle;\n",
       "    }\n",
       "\n",
       "    .dataframe tbody tr th {\n",
       "        vertical-align: top;\n",
       "    }\n",
       "\n",
       "    .dataframe thead th {\n",
       "        text-align: right;\n",
       "    }\n",
       "</style>\n",
       "<table border=\"1\" class=\"dataframe\">\n",
       "  <thead>\n",
       "    <tr style=\"text-align: right;\">\n",
       "      <th></th>\n",
       "      <th>Prospect ID</th>\n",
       "      <th>Lead Number</th>\n",
       "      <th>Lead Origin</th>\n",
       "      <th>Lead Source</th>\n",
       "      <th>Do Not Email</th>\n",
       "      <th>Do Not Call</th>\n",
       "      <th>Converted</th>\n",
       "      <th>TotalVisits</th>\n",
       "      <th>Total Time Spent on Website</th>\n",
       "      <th>Page Views Per Visit</th>\n",
       "      <th>...</th>\n",
       "      <th>Get updates on DM Content</th>\n",
       "      <th>Lead Profile</th>\n",
       "      <th>City</th>\n",
       "      <th>Asymmetrique Activity Index</th>\n",
       "      <th>Asymmetrique Profile Index</th>\n",
       "      <th>Asymmetrique Activity Score</th>\n",
       "      <th>Asymmetrique Profile Score</th>\n",
       "      <th>I agree to pay the amount through cheque</th>\n",
       "      <th>A free copy of Mastering The Interview</th>\n",
       "      <th>Last Notable Activity</th>\n",
       "    </tr>\n",
       "  </thead>\n",
       "  <tbody>\n",
       "    <tr>\n",
       "      <th>0</th>\n",
       "      <td>7927b2df-8bba-4d29-b9a2-b6e0beafe620</td>\n",
       "      <td>660737</td>\n",
       "      <td>API</td>\n",
       "      <td>Olark Chat</td>\n",
       "      <td>No</td>\n",
       "      <td>No</td>\n",
       "      <td>0</td>\n",
       "      <td>0.0</td>\n",
       "      <td>0</td>\n",
       "      <td>0.0</td>\n",
       "      <td>...</td>\n",
       "      <td>No</td>\n",
       "      <td>Select</td>\n",
       "      <td>Select</td>\n",
       "      <td>02.Medium</td>\n",
       "      <td>02.Medium</td>\n",
       "      <td>15.0</td>\n",
       "      <td>15.0</td>\n",
       "      <td>No</td>\n",
       "      <td>No</td>\n",
       "      <td>Modified</td>\n",
       "    </tr>\n",
       "    <tr>\n",
       "      <th>1</th>\n",
       "      <td>2a272436-5132-4136-86fa-dcc88c88f482</td>\n",
       "      <td>660728</td>\n",
       "      <td>API</td>\n",
       "      <td>Organic Search</td>\n",
       "      <td>No</td>\n",
       "      <td>No</td>\n",
       "      <td>0</td>\n",
       "      <td>5.0</td>\n",
       "      <td>674</td>\n",
       "      <td>2.5</td>\n",
       "      <td>...</td>\n",
       "      <td>No</td>\n",
       "      <td>Select</td>\n",
       "      <td>Select</td>\n",
       "      <td>02.Medium</td>\n",
       "      <td>02.Medium</td>\n",
       "      <td>15.0</td>\n",
       "      <td>15.0</td>\n",
       "      <td>No</td>\n",
       "      <td>No</td>\n",
       "      <td>Email Opened</td>\n",
       "    </tr>\n",
       "    <tr>\n",
       "      <th>2</th>\n",
       "      <td>8cc8c611-a219-4f35-ad23-fdfd2656bd8a</td>\n",
       "      <td>660727</td>\n",
       "      <td>Landing Page Submission</td>\n",
       "      <td>Direct Traffic</td>\n",
       "      <td>No</td>\n",
       "      <td>No</td>\n",
       "      <td>1</td>\n",
       "      <td>2.0</td>\n",
       "      <td>1532</td>\n",
       "      <td>2.0</td>\n",
       "      <td>...</td>\n",
       "      <td>No</td>\n",
       "      <td>Potential Lead</td>\n",
       "      <td>Mumbai</td>\n",
       "      <td>02.Medium</td>\n",
       "      <td>01.High</td>\n",
       "      <td>14.0</td>\n",
       "      <td>20.0</td>\n",
       "      <td>No</td>\n",
       "      <td>Yes</td>\n",
       "      <td>Email Opened</td>\n",
       "    </tr>\n",
       "    <tr>\n",
       "      <th>3</th>\n",
       "      <td>0cc2df48-7cf4-4e39-9de9-19797f9b38cc</td>\n",
       "      <td>660719</td>\n",
       "      <td>Landing Page Submission</td>\n",
       "      <td>Direct Traffic</td>\n",
       "      <td>No</td>\n",
       "      <td>No</td>\n",
       "      <td>0</td>\n",
       "      <td>1.0</td>\n",
       "      <td>305</td>\n",
       "      <td>1.0</td>\n",
       "      <td>...</td>\n",
       "      <td>No</td>\n",
       "      <td>Select</td>\n",
       "      <td>Mumbai</td>\n",
       "      <td>02.Medium</td>\n",
       "      <td>01.High</td>\n",
       "      <td>13.0</td>\n",
       "      <td>17.0</td>\n",
       "      <td>No</td>\n",
       "      <td>No</td>\n",
       "      <td>Modified</td>\n",
       "    </tr>\n",
       "    <tr>\n",
       "      <th>4</th>\n",
       "      <td>3256f628-e534-4826-9d63-4a8b88782852</td>\n",
       "      <td>660681</td>\n",
       "      <td>Landing Page Submission</td>\n",
       "      <td>Google</td>\n",
       "      <td>No</td>\n",
       "      <td>No</td>\n",
       "      <td>1</td>\n",
       "      <td>2.0</td>\n",
       "      <td>1428</td>\n",
       "      <td>1.0</td>\n",
       "      <td>...</td>\n",
       "      <td>No</td>\n",
       "      <td>Select</td>\n",
       "      <td>Mumbai</td>\n",
       "      <td>02.Medium</td>\n",
       "      <td>01.High</td>\n",
       "      <td>15.0</td>\n",
       "      <td>18.0</td>\n",
       "      <td>No</td>\n",
       "      <td>No</td>\n",
       "      <td>Modified</td>\n",
       "    </tr>\n",
       "  </tbody>\n",
       "</table>\n",
       "<p>5 rows × 37 columns</p>\n",
       "</div>"
      ],
      "text/plain": [
       "                            Prospect ID  Lead Number              Lead Origin  \\\n",
       "0  7927b2df-8bba-4d29-b9a2-b6e0beafe620       660737                      API   \n",
       "1  2a272436-5132-4136-86fa-dcc88c88f482       660728                      API   \n",
       "2  8cc8c611-a219-4f35-ad23-fdfd2656bd8a       660727  Landing Page Submission   \n",
       "3  0cc2df48-7cf4-4e39-9de9-19797f9b38cc       660719  Landing Page Submission   \n",
       "4  3256f628-e534-4826-9d63-4a8b88782852       660681  Landing Page Submission   \n",
       "\n",
       "      Lead Source Do Not Email Do Not Call  Converted  TotalVisits  \\\n",
       "0      Olark Chat           No          No          0          0.0   \n",
       "1  Organic Search           No          No          0          5.0   \n",
       "2  Direct Traffic           No          No          1          2.0   \n",
       "3  Direct Traffic           No          No          0          1.0   \n",
       "4          Google           No          No          1          2.0   \n",
       "\n",
       "   Total Time Spent on Website  Page Views Per Visit  ...  \\\n",
       "0                            0                   0.0  ...   \n",
       "1                          674                   2.5  ...   \n",
       "2                         1532                   2.0  ...   \n",
       "3                          305                   1.0  ...   \n",
       "4                         1428                   1.0  ...   \n",
       "\n",
       "  Get updates on DM Content    Lead Profile    City  \\\n",
       "0                        No          Select  Select   \n",
       "1                        No          Select  Select   \n",
       "2                        No  Potential Lead  Mumbai   \n",
       "3                        No          Select  Mumbai   \n",
       "4                        No          Select  Mumbai   \n",
       "\n",
       "  Asymmetrique Activity Index Asymmetrique Profile Index  \\\n",
       "0                   02.Medium                  02.Medium   \n",
       "1                   02.Medium                  02.Medium   \n",
       "2                   02.Medium                    01.High   \n",
       "3                   02.Medium                    01.High   \n",
       "4                   02.Medium                    01.High   \n",
       "\n",
       "  Asymmetrique Activity Score Asymmetrique Profile Score  \\\n",
       "0                        15.0                       15.0   \n",
       "1                        15.0                       15.0   \n",
       "2                        14.0                       20.0   \n",
       "3                        13.0                       17.0   \n",
       "4                        15.0                       18.0   \n",
       "\n",
       "  I agree to pay the amount through cheque  \\\n",
       "0                                       No   \n",
       "1                                       No   \n",
       "2                                       No   \n",
       "3                                       No   \n",
       "4                                       No   \n",
       "\n",
       "  A free copy of Mastering The Interview Last Notable Activity  \n",
       "0                                     No              Modified  \n",
       "1                                     No          Email Opened  \n",
       "2                                    Yes          Email Opened  \n",
       "3                                     No              Modified  \n",
       "4                                     No              Modified  \n",
       "\n",
       "[5 rows x 37 columns]"
      ]
     },
     "execution_count": 2,
     "metadata": {},
     "output_type": "execute_result"
    }
   ],
   "source": [
    "# Importing dataset\n",
    "leads_data = pd.read_csv(\"Leads.csv\")\n",
    "leads_data.head()"
   ]
  },
  {
   "cell_type": "code",
   "execution_count": 3,
   "metadata": {
    "scrolled": true
   },
   "outputs": [
    {
     "data": {
      "text/plain": [
       "(9240, 37)"
      ]
     },
     "execution_count": 3,
     "metadata": {},
     "output_type": "execute_result"
    }
   ],
   "source": [
    "leads_data.shape"
   ]
  },
  {
   "cell_type": "code",
   "execution_count": 4,
   "metadata": {
    "scrolled": false
   },
   "outputs": [
    {
     "name": "stdout",
     "output_type": "stream",
     "text": [
      "<class 'pandas.core.frame.DataFrame'>\n",
      "RangeIndex: 9240 entries, 0 to 9239\n",
      "Data columns (total 37 columns):\n",
      "Prospect ID                                      9240 non-null object\n",
      "Lead Number                                      9240 non-null int64\n",
      "Lead Origin                                      9240 non-null object\n",
      "Lead Source                                      9204 non-null object\n",
      "Do Not Email                                     9240 non-null object\n",
      "Do Not Call                                      9240 non-null object\n",
      "Converted                                        9240 non-null int64\n",
      "TotalVisits                                      9103 non-null float64\n",
      "Total Time Spent on Website                      9240 non-null int64\n",
      "Page Views Per Visit                             9103 non-null float64\n",
      "Last Activity                                    9137 non-null object\n",
      "Country                                          6779 non-null object\n",
      "Specialization                                   7802 non-null object\n",
      "How did you hear about X Education               7033 non-null object\n",
      "What is your current occupation                  6550 non-null object\n",
      "What matters most to you in choosing a course    6531 non-null object\n",
      "Search                                           9240 non-null object\n",
      "Magazine                                         9240 non-null object\n",
      "Newspaper Article                                9240 non-null object\n",
      "X Education Forums                               9240 non-null object\n",
      "Newspaper                                        9240 non-null object\n",
      "Digital Advertisement                            9240 non-null object\n",
      "Through Recommendations                          9240 non-null object\n",
      "Receive More Updates About Our Courses           9240 non-null object\n",
      "Tags                                             5887 non-null object\n",
      "Lead Quality                                     4473 non-null object\n",
      "Update me on Supply Chain Content                9240 non-null object\n",
      "Get updates on DM Content                        9240 non-null object\n",
      "Lead Profile                                     6531 non-null object\n",
      "City                                             7820 non-null object\n",
      "Asymmetrique Activity Index                      5022 non-null object\n",
      "Asymmetrique Profile Index                       5022 non-null object\n",
      "Asymmetrique Activity Score                      5022 non-null float64\n",
      "Asymmetrique Profile Score                       5022 non-null float64\n",
      "I agree to pay the amount through cheque         9240 non-null object\n",
      "A free copy of Mastering The Interview           9240 non-null object\n",
      "Last Notable Activity                            9240 non-null object\n",
      "dtypes: float64(4), int64(3), object(30)\n",
      "memory usage: 2.6+ MB\n"
     ]
    }
   ],
   "source": [
    "leads_data.info()"
   ]
  },
  {
   "cell_type": "code",
   "execution_count": 5,
   "metadata": {
    "scrolled": false
   },
   "outputs": [
    {
     "data": {
      "text/plain": [
       "Prospect ID                                         0\n",
       "Lead Number                                         0\n",
       "Lead Origin                                         0\n",
       "Lead Source                                        36\n",
       "Do Not Email                                        0\n",
       "Do Not Call                                         0\n",
       "Converted                                           0\n",
       "TotalVisits                                       137\n",
       "Total Time Spent on Website                         0\n",
       "Page Views Per Visit                              137\n",
       "Last Activity                                     103\n",
       "Country                                          2461\n",
       "Specialization                                   1438\n",
       "How did you hear about X Education               2207\n",
       "What is your current occupation                  2690\n",
       "What matters most to you in choosing a course    2709\n",
       "Search                                              0\n",
       "Magazine                                            0\n",
       "Newspaper Article                                   0\n",
       "X Education Forums                                  0\n",
       "Newspaper                                           0\n",
       "Digital Advertisement                               0\n",
       "Through Recommendations                             0\n",
       "Receive More Updates About Our Courses              0\n",
       "Tags                                             3353\n",
       "Lead Quality                                     4767\n",
       "Update me on Supply Chain Content                   0\n",
       "Get updates on DM Content                           0\n",
       "Lead Profile                                     2709\n",
       "City                                             1420\n",
       "Asymmetrique Activity Index                      4218\n",
       "Asymmetrique Profile Index                       4218\n",
       "Asymmetrique Activity Score                      4218\n",
       "Asymmetrique Profile Score                       4218\n",
       "I agree to pay the amount through cheque            0\n",
       "A free copy of Mastering The Interview              0\n",
       "Last Notable Activity                               0\n",
       "dtype: int64"
      ]
     },
     "execution_count": 5,
     "metadata": {},
     "output_type": "execute_result"
    }
   ],
   "source": [
    "leads_data.isnull().sum()"
   ]
  },
  {
   "cell_type": "code",
   "execution_count": 6,
   "metadata": {
    "scrolled": false
   },
   "outputs": [
    {
     "data": {
      "text/plain": [
       "Prospect ID                                       0.00\n",
       "Lead Number                                       0.00\n",
       "Lead Origin                                       0.00\n",
       "Lead Source                                       0.39\n",
       "Do Not Email                                      0.00\n",
       "Do Not Call                                       0.00\n",
       "Converted                                         0.00\n",
       "TotalVisits                                       1.48\n",
       "Total Time Spent on Website                       0.00\n",
       "Page Views Per Visit                              1.48\n",
       "Last Activity                                     1.11\n",
       "Country                                          26.63\n",
       "Specialization                                   15.56\n",
       "How did you hear about X Education               23.89\n",
       "What is your current occupation                  29.11\n",
       "What matters most to you in choosing a course    29.32\n",
       "Search                                            0.00\n",
       "Magazine                                          0.00\n",
       "Newspaper Article                                 0.00\n",
       "X Education Forums                                0.00\n",
       "Newspaper                                         0.00\n",
       "Digital Advertisement                             0.00\n",
       "Through Recommendations                           0.00\n",
       "Receive More Updates About Our Courses            0.00\n",
       "Tags                                             36.29\n",
       "Lead Quality                                     51.59\n",
       "Update me on Supply Chain Content                 0.00\n",
       "Get updates on DM Content                         0.00\n",
       "Lead Profile                                     29.32\n",
       "City                                             15.37\n",
       "Asymmetrique Activity Index                      45.65\n",
       "Asymmetrique Profile Index                       45.65\n",
       "Asymmetrique Activity Score                      45.65\n",
       "Asymmetrique Profile Score                       45.65\n",
       "I agree to pay the amount through cheque          0.00\n",
       "A free copy of Mastering The Interview            0.00\n",
       "Last Notable Activity                             0.00\n",
       "dtype: float64"
      ]
     },
     "execution_count": 6,
     "metadata": {},
     "output_type": "execute_result"
    }
   ],
   "source": [
    "round(100*(leads_data.isnull().sum()/len(leads_data.index)),2)"
   ]
  },
  {
   "cell_type": "code",
   "execution_count": 7,
   "metadata": {
    "scrolled": true
   },
   "outputs": [
    {
     "data": {
      "text/html": [
       "<div>\n",
       "<style scoped>\n",
       "    .dataframe tbody tr th:only-of-type {\n",
       "        vertical-align: middle;\n",
       "    }\n",
       "\n",
       "    .dataframe tbody tr th {\n",
       "        vertical-align: top;\n",
       "    }\n",
       "\n",
       "    .dataframe thead th {\n",
       "        text-align: right;\n",
       "    }\n",
       "</style>\n",
       "<table border=\"1\" class=\"dataframe\">\n",
       "  <thead>\n",
       "    <tr style=\"text-align: right;\">\n",
       "      <th></th>\n",
       "      <th>Lead Number</th>\n",
       "      <th>Converted</th>\n",
       "      <th>TotalVisits</th>\n",
       "      <th>Total Time Spent on Website</th>\n",
       "      <th>Page Views Per Visit</th>\n",
       "      <th>Asymmetrique Activity Score</th>\n",
       "      <th>Asymmetrique Profile Score</th>\n",
       "    </tr>\n",
       "  </thead>\n",
       "  <tbody>\n",
       "    <tr>\n",
       "      <th>count</th>\n",
       "      <td>9240.000000</td>\n",
       "      <td>9240.000000</td>\n",
       "      <td>9103.000000</td>\n",
       "      <td>9240.000000</td>\n",
       "      <td>9103.000000</td>\n",
       "      <td>5022.000000</td>\n",
       "      <td>5022.000000</td>\n",
       "    </tr>\n",
       "    <tr>\n",
       "      <th>mean</th>\n",
       "      <td>617188.435606</td>\n",
       "      <td>0.385390</td>\n",
       "      <td>3.445238</td>\n",
       "      <td>487.698268</td>\n",
       "      <td>2.362820</td>\n",
       "      <td>14.306252</td>\n",
       "      <td>16.344883</td>\n",
       "    </tr>\n",
       "    <tr>\n",
       "      <th>std</th>\n",
       "      <td>23405.995698</td>\n",
       "      <td>0.486714</td>\n",
       "      <td>4.854853</td>\n",
       "      <td>548.021466</td>\n",
       "      <td>2.161418</td>\n",
       "      <td>1.386694</td>\n",
       "      <td>1.811395</td>\n",
       "    </tr>\n",
       "    <tr>\n",
       "      <th>min</th>\n",
       "      <td>579533.000000</td>\n",
       "      <td>0.000000</td>\n",
       "      <td>0.000000</td>\n",
       "      <td>0.000000</td>\n",
       "      <td>0.000000</td>\n",
       "      <td>7.000000</td>\n",
       "      <td>11.000000</td>\n",
       "    </tr>\n",
       "    <tr>\n",
       "      <th>25%</th>\n",
       "      <td>596484.500000</td>\n",
       "      <td>0.000000</td>\n",
       "      <td>1.000000</td>\n",
       "      <td>12.000000</td>\n",
       "      <td>1.000000</td>\n",
       "      <td>14.000000</td>\n",
       "      <td>15.000000</td>\n",
       "    </tr>\n",
       "    <tr>\n",
       "      <th>50%</th>\n",
       "      <td>615479.000000</td>\n",
       "      <td>0.000000</td>\n",
       "      <td>3.000000</td>\n",
       "      <td>248.000000</td>\n",
       "      <td>2.000000</td>\n",
       "      <td>14.000000</td>\n",
       "      <td>16.000000</td>\n",
       "    </tr>\n",
       "    <tr>\n",
       "      <th>75%</th>\n",
       "      <td>637387.250000</td>\n",
       "      <td>1.000000</td>\n",
       "      <td>5.000000</td>\n",
       "      <td>936.000000</td>\n",
       "      <td>3.000000</td>\n",
       "      <td>15.000000</td>\n",
       "      <td>18.000000</td>\n",
       "    </tr>\n",
       "    <tr>\n",
       "      <th>max</th>\n",
       "      <td>660737.000000</td>\n",
       "      <td>1.000000</td>\n",
       "      <td>251.000000</td>\n",
       "      <td>2272.000000</td>\n",
       "      <td>55.000000</td>\n",
       "      <td>18.000000</td>\n",
       "      <td>20.000000</td>\n",
       "    </tr>\n",
       "  </tbody>\n",
       "</table>\n",
       "</div>"
      ],
      "text/plain": [
       "         Lead Number    Converted  TotalVisits  Total Time Spent on Website  \\\n",
       "count    9240.000000  9240.000000  9103.000000                  9240.000000   \n",
       "mean   617188.435606     0.385390     3.445238                   487.698268   \n",
       "std     23405.995698     0.486714     4.854853                   548.021466   \n",
       "min    579533.000000     0.000000     0.000000                     0.000000   \n",
       "25%    596484.500000     0.000000     1.000000                    12.000000   \n",
       "50%    615479.000000     0.000000     3.000000                   248.000000   \n",
       "75%    637387.250000     1.000000     5.000000                   936.000000   \n",
       "max    660737.000000     1.000000   251.000000                  2272.000000   \n",
       "\n",
       "       Page Views Per Visit  Asymmetrique Activity Score  \\\n",
       "count           9103.000000                  5022.000000   \n",
       "mean               2.362820                    14.306252   \n",
       "std                2.161418                     1.386694   \n",
       "min                0.000000                     7.000000   \n",
       "25%                1.000000                    14.000000   \n",
       "50%                2.000000                    14.000000   \n",
       "75%                3.000000                    15.000000   \n",
       "max               55.000000                    18.000000   \n",
       "\n",
       "       Asymmetrique Profile Score  \n",
       "count                 5022.000000  \n",
       "mean                    16.344883  \n",
       "std                      1.811395  \n",
       "min                     11.000000  \n",
       "25%                     15.000000  \n",
       "50%                     16.000000  \n",
       "75%                     18.000000  \n",
       "max                     20.000000  "
      ]
     },
     "execution_count": 7,
     "metadata": {},
     "output_type": "execute_result"
    }
   ],
   "source": [
    "leads_data.describe()"
   ]
  },
  {
   "cell_type": "code",
   "execution_count": 8,
   "metadata": {},
   "outputs": [
    {
     "data": {
      "text/plain": [
       "Index(['Prospect ID', 'Lead Number', 'Lead Origin', 'Lead Source',\n",
       "       'Do Not Email', 'Do Not Call', 'Converted', 'TotalVisits',\n",
       "       'Total Time Spent on Website', 'Page Views Per Visit', 'Last Activity',\n",
       "       'Country', 'Specialization', 'How did you hear about X Education',\n",
       "       'What is your current occupation',\n",
       "       'What matters most to you in choosing a course', 'Search', 'Magazine',\n",
       "       'Newspaper Article', 'X Education Forums', 'Newspaper',\n",
       "       'Digital Advertisement', 'Through Recommendations',\n",
       "       'Receive More Updates About Our Courses', 'Tags', 'Lead Quality',\n",
       "       'Update me on Supply Chain Content', 'Get updates on DM Content',\n",
       "       'Lead Profile', 'City', 'Asymmetrique Activity Index',\n",
       "       'Asymmetrique Profile Index', 'Asymmetrique Activity Score',\n",
       "       'Asymmetrique Profile Score',\n",
       "       'I agree to pay the amount through cheque',\n",
       "       'A free copy of Mastering The Interview', 'Last Notable Activity'],\n",
       "      dtype='object')"
      ]
     },
     "execution_count": 8,
     "metadata": {},
     "output_type": "execute_result"
    }
   ],
   "source": [
    "leads_data.columns"
   ]
  },
  {
   "cell_type": "code",
   "execution_count": 9,
   "metadata": {
    "scrolled": false
   },
   "outputs": [
    {
     "name": "stdout",
     "output_type": "stream",
     "text": [
      "Lead Origin values :-\n",
      "['API' 'Landing Page Submission' 'Lead Add Form' 'Lead Import'\n",
      " 'Quick Add Form']\n",
      "\n",
      "\n",
      "Lead Source values :-\n",
      "['Olark Chat' 'Organic Search' 'Direct Traffic' 'Google' 'Referral Sites'\n",
      " 'Welingak Website' 'Reference' 'google' 'Facebook' nan 'blog'\n",
      " 'Pay per Click Ads' 'bing' 'Social Media' 'WeLearn' 'Click2call'\n",
      " 'Live Chat' 'welearnblog_Home' 'youtubechannel' 'testone' 'Press_Release'\n",
      " 'NC_EDM']\n",
      "\n",
      "\n",
      "Do Not Email values :-\n",
      "['No' 'Yes']\n",
      "\n",
      "\n",
      "Do Not Call values :-\n",
      "['No' 'Yes']\n",
      "\n",
      "\n",
      "Last Activity values :-\n",
      "['Page Visited on Website' 'Email Opened' 'Unreachable'\n",
      " 'Converted to Lead' 'Olark Chat Conversation' 'Email Bounced'\n",
      " 'Email Link Clicked' 'Form Submitted on Website' 'Unsubscribed'\n",
      " 'Had a Phone Conversation' 'View in browser link Clicked' nan\n",
      " 'Approached upfront' 'SMS Sent' 'Visited Booth in Tradeshow'\n",
      " 'Resubscribed to emails' 'Email Received' 'Email Marked Spam']\n",
      "\n",
      "\n",
      "Country values :-\n",
      "[nan 'India' 'Russia' 'Kuwait' 'Oman' 'United Arab Emirates'\n",
      " 'United States' 'Australia' 'United Kingdom' 'Bahrain' 'Ghana'\n",
      " 'Singapore' 'Qatar' 'Saudi Arabia' 'Belgium' 'France' 'Sri Lanka' 'China'\n",
      " 'Canada' 'Netherlands' 'Sweden' 'Nigeria' 'Hong Kong' 'Germany'\n",
      " 'Asia/Pacific Region' 'Uganda' 'Kenya' 'Italy' 'South Africa' 'Tanzania'\n",
      " 'unknown' 'Malaysia' 'Liberia' 'Switzerland' 'Denmark' 'Philippines'\n",
      " 'Bangladesh' 'Vietnam' 'Indonesia']\n",
      "\n",
      "\n",
      "Specialization values :-\n",
      "['Select' 'Business Administration' 'Media and Advertising' nan\n",
      " 'Supply Chain Management' 'IT Projects Management' 'Finance Management'\n",
      " 'Travel and Tourism' 'Human Resource Management' 'Marketing Management'\n",
      " 'Banking, Investment And Insurance' 'International Business' 'E-COMMERCE'\n",
      " 'Operations Management' 'Retail Management' 'Services Excellence'\n",
      " 'Hospitality Management' 'Rural and Agribusiness' 'Healthcare Management'\n",
      " 'E-Business']\n",
      "\n",
      "\n",
      "How did you hear about X Education values :-\n",
      "['Select' 'Word Of Mouth' 'Other' nan 'Online Search' 'Multiple Sources'\n",
      " 'Advertisements' 'Student of SomeSchool' 'Email' 'Social Media' 'SMS']\n",
      "\n",
      "\n",
      "What is your current occupation values :-\n",
      "['Unemployed' 'Student' nan 'Working Professional' 'Businessman' 'Other'\n",
      " 'Housewife']\n",
      "\n",
      "\n",
      "What matters most to you in choosing a course values :-\n",
      "['Better Career Prospects' nan 'Flexibility & Convenience' 'Other']\n",
      "\n",
      "\n",
      "Search values :-\n",
      "['No' 'Yes']\n",
      "\n",
      "\n",
      "Magazine values :-\n",
      "['No']\n",
      "\n",
      "\n",
      "Newspaper Article values :-\n",
      "['No' 'Yes']\n",
      "\n",
      "\n",
      "X Education Forums values :-\n",
      "['No' 'Yes']\n",
      "\n",
      "\n",
      "Newspaper values :-\n",
      "['No' 'Yes']\n",
      "\n",
      "\n",
      "Digital Advertisement values :-\n",
      "['No' 'Yes']\n",
      "\n",
      "\n",
      "Through Recommendations values :-\n",
      "['No' 'Yes']\n",
      "\n",
      "\n",
      "Receive More Updates About Our Courses values :-\n",
      "['No']\n",
      "\n",
      "\n",
      "Tags values :-\n",
      "['Interested in other courses' 'Ringing'\n",
      " 'Will revert after reading the email' nan 'Lost to EINS'\n",
      " 'In confusion whether part time or DLP' 'Busy' 'switched off'\n",
      " 'in touch with EINS' 'Already a student' 'Diploma holder (Not Eligible)'\n",
      " 'Graduation in progress' 'Closed by Horizzon' 'number not provided'\n",
      " 'opp hangup' 'Not doing further education' 'invalid number'\n",
      " 'wrong number given' 'Interested  in full time MBA' 'Still Thinking'\n",
      " 'Lost to Others' 'Shall take in the next coming month' 'Lateral student'\n",
      " 'Interested in Next batch' 'Recognition issue (DEC approval)'\n",
      " 'Want to take admission but has financial problems'\n",
      " 'University not recognized']\n",
      "\n",
      "\n",
      "Lead Quality values :-\n",
      "['Low in Relevance' nan 'Might be' 'Not Sure' 'Worst' 'High in Relevance']\n",
      "\n",
      "\n",
      "Update me on Supply Chain Content values :-\n",
      "['No']\n",
      "\n",
      "\n",
      "Get updates on DM Content values :-\n",
      "['No']\n",
      "\n",
      "\n",
      "Lead Profile values :-\n",
      "['Select' 'Potential Lead' nan 'Other Leads' 'Lateral Student'\n",
      " 'Dual Specialization Student' 'Student of SomeSchool']\n",
      "\n",
      "\n",
      "City values :-\n",
      "['Select' 'Mumbai' nan 'Thane & Outskirts' 'Other Metro Cities'\n",
      " 'Other Cities' 'Other Cities of Maharashtra' 'Tier II Cities']\n",
      "\n",
      "\n",
      "Asymmetrique Activity Index values :-\n",
      "['02.Medium' '01.High' '03.Low' nan]\n",
      "\n",
      "\n",
      "Asymmetrique Profile Index values :-\n",
      "['02.Medium' '01.High' '03.Low' nan]\n",
      "\n",
      "\n",
      "I agree to pay the amount through cheque values :-\n",
      "['No']\n",
      "\n",
      "\n",
      "A free copy of Mastering The Interview values :-\n",
      "['No' 'Yes']\n",
      "\n",
      "\n",
      "Last Notable Activity values :-\n",
      "['Modified' 'Email Opened' 'Page Visited on Website' 'Email Bounced'\n",
      " 'Email Link Clicked' 'Unreachable' 'Unsubscribed'\n",
      " 'Had a Phone Conversation' 'Olark Chat Conversation' 'SMS Sent'\n",
      " 'Approached upfront' 'Resubscribed to emails'\n",
      " 'View in browser link Clicked' 'Form Submitted on Website'\n",
      " 'Email Received' 'Email Marked Spam']\n",
      "\n",
      "\n"
     ]
    },
    {
     "data": {
      "text/plain": [
       "[None,\n",
       " None,\n",
       " None,\n",
       " None,\n",
       " None,\n",
       " None,\n",
       " None,\n",
       " None,\n",
       " None,\n",
       " None,\n",
       " None,\n",
       " None,\n",
       " None,\n",
       " None,\n",
       " None,\n",
       " None,\n",
       " None,\n",
       " None,\n",
       " None,\n",
       " None,\n",
       " None,\n",
       " None,\n",
       " None,\n",
       " None,\n",
       " None,\n",
       " None,\n",
       " None,\n",
       " None,\n",
       " None]"
      ]
     },
     "execution_count": 9,
     "metadata": {},
     "output_type": "execute_result"
    }
   ],
   "source": [
    "def DispCatgorlVal(colName):\n",
    "    print('%s values :-' % colName)\n",
    "    print(leads_data[colName].unique())\n",
    "    print('\\n')\n",
    "    \n",
    "catg_var = ['Lead Origin', 'Lead Source','Do Not Email', 'Do Not Call','Last Activity','Country', 'Specialization', 'How did you hear about X Education',\n",
    "       'What is your current occupation',\n",
    "       'What matters most to you in choosing a course', 'Search', 'Magazine',\n",
    "       'Newspaper Article', 'X Education Forums', 'Newspaper',\n",
    "       'Digital Advertisement', 'Through Recommendations',\n",
    "       'Receive More Updates About Our Courses', 'Tags', 'Lead Quality',\n",
    "       'Update me on Supply Chain Content', 'Get updates on DM Content',\n",
    "       'Lead Profile', 'City', 'Asymmetrique Activity Index',\n",
    "       'Asymmetrique Profile Index',\n",
    "       'I agree to pay the amount through cheque',\n",
    "       'A free copy of Mastering The Interview', 'Last Notable Activity']\n",
    "[ DispCatgorlVal(item) for item in catg_var]"
   ]
  },
  {
   "cell_type": "code",
   "execution_count": 10,
   "metadata": {},
   "outputs": [
    {
     "data": {
      "text/plain": [
       "['Specialization',\n",
       " 'How did you hear about X Education',\n",
       " 'Lead Profile',\n",
       " 'City']"
      ]
     },
     "execution_count": 10,
     "metadata": {},
     "output_type": "execute_result"
    }
   ],
   "source": [
    "\n",
    "sel_catg_var = []\n",
    "\n",
    "for col in leads_data.columns:\n",
    "    if 'Select' in leads_data[col].unique().tolist():\n",
    "        sel_catg_var.append(col)\n",
    "        \n",
    "sel_catg_var"
   ]
  },
  {
   "cell_type": "code",
   "execution_count": 11,
   "metadata": {},
   "outputs": [],
   "source": [
    "# dealing with select option\n",
    "# Replacing with nan\n",
    "leads_data = leads_data.replace(\"Select\",np.nan)"
   ]
  },
  {
   "cell_type": "code",
   "execution_count": 12,
   "metadata": {},
   "outputs": [
    {
     "data": {
      "text/plain": [
       "[]"
      ]
     },
     "execution_count": 12,
     "metadata": {},
     "output_type": "execute_result"
    }
   ],
   "source": [
    "sel_catg_var = []\n",
    "\n",
    "for col in leads_data.columns:\n",
    "    if 'Select' in leads_data[col].unique().tolist():\n",
    "        sel_catg_var.append(col)\n",
    "        \n",
    "sel_catg_var"
   ]
  },
  {
   "cell_type": "code",
   "execution_count": 13,
   "metadata": {},
   "outputs": [
    {
     "data": {
      "text/plain": [
       "Prospect ID                                       0.00\n",
       "Lead Number                                       0.00\n",
       "Lead Origin                                       0.00\n",
       "Lead Source                                       0.39\n",
       "Do Not Email                                      0.00\n",
       "Do Not Call                                       0.00\n",
       "Converted                                         0.00\n",
       "TotalVisits                                       1.48\n",
       "Total Time Spent on Website                       0.00\n",
       "Page Views Per Visit                              1.48\n",
       "Last Activity                                     1.11\n",
       "Country                                          26.63\n",
       "Specialization                                   36.58\n",
       "How did you hear about X Education               78.46\n",
       "What is your current occupation                  29.11\n",
       "What matters most to you in choosing a course    29.32\n",
       "Search                                            0.00\n",
       "Magazine                                          0.00\n",
       "Newspaper Article                                 0.00\n",
       "X Education Forums                                0.00\n",
       "Newspaper                                         0.00\n",
       "Digital Advertisement                             0.00\n",
       "Through Recommendations                           0.00\n",
       "Receive More Updates About Our Courses            0.00\n",
       "Tags                                             36.29\n",
       "Lead Quality                                     51.59\n",
       "Update me on Supply Chain Content                 0.00\n",
       "Get updates on DM Content                         0.00\n",
       "Lead Profile                                     74.19\n",
       "City                                             39.71\n",
       "Asymmetrique Activity Index                      45.65\n",
       "Asymmetrique Profile Index                       45.65\n",
       "Asymmetrique Activity Score                      45.65\n",
       "Asymmetrique Profile Score                       45.65\n",
       "I agree to pay the amount through cheque          0.00\n",
       "A free copy of Mastering The Interview            0.00\n",
       "Last Notable Activity                             0.00\n",
       "dtype: float64"
      ]
     },
     "execution_count": 13,
     "metadata": {},
     "output_type": "execute_result"
    }
   ],
   "source": [
    "round(100*(leads_data.isnull().sum()/len(leads_data.index)),2)"
   ]
  },
  {
   "cell_type": "code",
   "execution_count": 14,
   "metadata": {
    "scrolled": false
   },
   "outputs": [
    {
     "name": "stdout",
     "output_type": "stream",
     "text": [
      "Prospect ID values :-\n",
      "['7927b2df-8bba-4d29-b9a2-b6e0beafe620'\n",
      " '2a272436-5132-4136-86fa-dcc88c88f482'\n",
      " '8cc8c611-a219-4f35-ad23-fdfd2656bd8a' ...\n",
      " 'aac550fe-a586-452d-8d3c-f1b62c94e02c'\n",
      " '5330a7d1-2f2b-4df4-85d6-64ca2f6b95b9'\n",
      " '571b5c8e-a5b2-4d57-8574-f2ffb06fdeff']\n",
      "\n",
      "\n",
      "Lead Number values :-\n",
      "[660737 660728 660727 ... 579545 579538 579533]\n",
      "\n",
      "\n",
      "Lead Origin values :-\n",
      "['API' 'Landing Page Submission' 'Lead Add Form' 'Lead Import'\n",
      " 'Quick Add Form']\n",
      "\n",
      "\n",
      "Lead Source values :-\n",
      "['Olark Chat' 'Organic Search' 'Direct Traffic' 'Google' 'Referral Sites'\n",
      " 'Welingak Website' 'Reference' 'google' 'Facebook' nan 'blog'\n",
      " 'Pay per Click Ads' 'bing' 'Social Media' 'WeLearn' 'Click2call'\n",
      " 'Live Chat' 'welearnblog_Home' 'youtubechannel' 'testone' 'Press_Release'\n",
      " 'NC_EDM']\n",
      "\n",
      "\n",
      "Do Not Email values :-\n",
      "['No' 'Yes']\n",
      "\n",
      "\n",
      "Do Not Call values :-\n",
      "['No' 'Yes']\n",
      "\n",
      "\n",
      "Converted values :-\n",
      "[0 1]\n",
      "\n",
      "\n",
      "TotalVisits values :-\n",
      "[  0.   5.   2.   1.   4.   8.  11.   6.   3.   7.  13.  17.  nan   9.\n",
      "  12.  10.  16.  14.  21.  15.  22.  19.  18.  20.  43.  30.  23.  55.\n",
      " 141.  25.  27.  29.  24.  28.  26.  74.  41.  54. 115. 251.  32.  42.]\n",
      "\n",
      "\n",
      "Total Time Spent on Website values :-\n",
      "[   0  674 1532 ...  603  483  927]\n",
      "\n",
      "\n",
      "Page Views Per Visit values :-\n",
      "[ 0.    2.5   2.    1.    4.    8.    2.67 11.    5.    6.    3.    1.33\n",
      "  1.5   3.5   7.    2.33 13.    8.5   5.5   1.67   nan  4.5   3.33 16.\n",
      " 12.    1.71  1.8   6.5   4.33 14.    3.4  10.    1.25  1.75  2.63 15.\n",
      "  2.25  3.67  1.43  9.    2.6   4.75  1.27  3.25  5.33  2.57  2.17  2.75\n",
      "  2.8   2.2   2.86  3.91  1.4   5.67  3.2   1.38  2.09  2.4  55.    5.25\n",
      "  6.71  3.57  2.22  1.83  3.6   1.2   1.57  1.56  5.4   4.25  1.31  1.6\n",
      "  2.9   1.23  1.78  3.83  7.5   1.14  2.71  1.45  2.38  1.86  2.29  1.21\n",
      " 12.33  3.43  2.56  6.33  1.64  8.21  4.4   3.17  8.33  1.48  1.22 24.\n",
      "  3.75  6.67  1.54  2.13  2.14  2.45  3.29  4.17  1.63  3.38  1.17 14.5\n",
      "  3.8   1.19  3.82  2.83  1.93 11.5   2.08]\n",
      "\n",
      "\n",
      "Last Activity values :-\n",
      "['Page Visited on Website' 'Email Opened' 'Unreachable'\n",
      " 'Converted to Lead' 'Olark Chat Conversation' 'Email Bounced'\n",
      " 'Email Link Clicked' 'Form Submitted on Website' 'Unsubscribed'\n",
      " 'Had a Phone Conversation' 'View in browser link Clicked' nan\n",
      " 'Approached upfront' 'SMS Sent' 'Visited Booth in Tradeshow'\n",
      " 'Resubscribed to emails' 'Email Received' 'Email Marked Spam']\n",
      "\n",
      "\n",
      "Country values :-\n",
      "[nan 'India' 'Russia' 'Kuwait' 'Oman' 'United Arab Emirates'\n",
      " 'United States' 'Australia' 'United Kingdom' 'Bahrain' 'Ghana'\n",
      " 'Singapore' 'Qatar' 'Saudi Arabia' 'Belgium' 'France' 'Sri Lanka' 'China'\n",
      " 'Canada' 'Netherlands' 'Sweden' 'Nigeria' 'Hong Kong' 'Germany'\n",
      " 'Asia/Pacific Region' 'Uganda' 'Kenya' 'Italy' 'South Africa' 'Tanzania'\n",
      " 'unknown' 'Malaysia' 'Liberia' 'Switzerland' 'Denmark' 'Philippines'\n",
      " 'Bangladesh' 'Vietnam' 'Indonesia']\n",
      "\n",
      "\n",
      "Specialization values :-\n",
      "[nan 'Business Administration' 'Media and Advertising'\n",
      " 'Supply Chain Management' 'IT Projects Management' 'Finance Management'\n",
      " 'Travel and Tourism' 'Human Resource Management' 'Marketing Management'\n",
      " 'Banking, Investment And Insurance' 'International Business' 'E-COMMERCE'\n",
      " 'Operations Management' 'Retail Management' 'Services Excellence'\n",
      " 'Hospitality Management' 'Rural and Agribusiness' 'Healthcare Management'\n",
      " 'E-Business']\n",
      "\n",
      "\n",
      "How did you hear about X Education values :-\n",
      "[nan 'Word Of Mouth' 'Other' 'Online Search' 'Multiple Sources'\n",
      " 'Advertisements' 'Student of SomeSchool' 'Email' 'Social Media' 'SMS']\n",
      "\n",
      "\n",
      "What is your current occupation values :-\n",
      "['Unemployed' 'Student' nan 'Working Professional' 'Businessman' 'Other'\n",
      " 'Housewife']\n",
      "\n",
      "\n",
      "What matters most to you in choosing a course values :-\n",
      "['Better Career Prospects' nan 'Flexibility & Convenience' 'Other']\n",
      "\n",
      "\n",
      "Search values :-\n",
      "['No' 'Yes']\n",
      "\n",
      "\n",
      "Magazine values :-\n",
      "['No']\n",
      "\n",
      "\n",
      "Newspaper Article values :-\n",
      "['No' 'Yes']\n",
      "\n",
      "\n",
      "X Education Forums values :-\n",
      "['No' 'Yes']\n",
      "\n",
      "\n",
      "Newspaper values :-\n",
      "['No' 'Yes']\n",
      "\n",
      "\n",
      "Digital Advertisement values :-\n",
      "['No' 'Yes']\n",
      "\n",
      "\n",
      "Through Recommendations values :-\n",
      "['No' 'Yes']\n",
      "\n",
      "\n",
      "Receive More Updates About Our Courses values :-\n",
      "['No']\n",
      "\n",
      "\n",
      "Tags values :-\n",
      "['Interested in other courses' 'Ringing'\n",
      " 'Will revert after reading the email' nan 'Lost to EINS'\n",
      " 'In confusion whether part time or DLP' 'Busy' 'switched off'\n",
      " 'in touch with EINS' 'Already a student' 'Diploma holder (Not Eligible)'\n",
      " 'Graduation in progress' 'Closed by Horizzon' 'number not provided'\n",
      " 'opp hangup' 'Not doing further education' 'invalid number'\n",
      " 'wrong number given' 'Interested  in full time MBA' 'Still Thinking'\n",
      " 'Lost to Others' 'Shall take in the next coming month' 'Lateral student'\n",
      " 'Interested in Next batch' 'Recognition issue (DEC approval)'\n",
      " 'Want to take admission but has financial problems'\n",
      " 'University not recognized']\n",
      "\n",
      "\n",
      "Lead Quality values :-\n",
      "['Low in Relevance' nan 'Might be' 'Not Sure' 'Worst' 'High in Relevance']\n",
      "\n",
      "\n",
      "Update me on Supply Chain Content values :-\n",
      "['No']\n",
      "\n",
      "\n",
      "Get updates on DM Content values :-\n",
      "['No']\n",
      "\n",
      "\n",
      "Lead Profile values :-\n",
      "[nan 'Potential Lead' 'Other Leads' 'Lateral Student'\n",
      " 'Dual Specialization Student' 'Student of SomeSchool']\n",
      "\n",
      "\n",
      "City values :-\n",
      "[nan 'Mumbai' 'Thane & Outskirts' 'Other Metro Cities' 'Other Cities'\n",
      " 'Other Cities of Maharashtra' 'Tier II Cities']\n",
      "\n",
      "\n",
      "Asymmetrique Activity Index values :-\n",
      "['02.Medium' '01.High' '03.Low' nan]\n",
      "\n",
      "\n",
      "Asymmetrique Profile Index values :-\n",
      "['02.Medium' '01.High' '03.Low' nan]\n",
      "\n",
      "\n",
      "Asymmetrique Activity Score values :-\n",
      "[15. 14. 13. 17. 16. 11. 12. 10.  9.  8. 18. nan  7.]\n",
      "\n",
      "\n",
      "Asymmetrique Profile Score values :-\n",
      "[15. 20. 17. 18. 14. 16. 13. 19. 12. nan 11.]\n",
      "\n",
      "\n",
      "I agree to pay the amount through cheque values :-\n",
      "['No']\n",
      "\n",
      "\n",
      "A free copy of Mastering The Interview values :-\n",
      "['No' 'Yes']\n",
      "\n",
      "\n",
      "Last Notable Activity values :-\n",
      "['Modified' 'Email Opened' 'Page Visited on Website' 'Email Bounced'\n",
      " 'Email Link Clicked' 'Unreachable' 'Unsubscribed'\n",
      " 'Had a Phone Conversation' 'Olark Chat Conversation' 'SMS Sent'\n",
      " 'Approached upfront' 'Resubscribed to emails'\n",
      " 'View in browser link Clicked' 'Form Submitted on Website'\n",
      " 'Email Received' 'Email Marked Spam']\n",
      "\n",
      "\n"
     ]
    },
    {
     "data": {
      "text/plain": [
       "[None,\n",
       " None,\n",
       " None,\n",
       " None,\n",
       " None,\n",
       " None,\n",
       " None,\n",
       " None,\n",
       " None,\n",
       " None,\n",
       " None,\n",
       " None,\n",
       " None,\n",
       " None,\n",
       " None,\n",
       " None,\n",
       " None,\n",
       " None,\n",
       " None,\n",
       " None,\n",
       " None,\n",
       " None,\n",
       " None,\n",
       " None,\n",
       " None,\n",
       " None,\n",
       " None,\n",
       " None,\n",
       " None,\n",
       " None,\n",
       " None,\n",
       " None,\n",
       " None,\n",
       " None,\n",
       " None,\n",
       " None,\n",
       " None]"
      ]
     },
     "execution_count": 14,
     "metadata": {},
     "output_type": "execute_result"
    }
   ],
   "source": [
    "def DispCatgorlVal(colName):\n",
    "    print('%s values :-' % colName)\n",
    "    print(leads_data[colName].unique())\n",
    "    print('\\n')\n",
    "    \n",
    "#catg_var = ['symboling','fueltype','aspiration','doornumber','carbody','drivewheel','enginelocation', 'enginetype', 'cylindernumber', 'fuelsystem', 'CmpnyName']\n",
    "\n",
    "[ DispCatgorlVal(item) for item in leads_data.columns]"
   ]
  },
  {
   "cell_type": "code",
   "execution_count": 15,
   "metadata": {
    "scrolled": false
   },
   "outputs": [
    {
     "data": {
      "text/plain": [
       "Prospect ID                                       0.00\n",
       "Lead Number                                       0.00\n",
       "Lead Origin                                       0.00\n",
       "Lead Source                                       0.39\n",
       "Do Not Email                                      0.00\n",
       "Do Not Call                                       0.00\n",
       "Converted                                         0.00\n",
       "TotalVisits                                       1.48\n",
       "Total Time Spent on Website                       0.00\n",
       "Page Views Per Visit                              1.48\n",
       "Last Activity                                     1.11\n",
       "Country                                          26.63\n",
       "Specialization                                   36.58\n",
       "How did you hear about X Education               78.46\n",
       "What is your current occupation                  29.11\n",
       "What matters most to you in choosing a course    29.32\n",
       "Search                                            0.00\n",
       "Magazine                                          0.00\n",
       "Newspaper Article                                 0.00\n",
       "X Education Forums                                0.00\n",
       "Newspaper                                         0.00\n",
       "Digital Advertisement                             0.00\n",
       "Through Recommendations                           0.00\n",
       "Receive More Updates About Our Courses            0.00\n",
       "Tags                                             36.29\n",
       "Lead Quality                                     51.59\n",
       "Update me on Supply Chain Content                 0.00\n",
       "Get updates on DM Content                         0.00\n",
       "Lead Profile                                     74.19\n",
       "City                                             39.71\n",
       "Asymmetrique Activity Index                      45.65\n",
       "Asymmetrique Profile Index                       45.65\n",
       "Asymmetrique Activity Score                      45.65\n",
       "Asymmetrique Profile Score                       45.65\n",
       "I agree to pay the amount through cheque          0.00\n",
       "A free copy of Mastering The Interview            0.00\n",
       "Last Notable Activity                             0.00\n",
       "dtype: float64"
      ]
     },
     "execution_count": 15,
     "metadata": {},
     "output_type": "execute_result"
    }
   ],
   "source": [
    "round(100*(leads_data.isnull().sum()/len(leads_data.index)),2)"
   ]
  },
  {
   "cell_type": "code",
   "execution_count": 16,
   "metadata": {},
   "outputs": [
    {
     "data": {
      "text/plain": [
       "Index(['How did you hear about X Education', 'Lead Profile'], dtype='object')"
      ]
     },
     "execution_count": 16,
     "metadata": {},
     "output_type": "execute_result"
    }
   ],
   "source": [
    "#Dealing with columns more than 70 percent \n",
    "mpct_null = round(100*(leads_data.isnull().sum()/len(leads_data.index)),2)\n",
    "missing_features = mpct_null[mpct_null > 70.00].index\n",
    "missing_features"
   ]
  },
  {
   "cell_type": "code",
   "execution_count": 17,
   "metadata": {},
   "outputs": [],
   "source": [
    "#Removing columns having nan's more than 70\n",
    "leads_data.drop(missing_features, axis=1, inplace=True)\n"
   ]
  },
  {
   "cell_type": "code",
   "execution_count": 18,
   "metadata": {
    "scrolled": false
   },
   "outputs": [
    {
     "data": {
      "text/plain": [
       "Prospect ID                                       0.00\n",
       "Lead Number                                       0.00\n",
       "Lead Origin                                       0.00\n",
       "Lead Source                                       0.39\n",
       "Do Not Email                                      0.00\n",
       "Do Not Call                                       0.00\n",
       "Converted                                         0.00\n",
       "TotalVisits                                       1.48\n",
       "Total Time Spent on Website                       0.00\n",
       "Page Views Per Visit                              1.48\n",
       "Last Activity                                     1.11\n",
       "Country                                          26.63\n",
       "Specialization                                   36.58\n",
       "What is your current occupation                  29.11\n",
       "What matters most to you in choosing a course    29.32\n",
       "Search                                            0.00\n",
       "Magazine                                          0.00\n",
       "Newspaper Article                                 0.00\n",
       "X Education Forums                                0.00\n",
       "Newspaper                                         0.00\n",
       "Digital Advertisement                             0.00\n",
       "Through Recommendations                           0.00\n",
       "Receive More Updates About Our Courses            0.00\n",
       "Tags                                             36.29\n",
       "Lead Quality                                     51.59\n",
       "Update me on Supply Chain Content                 0.00\n",
       "Get updates on DM Content                         0.00\n",
       "City                                             39.71\n",
       "Asymmetrique Activity Index                      45.65\n",
       "Asymmetrique Profile Index                       45.65\n",
       "Asymmetrique Activity Score                      45.65\n",
       "Asymmetrique Profile Score                       45.65\n",
       "I agree to pay the amount through cheque          0.00\n",
       "A free copy of Mastering The Interview            0.00\n",
       "Last Notable Activity                             0.00\n",
       "dtype: float64"
      ]
     },
     "execution_count": 18,
     "metadata": {},
     "output_type": "execute_result"
    }
   ],
   "source": [
    "round(100*(leads_data.isnull().sum()/len(leads_data.index)),2)"
   ]
  },
  {
   "cell_type": "code",
   "execution_count": 19,
   "metadata": {},
   "outputs": [
    {
     "data": {
      "text/plain": [
       "<matplotlib.axes._subplots.AxesSubplot at 0x17c938fe2e8>"
      ]
     },
     "execution_count": 19,
     "metadata": {},
     "output_type": "execute_result"
    },
    {
     "data": {
      "image/png": "[encoded data removed]",
      "text/plain": [
       "<Figure size 432x288 with 1 Axes>"
      ]
     },
     "metadata": {
      "needs_background": "light"
     },
     "output_type": "display_data"
    }
   ],
   "source": [
    "# Checking the Lead Quality column  - 51.59 percentage of nan's\n",
    "sns.countplot(y=leads_data['Lead Quality'])"
   ]
  },
  {
   "cell_type": "code",
   "execution_count": 20,
   "metadata": {},
   "outputs": [
    {
     "data": {
      "text/plain": [
       "array(['Low in Relevance', nan, 'Might be', 'Not Sure', 'Worst',\n",
       "       'High in Relevance'], dtype=object)"
      ]
     },
     "execution_count": 20,
     "metadata": {},
     "output_type": "execute_result"
    }
   ],
   "source": [
    "leads_data['Lead Quality'].unique()"
   ]
  },
  {
   "cell_type": "code",
   "execution_count": 21,
   "metadata": {},
   "outputs": [
    {
     "data": {
      "text/plain": [
       "array(['Low in Relevance', 'Not Sure', 'Might be', 'Worst',\n",
       "       'High in Relevance'], dtype=object)"
      ]
     },
     "execution_count": 21,
     "metadata": {},
     "output_type": "execute_result"
    }
   ],
   "source": [
    "# as per the Business requirement - 'Not Sure' is similar to nan value and we can replace - as employee is updating lead quality\n",
    "# we can replace it with 'Not Sure' vqalue..\n",
    "\n",
    "leads_data['Lead Quality'].fillna(\"Not Sure\", inplace = True) \n",
    "\n",
    "leads_data['Lead Quality'].unique()\n"
   ]
  },
  {
   "cell_type": "code",
   "execution_count": 22,
   "metadata": {},
   "outputs": [
    {
     "data": {
      "text/plain": [
       "<matplotlib.axes._subplots.AxesSubplot at 0x17c94147f60>"
      ]
     },
     "execution_count": 22,
     "metadata": {},
     "output_type": "execute_result"
    },
    {
     "data": {
      "image/png": "[encoded data removed]",
      "text/plain": [
       "<Figure size 720x360 with 2 Axes>"
      ]
     },
     "metadata": {
      "needs_background": "light"
     },
     "output_type": "display_data"
    },
    {
     "data": {
      "image/png": "[encoded data removed]",
      "text/plain": [
       "<Figure size 720x360 with 2 Axes>"
      ]
     },
     "metadata": {
      "needs_background": "light"
     },
     "output_type": "display_data"
    }
   ],
   "source": [
    "#Dealing with next high percentage nan's 45%\n",
    "#Asymmetrique Activity Index                      45.65\n",
    "#Asymmetrique Profile Index                       45.65\n",
    "#Asymmetrique Activity Score                      45.65\n",
    "#Asymmetrique Profile Score                       45.65\n",
    "import matplotlib.pyplot as plt\n",
    "\n",
    "\n",
    "fig, ax = plt.subplots(figsize=(10,5), ncols=2, nrows=1)\n",
    "\n",
    "sns.countplot(leads_data['Asymmetrique Activity Index'],ax = ax[0])\n",
    "sns.boxplot(leads_data['Asymmetrique Activity Score'],ax = ax[1])\n",
    "\n",
    "fig, ax = plt.subplots(figsize=(10,5), ncols=2, nrows=1)\n",
    "sns.countplot(leads_data['Asymmetrique Profile Index'],ax = ax[0])\n",
    "sns.boxplot(leads_data['Asymmetrique Profile Score'],ax = ax[1])\n",
    "\n",
    "\n",
    "\n"
   ]
  },
  {
   "cell_type": "code",
   "execution_count": 23,
   "metadata": {},
   "outputs": [
    {
     "name": "stdout",
     "output_type": "stream",
     "text": [
      "count          5022\n",
      "unique            3\n",
      "top       02.Medium\n",
      "freq           3839\n",
      "Name: Asymmetrique Activity Index, dtype: object\n",
      "count          5022\n",
      "unique            3\n",
      "top       02.Medium\n",
      "freq           2788\n",
      "Name: Asymmetrique Profile Index, dtype: object\n",
      "count    5022.000000\n",
      "mean       14.306252\n",
      "std         1.386694\n",
      "min         7.000000\n",
      "25%        14.000000\n",
      "50%        14.000000\n",
      "75%        15.000000\n",
      "max        18.000000\n",
      "Name: Asymmetrique Activity Score, dtype: float64\n",
      "count    5022.000000\n",
      "mean       16.344883\n",
      "std         1.811395\n",
      "min        11.000000\n",
      "25%        15.000000\n",
      "50%        16.000000\n",
      "75%        18.000000\n",
      "max        20.000000\n",
      "Name: Asymmetrique Profile Score, dtype: float64\n"
     ]
    }
   ],
   "source": [
    "assym_vars = ['Asymmetrique Activity Index','Asymmetrique Profile Index','Asymmetrique Activity Score','Asymmetrique Profile Score']\n",
    "for col in assym_vars:\n",
    "    print(leads_data[col].describe())"
   ]
  },
  {
   "cell_type": "code",
   "execution_count": 24,
   "metadata": {
    "scrolled": false
   },
   "outputs": [
    {
     "name": "stdout",
     "output_type": "stream",
     "text": [
      "02.Medium    3839\n",
      "01.High       821\n",
      "03.Low        362\n",
      "Name: Asymmetrique Activity Index, dtype: int64\n",
      "02.Medium    2788\n",
      "01.High      2203\n",
      "03.Low         31\n",
      "Name: Asymmetrique Profile Index, dtype: int64\n",
      "14.0    1771\n",
      "15.0    1293\n",
      "13.0     775\n",
      "16.0     467\n",
      "17.0     349\n",
      "12.0     196\n",
      "11.0      95\n",
      "10.0      57\n",
      "9.0        9\n",
      "18.0       5\n",
      "8.0        4\n",
      "7.0        1\n",
      "Name: Asymmetrique Activity Score, dtype: int64\n",
      "15.0    1759\n",
      "18.0    1071\n",
      "16.0     599\n",
      "17.0     579\n",
      "20.0     308\n",
      "19.0     245\n",
      "14.0     226\n",
      "13.0     204\n",
      "12.0      22\n",
      "11.0       9\n",
      "Name: Asymmetrique Profile Score, dtype: int64\n"
     ]
    }
   ],
   "source": [
    "# Displaying frequencies for assym columns\n",
    "for col in assym_vars:\n",
    "    print(leads_data[col].value_counts())\n",
    "\n"
   ]
  },
  {
   "cell_type": "code",
   "execution_count": 25,
   "metadata": {},
   "outputs": [],
   "source": [
    "# As per the above results, unable to impute values in the assymteric columns, removing he cols seems to be better option\n",
    "leads_data.drop(assym_vars, axis=1, inplace=True)"
   ]
  },
  {
   "cell_type": "code",
   "execution_count": 26,
   "metadata": {
    "scrolled": false
   },
   "outputs": [
    {
     "data": {
      "text/plain": [
       "Prospect ID                                       0.00\n",
       "Lead Number                                       0.00\n",
       "Lead Origin                                       0.00\n",
       "Lead Source                                       0.39\n",
       "Do Not Email                                      0.00\n",
       "Do Not Call                                       0.00\n",
       "Converted                                         0.00\n",
       "TotalVisits                                       1.48\n",
       "Total Time Spent on Website                       0.00\n",
       "Page Views Per Visit                              1.48\n",
       "Last Activity                                     1.11\n",
       "Country                                          26.63\n",
       "Specialization                                   36.58\n",
       "What is your current occupation                  29.11\n",
       "What matters most to you in choosing a course    29.32\n",
       "Search                                            0.00\n",
       "Magazine                                          0.00\n",
       "Newspaper Article                                 0.00\n",
       "X Education Forums                                0.00\n",
       "Newspaper                                         0.00\n",
       "Digital Advertisement                             0.00\n",
       "Through Recommendations                           0.00\n",
       "Receive More Updates About Our Courses            0.00\n",
       "Tags                                             36.29\n",
       "Lead Quality                                      0.00\n",
       "Update me on Supply Chain Content                 0.00\n",
       "Get updates on DM Content                         0.00\n",
       "City                                             39.71\n",
       "I agree to pay the amount through cheque          0.00\n",
       "A free copy of Mastering The Interview            0.00\n",
       "Last Notable Activity                             0.00\n",
       "dtype: float64"
      ]
     },
     "execution_count": 26,
     "metadata": {},
     "output_type": "execute_result"
    }
   ],
   "source": [
    "round(100*(leads_data.isnull().sum()/len(leads_data.index)),2)"
   ]
  },
  {
   "cell_type": "code",
   "execution_count": 27,
   "metadata": {
    "scrolled": false
   },
   "outputs": [
    {
     "data": {
      "text/plain": [
       "[Text(0, 0, 'Mumbai'),\n",
       " Text(0, 0, 'Thane & Outskirts'),\n",
       " Text(0, 0, 'Other Metro Cities'),\n",
       " Text(0, 0, 'Other Cities'),\n",
       " Text(0, 0, 'Other Cities of Maharashtra'),\n",
       " Text(0, 0, 'Tier II Cities')]"
      ]
     },
     "execution_count": 27,
     "metadata": {},
     "output_type": "execute_result"
    },
    {
     "data": {
      "image/png": "[encoded data removed]",
      "text/plain": [
       "<Figure size 432x288 with 1 Axes>"
      ]
     },
     "metadata": {
      "needs_background": "light"
     },
     "output_type": "display_data"
    }
   ],
   "source": [
    "# Check with City column having next high % nan's\n",
    "g = sns.countplot(leads_data['City'])\n",
    "\n",
    "g.set_xticklabels(g.get_xticklabels(),rotation=90)"
   ]
  },
  {
   "cell_type": "code",
   "execution_count": 28,
   "metadata": {
    "scrolled": true
   },
   "outputs": [
    {
     "data": {
      "text/plain": [
       "Mumbai                         3222\n",
       "Thane & Outskirts               752\n",
       "Other Cities                    686\n",
       "Other Cities of Maharashtra     457\n",
       "Other Metro Cities              380\n",
       "Tier II Cities                   74\n",
       "Name: City, dtype: int64"
      ]
     },
     "execution_count": 28,
     "metadata": {},
     "output_type": "execute_result"
    }
   ],
   "source": [
    "#getting frequency of city\n",
    "leads_data['City'].value_counts()\n"
   ]
  },
  {
   "cell_type": "code",
   "execution_count": 29,
   "metadata": {
    "scrolled": true
   },
   "outputs": [
    {
     "data": {
      "text/plain": [
       "<matplotlib.axes._subplots.AxesSubplot at 0x17c93944f28>"
      ]
     },
     "execution_count": 29,
     "metadata": {},
     "output_type": "execute_result"
    },
    {
     "data": {
      "image/png": "[encoded data removed]",
      "text/plain": [
       "<Figure size 432x288 with 1 Axes>"
      ]
     },
     "metadata": {},
     "output_type": "display_data"
    }
   ],
   "source": [
    "leads_data['City'].value_counts().plot.pie()"
   ]
  },
  {
   "cell_type": "code",
   "execution_count": 30,
   "metadata": {},
   "outputs": [
    {
     "data": {
      "text/plain": [
       "Prospect ID                                       0.00\n",
       "Lead Number                                       0.00\n",
       "Lead Origin                                       0.00\n",
       "Lead Source                                       0.39\n",
       "Do Not Email                                      0.00\n",
       "Do Not Call                                       0.00\n",
       "Converted                                         0.00\n",
       "TotalVisits                                       1.48\n",
       "Total Time Spent on Website                       0.00\n",
       "Page Views Per Visit                              1.48\n",
       "Last Activity                                     1.11\n",
       "Country                                          26.63\n",
       "Specialization                                   36.58\n",
       "What is your current occupation                  29.11\n",
       "What matters most to you in choosing a course    29.32\n",
       "Search                                            0.00\n",
       "Magazine                                          0.00\n",
       "Newspaper Article                                 0.00\n",
       "X Education Forums                                0.00\n",
       "Newspaper                                         0.00\n",
       "Digital Advertisement                             0.00\n",
       "Through Recommendations                           0.00\n",
       "Receive More Updates About Our Courses            0.00\n",
       "Tags                                             36.29\n",
       "Lead Quality                                      0.00\n",
       "Update me on Supply Chain Content                 0.00\n",
       "Get updates on DM Content                         0.00\n",
       "City                                             39.71\n",
       "I agree to pay the amount through cheque          0.00\n",
       "A free copy of Mastering The Interview            0.00\n",
       "Last Notable Activity                             0.00\n",
       "dtype: float64"
      ]
     },
     "execution_count": 30,
     "metadata": {},
     "output_type": "execute_result"
    }
   ],
   "source": [
    "round(100*(leads_data.isnull().sum()/len(leads_data.index)),2)"
   ]
  },
  {
   "cell_type": "code",
   "execution_count": 31,
   "metadata": {},
   "outputs": [
    {
     "data": {
      "text/plain": [
       "array(['Mumbai', 'Thane & Outskirts', 'Other Metro Cities',\n",
       "       'Other Cities', 'Other Cities of Maharashtra', 'Tier II Cities'],\n",
       "      dtype=object)"
      ]
     },
     "execution_count": 31,
     "metadata": {},
     "output_type": "execute_result"
    }
   ],
   "source": [
    "# Mumbai is almost having 70 % values in city colum. lets impute Mumbai in nan's\n",
    "leads_data['City'].fillna(\"Mumbai\", inplace = True) \n",
    "\n",
    "leads_data['City'].unique()"
   ]
  },
  {
   "cell_type": "code",
   "execution_count": 32,
   "metadata": {},
   "outputs": [
    {
     "data": {
      "text/plain": [
       "[Text(0, 0, 'Business Administration'),\n",
       " Text(0, 0, 'Media and Advertising'),\n",
       " Text(0, 0, 'Supply Chain Management'),\n",
       " Text(0, 0, 'IT Projects Management'),\n",
       " Text(0, 0, 'Finance Management'),\n",
       " Text(0, 0, 'Travel and Tourism'),\n",
       " Text(0, 0, 'Human Resource Management'),\n",
       " Text(0, 0, 'Marketing Management'),\n",
       " Text(0, 0, 'Banking, Investment And Insurance'),\n",
       " Text(0, 0, 'International Business'),\n",
       " Text(0, 0, 'E-COMMERCE'),\n",
       " Text(0, 0, 'Operations Management'),\n",
       " Text(0, 0, 'Retail Management'),\n",
       " Text(0, 0, 'Services Excellence'),\n",
       " Text(0, 0, 'Hospitality Management'),\n",
       " Text(0, 0, 'Rural and Agribusiness'),\n",
       " Text(0, 0, 'Healthcare Management'),\n",
       " Text(0, 0, 'E-Business')]"
      ]
     },
     "execution_count": 32,
     "metadata": {},
     "output_type": "execute_result"
    },
    {
     "data": {
      "image/png": "[encoded data removed]",
      "text/plain": [
       "<Figure size 432x288 with 1 Axes>"
      ]
     },
     "metadata": {
      "needs_background": "light"
     },
     "output_type": "display_data"
    }
   ],
   "source": [
    "# Next highest nan's column = Specialization\n",
    "g = sns.countplot(leads_data['Specialization'])\n",
    "\n",
    "g.set_xticklabels(g.get_xticklabels(),rotation=90)"
   ]
  },
  {
   "cell_type": "code",
   "execution_count": 33,
   "metadata": {},
   "outputs": [
    {
     "data": {
      "text/plain": [
       "Finance Management                   976\n",
       "Human Resource Management            848\n",
       "Marketing Management                 838\n",
       "Operations Management                503\n",
       "Business Administration              403\n",
       "IT Projects Management               366\n",
       "Supply Chain Management              349\n",
       "Banking, Investment And Insurance    338\n",
       "Travel and Tourism                   203\n",
       "Media and Advertising                203\n",
       "International Business               178\n",
       "Healthcare Management                159\n",
       "Hospitality Management               114\n",
       "E-COMMERCE                           112\n",
       "Retail Management                    100\n",
       "Rural and Agribusiness                73\n",
       "E-Business                            57\n",
       "Services Excellence                   40\n",
       "Name: Specialization, dtype: int64"
      ]
     },
     "execution_count": 33,
     "metadata": {},
     "output_type": "execute_result"
    }
   ],
   "source": [
    "# Unable to impute any value and count of values varies differently.. Lets see if we can imput e any other value for labelling nan's\n",
    "\n",
    "# Deletion is not correct option _ lets think twice before deleting this column\n",
    "\n",
    "\n",
    "leads_data['Specialization'].value_counts()\n"
   ]
  },
  {
   "cell_type": "code",
   "execution_count": 34,
   "metadata": {
    "scrolled": false
   },
   "outputs": [
    {
     "data": {
      "text/plain": [
       "<matplotlib.axes._subplots.AxesSubplot at 0x17c93a5df28>"
      ]
     },
     "execution_count": 34,
     "metadata": {},
     "output_type": "execute_result"
    },
    {
     "data": {
      "image/png": "[encoded data removed]",
      "text/plain": [
       "<Figure size 432x288 with 1 Axes>"
      ]
     },
     "metadata": {},
     "output_type": "display_data"
    }
   ],
   "source": [
    "leads_data['Specialization'].value_counts().plot.pie()\n"
   ]
  },
  {
   "cell_type": "code",
   "execution_count": 35,
   "metadata": {},
   "outputs": [],
   "source": [
    "# Imputing the specialization column with others\n",
    "leads_data['Specialization'].fillna(\"Others\", inplace = True) \n"
   ]
  },
  {
   "cell_type": "code",
   "execution_count": 36,
   "metadata": {
    "scrolled": true
   },
   "outputs": [
    {
     "data": {
      "text/plain": [
       "Others                               3380\n",
       "Finance Management                    976\n",
       "Human Resource Management             848\n",
       "Marketing Management                  838\n",
       "Operations Management                 503\n",
       "Business Administration               403\n",
       "IT Projects Management                366\n",
       "Supply Chain Management               349\n",
       "Banking, Investment And Insurance     338\n",
       "Travel and Tourism                    203\n",
       "Media and Advertising                 203\n",
       "International Business                178\n",
       "Healthcare Management                 159\n",
       "Hospitality Management                114\n",
       "E-COMMERCE                            112\n",
       "Retail Management                     100\n",
       "Rural and Agribusiness                 73\n",
       "E-Business                             57\n",
       "Services Excellence                    40\n",
       "Name: Specialization, dtype: int64"
      ]
     },
     "execution_count": 36,
     "metadata": {},
     "output_type": "execute_result"
    }
   ],
   "source": [
    "leads_data['Specialization'].value_counts()"
   ]
  },
  {
   "cell_type": "code",
   "execution_count": 37,
   "metadata": {},
   "outputs": [
    {
     "data": {
      "text/plain": [
       "Prospect ID                                       0.00\n",
       "Lead Number                                       0.00\n",
       "Lead Origin                                       0.00\n",
       "Lead Source                                       0.39\n",
       "Do Not Email                                      0.00\n",
       "Do Not Call                                       0.00\n",
       "Converted                                         0.00\n",
       "TotalVisits                                       1.48\n",
       "Total Time Spent on Website                       0.00\n",
       "Page Views Per Visit                              1.48\n",
       "Last Activity                                     1.11\n",
       "Country                                          26.63\n",
       "Specialization                                    0.00\n",
       "What is your current occupation                  29.11\n",
       "What matters most to you in choosing a course    29.32\n",
       "Search                                            0.00\n",
       "Magazine                                          0.00\n",
       "Newspaper Article                                 0.00\n",
       "X Education Forums                                0.00\n",
       "Newspaper                                         0.00\n",
       "Digital Advertisement                             0.00\n",
       "Through Recommendations                           0.00\n",
       "Receive More Updates About Our Courses            0.00\n",
       "Tags                                             36.29\n",
       "Lead Quality                                      0.00\n",
       "Update me on Supply Chain Content                 0.00\n",
       "Get updates on DM Content                         0.00\n",
       "City                                              0.00\n",
       "I agree to pay the amount through cheque          0.00\n",
       "A free copy of Mastering The Interview            0.00\n",
       "Last Notable Activity                             0.00\n",
       "dtype: float64"
      ]
     },
     "execution_count": 37,
     "metadata": {},
     "output_type": "execute_result"
    }
   ],
   "source": [
    "round(100*(leads_data.isnull().sum()/len(leads_data.index)),2)"
   ]
  },
  {
   "cell_type": "code",
   "execution_count": 38,
   "metadata": {},
   "outputs": [
    {
     "data": {
      "text/plain": [
       "[Text(0, 0, 'Interested in other courses'),\n",
       " Text(0, 0, 'Ringing'),\n",
       " Text(0, 0, 'Will revert after reading the email'),\n",
       " Text(0, 0, 'Lost to EINS'),\n",
       " Text(0, 0, 'In confusion whether part time or DLP'),\n",
       " Text(0, 0, 'Busy'),\n",
       " Text(0, 0, 'switched off'),\n",
       " Text(0, 0, 'in touch with EINS'),\n",
       " Text(0, 0, 'Already a student'),\n",
       " Text(0, 0, 'Diploma holder (Not Eligible)'),\n",
       " Text(0, 0, 'Graduation in progress'),\n",
       " Text(0, 0, 'Closed by Horizzon'),\n",
       " Text(0, 0, 'number not provided'),\n",
       " Text(0, 0, 'opp hangup'),\n",
       " Text(0, 0, 'Not doing further education'),\n",
       " Text(0, 0, 'invalid number'),\n",
       " Text(0, 0, 'wrong number given'),\n",
       " Text(0, 0, 'Interested  in full time MBA'),\n",
       " Text(0, 0, 'Still Thinking'),\n",
       " Text(0, 0, 'Lost to Others'),\n",
       " Text(0, 0, 'Shall take in the next coming month'),\n",
       " Text(0, 0, 'Lateral student'),\n",
       " Text(0, 0, 'Interested in Next batch'),\n",
       " Text(0, 0, 'Recognition issue (DEC approval)'),\n",
       " Text(0, 0, 'Want to take admission but has financial problems'),\n",
       " Text(0, 0, 'University not recognized')]"
      ]
     },
     "execution_count": 38,
     "metadata": {},
     "output_type": "execute_result"
    },
    {
     "data": {
      "image/png": "[encoded data removed]",
      "text/plain": [
       "<Figure size 432x288 with 1 Axes>"
      ]
     },
     "metadata": {
      "needs_background": "light"
     },
     "output_type": "display_data"
    }
   ],
   "source": [
    "\n",
    "# Next highest nan's column = Tags\n",
    "g = sns.countplot(leads_data['Tags'])\n",
    "\n",
    "g.set_xticklabels(g.get_xticklabels(),rotation=90)"
   ]
  },
  {
   "cell_type": "code",
   "execution_count": 39,
   "metadata": {
    "scrolled": false
   },
   "outputs": [
    {
     "data": {
      "text/plain": [
       "Will revert after reading the email                  2072\n",
       "Ringing                                              1203\n",
       "Interested in other courses                           513\n",
       "Already a student                                     465\n",
       "Closed by Horizzon                                    358\n",
       "switched off                                          240\n",
       "Busy                                                  186\n",
       "Lost to EINS                                          175\n",
       "Not doing further education                           145\n",
       "Interested  in full time MBA                          117\n",
       "Graduation in progress                                111\n",
       "invalid number                                         83\n",
       "Diploma holder (Not Eligible)                          63\n",
       "wrong number given                                     47\n",
       "opp hangup                                             33\n",
       "number not provided                                    27\n",
       "in touch with EINS                                     12\n",
       "Lost to Others                                          7\n",
       "Still Thinking                                          6\n",
       "Want to take admission but has financial problems       6\n",
       "Interested in Next batch                                5\n",
       "In confusion whether part time or DLP                   5\n",
       "Lateral student                                         3\n",
       "University not recognized                               2\n",
       "Shall take in the next coming month                     2\n",
       "Recognition issue (DEC approval)                        1\n",
       "Name: Tags, dtype: int64"
      ]
     },
     "execution_count": 39,
     "metadata": {},
     "output_type": "execute_result"
    }
   ],
   "source": [
    "# Unable to impute any value and count of values varies differently.. Lets see if we can imput e any other value for labelling nan's\n",
    "\n",
    "# Deletion is not correct option _ lets think twice before deleting this column\n",
    "\n",
    "\n",
    "leads_data['Tags'].value_counts()"
   ]
  },
  {
   "cell_type": "code",
   "execution_count": 40,
   "metadata": {
    "scrolled": true
   },
   "outputs": [
    {
     "data": {
      "text/plain": [
       "<matplotlib.axes._subplots.AxesSubplot at 0x17c944892e8>"
      ]
     },
     "execution_count": 40,
     "metadata": {},
     "output_type": "execute_result"
    },
    {
     "data": {
      "image/png": "[encoded data removed]",
      "text/plain": [
       "<Figure size 432x288 with 1 Axes>"
      ]
     },
     "metadata": {},
     "output_type": "display_data"
    }
   ],
   "source": [
    "leads_data['Tags'].value_counts().plot.pie()"
   ]
  },
  {
   "cell_type": "code",
   "execution_count": 41,
   "metadata": {
    "scrolled": false
   },
   "outputs": [
    {
     "data": {
      "text/plain": [
       "Other issues                                         3353\n",
       "Will revert after reading the email                  2072\n",
       "Ringing                                              1203\n",
       "Interested in other courses                           513\n",
       "Already a student                                     465\n",
       "Closed by Horizzon                                    358\n",
       "switched off                                          240\n",
       "Busy                                                  186\n",
       "Lost to EINS                                          175\n",
       "Not doing further education                           145\n",
       "Interested  in full time MBA                          117\n",
       "Graduation in progress                                111\n",
       "invalid number                                         83\n",
       "Diploma holder (Not Eligible)                          63\n",
       "wrong number given                                     47\n",
       "opp hangup                                             33\n",
       "number not provided                                    27\n",
       "in touch with EINS                                     12\n",
       "Lost to Others                                          7\n",
       "Still Thinking                                          6\n",
       "Want to take admission but has financial problems       6\n",
       "Interested in Next batch                                5\n",
       "In confusion whether part time or DLP                   5\n",
       "Lateral student                                         3\n",
       "University not recognized                               2\n",
       "Shall take in the next coming month                     2\n",
       "Recognition issue (DEC approval)                        1\n",
       "Name: Tags, dtype: int64"
      ]
     },
     "execution_count": 41,
     "metadata": {},
     "output_type": "execute_result"
    }
   ],
   "source": [
    "# It is difficult to choose the value b/w 'will revert after reading mail' and 'ringing'. Thought of going to impute the missing values\n",
    "# with new value 'Other issues'\n",
    "\n",
    "leads_data['Tags'].fillna(\"Other issues\", inplace = True) \n",
    "\n",
    "leads_data['Tags'].value_counts()"
   ]
  },
  {
   "cell_type": "code",
   "execution_count": 42,
   "metadata": {
    "scrolled": false
   },
   "outputs": [
    {
     "data": {
      "text/plain": [
       "Prospect ID                                       0.00\n",
       "Lead Number                                       0.00\n",
       "Lead Origin                                       0.00\n",
       "Lead Source                                       0.39\n",
       "Do Not Email                                      0.00\n",
       "Do Not Call                                       0.00\n",
       "Converted                                         0.00\n",
       "TotalVisits                                       1.48\n",
       "Total Time Spent on Website                       0.00\n",
       "Page Views Per Visit                              1.48\n",
       "Last Activity                                     1.11\n",
       "Country                                          26.63\n",
       "Specialization                                    0.00\n",
       "What is your current occupation                  29.11\n",
       "What matters most to you in choosing a course    29.32\n",
       "Search                                            0.00\n",
       "Magazine                                          0.00\n",
       "Newspaper Article                                 0.00\n",
       "X Education Forums                                0.00\n",
       "Newspaper                                         0.00\n",
       "Digital Advertisement                             0.00\n",
       "Through Recommendations                           0.00\n",
       "Receive More Updates About Our Courses            0.00\n",
       "Tags                                              0.00\n",
       "Lead Quality                                      0.00\n",
       "Update me on Supply Chain Content                 0.00\n",
       "Get updates on DM Content                         0.00\n",
       "City                                              0.00\n",
       "I agree to pay the amount through cheque          0.00\n",
       "A free copy of Mastering The Interview            0.00\n",
       "Last Notable Activity                             0.00\n",
       "dtype: float64"
      ]
     },
     "execution_count": 42,
     "metadata": {},
     "output_type": "execute_result"
    }
   ],
   "source": [
    "round(100*(leads_data.isnull().sum()/len(leads_data.index)),2)"
   ]
  },
  {
   "cell_type": "code",
   "execution_count": 43,
   "metadata": {},
   "outputs": [
    {
     "data": {
      "text/plain": [
       "[Text(0, 0, 'Better Career Prospects'),\n",
       " Text(0, 0, 'Flexibility & Convenience'),\n",
       " Text(0, 0, 'Other')]"
      ]
     },
     "execution_count": 43,
     "metadata": {},
     "output_type": "execute_result"
    },
    {
     "data": {
      "image/png": "[encoded data removed]",
      "text/plain": [
       "<Figure size 432x288 with 1 Axes>"
      ]
     },
     "metadata": {
      "needs_background": "light"
     },
     "output_type": "display_data"
    }
   ],
   "source": [
    "# Next highest nan's column = What matters most to you in choosing a course\n",
    "g = sns.countplot(leads_data['What matters most to you in choosing a course'])\n",
    "\n",
    "g.set_xticklabels(g.get_xticklabels(),rotation=90)"
   ]
  },
  {
   "cell_type": "code",
   "execution_count": 44,
   "metadata": {},
   "outputs": [
    {
     "data": {
      "text/plain": [
       "Better Career Prospects      6528\n",
       "Flexibility & Convenience       2\n",
       "Other                           1\n",
       "Name: What matters most to you in choosing a course, dtype: int64"
      ]
     },
     "execution_count": 44,
     "metadata": {},
     "output_type": "execute_result"
    }
   ],
   "source": [
    "leads_data['What matters most to you in choosing a course'].value_counts()\n",
    "#leads_data['What matters most to you in choosing a course'].value_counts().plot.pie()"
   ]
  },
  {
   "cell_type": "code",
   "execution_count": 45,
   "metadata": {
    "scrolled": true
   },
   "outputs": [
    {
     "data": {
      "text/plain": [
       "Better Career Prospects      9237\n",
       "Flexibility & Convenience       2\n",
       "Other                           1\n",
       "Name: What matters most to you in choosing a course, dtype: int64"
      ]
     },
     "execution_count": 45,
     "metadata": {},
     "output_type": "execute_result"
    }
   ],
   "source": [
    "# Imputing ''What matters most to you in choosing a course' with 'Better Career Prospects'\n",
    "leads_data['What matters most to you in choosing a course'].fillna(\"Better Career Prospects\", inplace = True) \n",
    "\n",
    "leads_data['What matters most to you in choosing a course'].value_counts()"
   ]
  },
  {
   "cell_type": "code",
   "execution_count": 46,
   "metadata": {},
   "outputs": [
    {
     "data": {
      "text/plain": [
       "Prospect ID                                       0.00\n",
       "Lead Number                                       0.00\n",
       "Lead Origin                                       0.00\n",
       "Lead Source                                       0.39\n",
       "Do Not Email                                      0.00\n",
       "Do Not Call                                       0.00\n",
       "Converted                                         0.00\n",
       "TotalVisits                                       1.48\n",
       "Total Time Spent on Website                       0.00\n",
       "Page Views Per Visit                              1.48\n",
       "Last Activity                                     1.11\n",
       "Country                                          26.63\n",
       "Specialization                                    0.00\n",
       "What is your current occupation                  29.11\n",
       "What matters most to you in choosing a course     0.00\n",
       "Search                                            0.00\n",
       "Magazine                                          0.00\n",
       "Newspaper Article                                 0.00\n",
       "X Education Forums                                0.00\n",
       "Newspaper                                         0.00\n",
       "Digital Advertisement                             0.00\n",
       "Through Recommendations                           0.00\n",
       "Receive More Updates About Our Courses            0.00\n",
       "Tags                                              0.00\n",
       "Lead Quality                                      0.00\n",
       "Update me on Supply Chain Content                 0.00\n",
       "Get updates on DM Content                         0.00\n",
       "City                                              0.00\n",
       "I agree to pay the amount through cheque          0.00\n",
       "A free copy of Mastering The Interview            0.00\n",
       "Last Notable Activity                             0.00\n",
       "dtype: float64"
      ]
     },
     "execution_count": 46,
     "metadata": {},
     "output_type": "execute_result"
    }
   ],
   "source": [
    "round(100*(leads_data.isnull().sum()/len(leads_data.index)),2)"
   ]
  },
  {
   "cell_type": "code",
   "execution_count": 47,
   "metadata": {
    "scrolled": false
   },
   "outputs": [
    {
     "data": {
      "text/plain": [
       "[Text(0, 0, 'Unemployed'),\n",
       " Text(0, 0, 'Student'),\n",
       " Text(0, 0, 'Working Professional'),\n",
       " Text(0, 0, 'Businessman'),\n",
       " Text(0, 0, 'Other'),\n",
       " Text(0, 0, 'Housewife')]"
      ]
     },
     "execution_count": 47,
     "metadata": {},
     "output_type": "execute_result"
    },
    {
     "data": {
      "image/png": "[encoded data removed]",
      "text/plain": [
       "<Figure size 432x288 with 1 Axes>"
      ]
     },
     "metadata": {
      "needs_background": "light"
     },
     "output_type": "display_data"
    }
   ],
   "source": [
    "# Next highest nan's column = What is your current occupation\n",
    "g = sns.countplot(leads_data['What is your current occupation'])\n",
    "\n",
    "g.set_xticklabels(g.get_xticklabels(),rotation=90)"
   ]
  },
  {
   "cell_type": "code",
   "execution_count": 48,
   "metadata": {
    "scrolled": true
   },
   "outputs": [
    {
     "data": {
      "text/plain": [
       "Unemployed              5600\n",
       "Working Professional     706\n",
       "Student                  210\n",
       "Other                     16\n",
       "Housewife                 10\n",
       "Businessman                8\n",
       "Name: What is your current occupation, dtype: int64"
      ]
     },
     "execution_count": 48,
     "metadata": {},
     "output_type": "execute_result"
    }
   ],
   "source": [
    "leads_data['What is your current occupation'].value_counts()"
   ]
  },
  {
   "cell_type": "code",
   "execution_count": 49,
   "metadata": {
    "scrolled": true
   },
   "outputs": [
    {
     "data": {
      "text/plain": [
       "Unemployed              8290\n",
       "Working Professional     706\n",
       "Student                  210\n",
       "Other                     16\n",
       "Housewife                 10\n",
       "Businessman                8\n",
       "Name: What is your current occupation, dtype: int64"
      ]
     },
     "execution_count": 49,
     "metadata": {},
     "output_type": "execute_result"
    }
   ],
   "source": [
    "# Imputing ''What is your current occupation' with 'Unemployed'\n",
    "leads_data['What is your current occupation'].fillna(\"Unemployed\", inplace = True) \n",
    "\n",
    "leads_data['What is your current occupation'].value_counts()"
   ]
  },
  {
   "cell_type": "code",
   "execution_count": 50,
   "metadata": {
    "scrolled": false
   },
   "outputs": [
    {
     "data": {
      "text/plain": [
       "Prospect ID                                       0.00\n",
       "Lead Number                                       0.00\n",
       "Lead Origin                                       0.00\n",
       "Lead Source                                       0.39\n",
       "Do Not Email                                      0.00\n",
       "Do Not Call                                       0.00\n",
       "Converted                                         0.00\n",
       "TotalVisits                                       1.48\n",
       "Total Time Spent on Website                       0.00\n",
       "Page Views Per Visit                              1.48\n",
       "Last Activity                                     1.11\n",
       "Country                                          26.63\n",
       "Specialization                                    0.00\n",
       "What is your current occupation                   0.00\n",
       "What matters most to you in choosing a course     0.00\n",
       "Search                                            0.00\n",
       "Magazine                                          0.00\n",
       "Newspaper Article                                 0.00\n",
       "X Education Forums                                0.00\n",
       "Newspaper                                         0.00\n",
       "Digital Advertisement                             0.00\n",
       "Through Recommendations                           0.00\n",
       "Receive More Updates About Our Courses            0.00\n",
       "Tags                                              0.00\n",
       "Lead Quality                                      0.00\n",
       "Update me on Supply Chain Content                 0.00\n",
       "Get updates on DM Content                         0.00\n",
       "City                                              0.00\n",
       "I agree to pay the amount through cheque          0.00\n",
       "A free copy of Mastering The Interview            0.00\n",
       "Last Notable Activity                             0.00\n",
       "dtype: float64"
      ]
     },
     "execution_count": 50,
     "metadata": {},
     "output_type": "execute_result"
    }
   ],
   "source": [
    "round(100*(leads_data.isnull().sum()/len(leads_data.index)),2)"
   ]
  },
  {
   "cell_type": "code",
   "execution_count": 51,
   "metadata": {
    "scrolled": false
   },
   "outputs": [
    {
     "data": {
      "text/plain": [
       "[Text(0, 0, 'India'),\n",
       " Text(0, 0, 'Russia'),\n",
       " Text(0, 0, 'Kuwait'),\n",
       " Text(0, 0, 'Oman'),\n",
       " Text(0, 0, 'United Arab Emirates'),\n",
       " Text(0, 0, 'United States'),\n",
       " Text(0, 0, 'Australia'),\n",
       " Text(0, 0, 'United Kingdom'),\n",
       " Text(0, 0, 'Bahrain'),\n",
       " Text(0, 0, 'Ghana'),\n",
       " Text(0, 0, 'Singapore'),\n",
       " Text(0, 0, 'Qatar'),\n",
       " Text(0, 0, 'Saudi Arabia'),\n",
       " Text(0, 0, 'Belgium'),\n",
       " Text(0, 0, 'France'),\n",
       " Text(0, 0, 'Sri Lanka'),\n",
       " Text(0, 0, 'China'),\n",
       " Text(0, 0, 'Canada'),\n",
       " Text(0, 0, 'Netherlands'),\n",
       " Text(0, 0, 'Sweden'),\n",
       " Text(0, 0, 'Nigeria'),\n",
       " Text(0, 0, 'Hong Kong'),\n",
       " Text(0, 0, 'Germany'),\n",
       " Text(0, 0, 'Asia/Pacific Region'),\n",
       " Text(0, 0, 'Uganda'),\n",
       " Text(0, 0, 'Kenya'),\n",
       " Text(0, 0, 'Italy'),\n",
       " Text(0, 0, 'South Africa'),\n",
       " Text(0, 0, 'Tanzania'),\n",
       " Text(0, 0, 'unknown'),\n",
       " Text(0, 0, 'Malaysia'),\n",
       " Text(0, 0, 'Liberia'),\n",
       " Text(0, 0, 'Switzerland'),\n",
       " Text(0, 0, 'Denmark'),\n",
       " Text(0, 0, 'Philippines'),\n",
       " Text(0, 0, 'Bangladesh'),\n",
       " Text(0, 0, 'Vietnam'),\n",
       " Text(0, 0, 'Indonesia')]"
      ]
     },
     "execution_count": 51,
     "metadata": {},
     "output_type": "execute_result"
    },
    {
     "data": {
      "image/png": "[encoded data removed]",
      "text/plain": [
       "<Figure size 432x288 with 1 Axes>"
      ]
     },
     "metadata": {
      "needs_background": "light"
     },
     "output_type": "display_data"
    }
   ],
   "source": [
    "# Next highest nan's column = Country\n",
    "g = sns.countplot(leads_data['Country'])\n",
    "\n",
    "g.set_xticklabels(g.get_xticklabels(),rotation=90)"
   ]
  },
  {
   "cell_type": "code",
   "execution_count": 52,
   "metadata": {
    "scrolled": false
   },
   "outputs": [
    {
     "data": {
      "text/plain": [
       "India                   6492\n",
       "United States             69\n",
       "United Arab Emirates      53\n",
       "Singapore                 24\n",
       "Saudi Arabia              21\n",
       "United Kingdom            15\n",
       "Australia                 13\n",
       "Qatar                     10\n",
       "Bahrain                    7\n",
       "Hong Kong                  7\n",
       "France                     6\n",
       "Oman                       6\n",
       "unknown                    5\n",
       "Nigeria                    4\n",
       "Kuwait                     4\n",
       "Germany                    4\n",
       "Canada                     4\n",
       "South Africa               4\n",
       "Sweden                     3\n",
       "China                      2\n",
       "Uganda                     2\n",
       "Bangladesh                 2\n",
       "Ghana                      2\n",
       "Belgium                    2\n",
       "Asia/Pacific Region        2\n",
       "Netherlands                2\n",
       "Philippines                2\n",
       "Italy                      2\n",
       "Malaysia                   1\n",
       "Vietnam                    1\n",
       "Denmark                    1\n",
       "Sri Lanka                  1\n",
       "Liberia                    1\n",
       "Tanzania                   1\n",
       "Russia                     1\n",
       "Kenya                      1\n",
       "Switzerland                1\n",
       "Indonesia                  1\n",
       "Name: Country, dtype: int64"
      ]
     },
     "execution_count": 52,
     "metadata": {},
     "output_type": "execute_result"
    }
   ],
   "source": [
    "leads_data['Country'].value_counts()"
   ]
  },
  {
   "cell_type": "code",
   "execution_count": 53,
   "metadata": {
    "scrolled": false
   },
   "outputs": [
    {
     "data": {
      "text/plain": [
       "India                   8953\n",
       "United States             69\n",
       "United Arab Emirates      53\n",
       "Singapore                 24\n",
       "Saudi Arabia              21\n",
       "United Kingdom            15\n",
       "Australia                 13\n",
       "Qatar                     10\n",
       "Bahrain                    7\n",
       "Hong Kong                  7\n",
       "France                     6\n",
       "Oman                       6\n",
       "unknown                    5\n",
       "Nigeria                    4\n",
       "Kuwait                     4\n",
       "Germany                    4\n",
       "Canada                     4\n",
       "South Africa               4\n",
       "Sweden                     3\n",
       "China                      2\n",
       "Uganda                     2\n",
       "Bangladesh                 2\n",
       "Ghana                      2\n",
       "Belgium                    2\n",
       "Asia/Pacific Region        2\n",
       "Netherlands                2\n",
       "Philippines                2\n",
       "Italy                      2\n",
       "Malaysia                   1\n",
       "Vietnam                    1\n",
       "Denmark                    1\n",
       "Sri Lanka                  1\n",
       "Liberia                    1\n",
       "Tanzania                   1\n",
       "Russia                     1\n",
       "Kenya                      1\n",
       "Switzerland                1\n",
       "Indonesia                  1\n",
       "Name: Country, dtype: int64"
      ]
     },
     "execution_count": 53,
     "metadata": {},
     "output_type": "execute_result"
    }
   ],
   "source": [
    "# Imputing ''Country' with 'India'\n",
    "leads_data['Country'].fillna(\"India\", inplace = True) \n",
    "\n",
    "leads_data['Country'].value_counts()"
   ]
  },
  {
   "cell_type": "code",
   "execution_count": 54,
   "metadata": {},
   "outputs": [
    {
     "data": {
      "text/plain": [
       "Prospect ID                                      0.00\n",
       "Lead Number                                      0.00\n",
       "Lead Origin                                      0.00\n",
       "Lead Source                                      0.39\n",
       "Do Not Email                                     0.00\n",
       "Do Not Call                                      0.00\n",
       "Converted                                        0.00\n",
       "TotalVisits                                      1.48\n",
       "Total Time Spent on Website                      0.00\n",
       "Page Views Per Visit                             1.48\n",
       "Last Activity                                    1.11\n",
       "Country                                          0.00\n",
       "Specialization                                   0.00\n",
       "What is your current occupation                  0.00\n",
       "What matters most to you in choosing a course    0.00\n",
       "Search                                           0.00\n",
       "Magazine                                         0.00\n",
       "Newspaper Article                                0.00\n",
       "X Education Forums                               0.00\n",
       "Newspaper                                        0.00\n",
       "Digital Advertisement                            0.00\n",
       "Through Recommendations                          0.00\n",
       "Receive More Updates About Our Courses           0.00\n",
       "Tags                                             0.00\n",
       "Lead Quality                                     0.00\n",
       "Update me on Supply Chain Content                0.00\n",
       "Get updates on DM Content                        0.00\n",
       "City                                             0.00\n",
       "I agree to pay the amount through cheque         0.00\n",
       "A free copy of Mastering The Interview           0.00\n",
       "Last Notable Activity                            0.00\n",
       "dtype: float64"
      ]
     },
     "execution_count": 54,
     "metadata": {},
     "output_type": "execute_result"
    }
   ],
   "source": [
    "round(100*(leads_data.isnull().sum()/len(leads_data.index)),2)"
   ]
  },
  {
   "cell_type": "code",
   "execution_count": 55,
   "metadata": {
    "scrolled": true
   },
   "outputs": [
    {
     "data": {
      "text/html": [
       "<div>\n",
       "<style scoped>\n",
       "    .dataframe tbody tr th:only-of-type {\n",
       "        vertical-align: middle;\n",
       "    }\n",
       "\n",
       "    .dataframe tbody tr th {\n",
       "        vertical-align: top;\n",
       "    }\n",
       "\n",
       "    .dataframe thead th {\n",
       "        text-align: right;\n",
       "    }\n",
       "</style>\n",
       "<table border=\"1\" class=\"dataframe\">\n",
       "  <thead>\n",
       "    <tr style=\"text-align: right;\">\n",
       "      <th></th>\n",
       "      <th>Lead Number</th>\n",
       "      <th>Converted</th>\n",
       "      <th>TotalVisits</th>\n",
       "      <th>Total Time Spent on Website</th>\n",
       "      <th>Page Views Per Visit</th>\n",
       "    </tr>\n",
       "  </thead>\n",
       "  <tbody>\n",
       "    <tr>\n",
       "      <th>count</th>\n",
       "      <td>9240.000000</td>\n",
       "      <td>9240.000000</td>\n",
       "      <td>9103.000000</td>\n",
       "      <td>9240.000000</td>\n",
       "      <td>9103.000000</td>\n",
       "    </tr>\n",
       "    <tr>\n",
       "      <th>mean</th>\n",
       "      <td>617188.435606</td>\n",
       "      <td>0.385390</td>\n",
       "      <td>3.445238</td>\n",
       "      <td>487.698268</td>\n",
       "      <td>2.362820</td>\n",
       "    </tr>\n",
       "    <tr>\n",
       "      <th>std</th>\n",
       "      <td>23405.995698</td>\n",
       "      <td>0.486714</td>\n",
       "      <td>4.854853</td>\n",
       "      <td>548.021466</td>\n",
       "      <td>2.161418</td>\n",
       "    </tr>\n",
       "    <tr>\n",
       "      <th>min</th>\n",
       "      <td>579533.000000</td>\n",
       "      <td>0.000000</td>\n",
       "      <td>0.000000</td>\n",
       "      <td>0.000000</td>\n",
       "      <td>0.000000</td>\n",
       "    </tr>\n",
       "    <tr>\n",
       "      <th>25%</th>\n",
       "      <td>596484.500000</td>\n",
       "      <td>0.000000</td>\n",
       "      <td>1.000000</td>\n",
       "      <td>12.000000</td>\n",
       "      <td>1.000000</td>\n",
       "    </tr>\n",
       "    <tr>\n",
       "      <th>50%</th>\n",
       "      <td>615479.000000</td>\n",
       "      <td>0.000000</td>\n",
       "      <td>3.000000</td>\n",
       "      <td>248.000000</td>\n",
       "      <td>2.000000</td>\n",
       "    </tr>\n",
       "    <tr>\n",
       "      <th>75%</th>\n",
       "      <td>637387.250000</td>\n",
       "      <td>1.000000</td>\n",
       "      <td>5.000000</td>\n",
       "      <td>936.000000</td>\n",
       "      <td>3.000000</td>\n",
       "    </tr>\n",
       "    <tr>\n",
       "      <th>max</th>\n",
       "      <td>660737.000000</td>\n",
       "      <td>1.000000</td>\n",
       "      <td>251.000000</td>\n",
       "      <td>2272.000000</td>\n",
       "      <td>55.000000</td>\n",
       "    </tr>\n",
       "  </tbody>\n",
       "</table>\n",
       "</div>"
      ],
      "text/plain": [
       "         Lead Number    Converted  TotalVisits  Total Time Spent on Website  \\\n",
       "count    9240.000000  9240.000000  9103.000000                  9240.000000   \n",
       "mean   617188.435606     0.385390     3.445238                   487.698268   \n",
       "std     23405.995698     0.486714     4.854853                   548.021466   \n",
       "min    579533.000000     0.000000     0.000000                     0.000000   \n",
       "25%    596484.500000     0.000000     1.000000                    12.000000   \n",
       "50%    615479.000000     0.000000     3.000000                   248.000000   \n",
       "75%    637387.250000     1.000000     5.000000                   936.000000   \n",
       "max    660737.000000     1.000000   251.000000                  2272.000000   \n",
       "\n",
       "       Page Views Per Visit  \n",
       "count           9103.000000  \n",
       "mean               2.362820  \n",
       "std                2.161418  \n",
       "min                0.000000  \n",
       "25%                1.000000  \n",
       "50%                2.000000  \n",
       "75%                3.000000  \n",
       "max               55.000000  "
      ]
     },
     "execution_count": 55,
     "metadata": {},
     "output_type": "execute_result"
    }
   ],
   "source": [
    "leads_data.describe()"
   ]
  },
  {
   "cell_type": "code",
   "execution_count": 56,
   "metadata": {
    "scrolled": true
   },
   "outputs": [
    {
     "data": {
      "text/plain": [
       "<matplotlib.axes._subplots.AxesSubplot at 0x17c94674470>"
      ]
     },
     "execution_count": 56,
     "metadata": {},
     "output_type": "execute_result"
    },
    {
     "data": {
      "image/png": "[encoded data removed]",
      "text/plain": [
       "<Figure size 432x288 with 1 Axes>"
      ]
     },
     "metadata": {
      "needs_background": "light"
     },
     "output_type": "display_data"
    }
   ],
   "source": [
    "sns.boxplot(y = leads_data['Page Views Per Visit'])"
   ]
  },
  {
   "cell_type": "code",
   "execution_count": 57,
   "metadata": {},
   "outputs": [
    {
     "data": {
      "image/png": "[encoded data removed]",
      "text/plain": [
       "<Figure size 432x288 with 1 Axes>"
      ]
     },
     "metadata": {
      "needs_background": "light"
     },
     "output_type": "display_data"
    }
   ],
   "source": [
    "# Next highest nan's column = Country\n",
    "g = sns.distplot(leads_data['Page Views Per Visit'].dropna())\n",
    "\n",
    "#g.set_xticklabels(g.get_xticklabels(),rotation=90)"
   ]
  },
  {
   "cell_type": "code",
   "execution_count": 58,
   "metadata": {},
   "outputs": [
    {
     "data": {
      "text/plain": [
       "2.0"
      ]
     },
     "execution_count": 58,
     "metadata": {},
     "output_type": "execute_result"
    }
   ],
   "source": [
    "# As we can see outliers in Page Views Per Visit hence imputing with median \n",
    "pag_vis_med = leads_data['Page Views Per Visit'].median(skipna = True)\n",
    "pag_vis_med\n"
   ]
  },
  {
   "cell_type": "code",
   "execution_count": 59,
   "metadata": {},
   "outputs": [
    {
     "data": {
      "text/plain": [
       "0.00     2189\n",
       "2.00     1932\n",
       "3.00     1196\n",
       "4.00      896\n",
       "1.00      651\n",
       "5.00      517\n",
       "1.50      306\n",
       "6.00      244\n",
       "2.50      241\n",
       "7.00      133\n",
       "3.50       94\n",
       "8.00       86\n",
       "1.33       66\n",
       "1.67       60\n",
       "2.33       59\n",
       "2.67       54\n",
       "9.00       45\n",
       "4.50       43\n",
       "1.75       28\n",
       "3.33       27\n",
       "10.00      25\n",
       "1.25       23\n",
       "5.50       21\n",
       "2.25       19\n",
       "11.00      18\n",
       "3.67       16\n",
       "6.50       13\n",
       "1.80       13\n",
       "2.75       12\n",
       "1.40       11\n",
       "         ... \n",
       "1.19        1\n",
       "3.91        1\n",
       "55.00       1\n",
       "3.17        1\n",
       "2.57        1\n",
       "12.33       1\n",
       "2.08        1\n",
       "3.38        1\n",
       "2.90        1\n",
       "1.48        1\n",
       "2.38        1\n",
       "14.50       1\n",
       "11.50       1\n",
       "8.50        1\n",
       "1.45        1\n",
       "1.31        1\n",
       "3.43        1\n",
       "3.83        1\n",
       "1.54        1\n",
       "2.86        1\n",
       "1.64        1\n",
       "3.29        1\n",
       "8.33        1\n",
       "6.67        1\n",
       "1.21        1\n",
       "1.27        1\n",
       "8.21        1\n",
       "2.14        1\n",
       "2.63        1\n",
       "2.45        1\n",
       "Name: Page Views Per Visit, Length: 114, dtype: int64"
      ]
     },
     "execution_count": 59,
     "metadata": {},
     "output_type": "execute_result"
    }
   ],
   "source": [
    "leads_data['Page Views Per Visit'].fillna(pag_vis_med, inplace = True) \n",
    "\n",
    "leads_data['Page Views Per Visit'].value_counts()"
   ]
  },
  {
   "cell_type": "code",
   "execution_count": 60,
   "metadata": {},
   "outputs": [
    {
     "data": {
      "text/plain": [
       "Prospect ID                                      0.00\n",
       "Lead Number                                      0.00\n",
       "Lead Origin                                      0.00\n",
       "Lead Source                                      0.39\n",
       "Do Not Email                                     0.00\n",
       "Do Not Call                                      0.00\n",
       "Converted                                        0.00\n",
       "TotalVisits                                      1.48\n",
       "Total Time Spent on Website                      0.00\n",
       "Page Views Per Visit                             0.00\n",
       "Last Activity                                    1.11\n",
       "Country                                          0.00\n",
       "Specialization                                   0.00\n",
       "What is your current occupation                  0.00\n",
       "What matters most to you in choosing a course    0.00\n",
       "Search                                           0.00\n",
       "Magazine                                         0.00\n",
       "Newspaper Article                                0.00\n",
       "X Education Forums                               0.00\n",
       "Newspaper                                        0.00\n",
       "Digital Advertisement                            0.00\n",
       "Through Recommendations                          0.00\n",
       "Receive More Updates About Our Courses           0.00\n",
       "Tags                                             0.00\n",
       "Lead Quality                                     0.00\n",
       "Update me on Supply Chain Content                0.00\n",
       "Get updates on DM Content                        0.00\n",
       "City                                             0.00\n",
       "I agree to pay the amount through cheque         0.00\n",
       "A free copy of Mastering The Interview           0.00\n",
       "Last Notable Activity                            0.00\n",
       "dtype: float64"
      ]
     },
     "execution_count": 60,
     "metadata": {},
     "output_type": "execute_result"
    }
   ],
   "source": [
    "round(100*(leads_data.isnull().sum()/len(leads_data.index)),2)"
   ]
  },
  {
   "cell_type": "code",
   "execution_count": 61,
   "metadata": {
    "scrolled": true
   },
   "outputs": [
    {
     "data": {
      "text/html": [
       "<div>\n",
       "<style scoped>\n",
       "    .dataframe tbody tr th:only-of-type {\n",
       "        vertical-align: middle;\n",
       "    }\n",
       "\n",
       "    .dataframe tbody tr th {\n",
       "        vertical-align: top;\n",
       "    }\n",
       "\n",
       "    .dataframe thead th {\n",
       "        text-align: right;\n",
       "    }\n",
       "</style>\n",
       "<table border=\"1\" class=\"dataframe\">\n",
       "  <thead>\n",
       "    <tr style=\"text-align: right;\">\n",
       "      <th></th>\n",
       "      <th>Lead Number</th>\n",
       "      <th>Converted</th>\n",
       "      <th>TotalVisits</th>\n",
       "      <th>Total Time Spent on Website</th>\n",
       "      <th>Page Views Per Visit</th>\n",
       "    </tr>\n",
       "  </thead>\n",
       "  <tbody>\n",
       "    <tr>\n",
       "      <th>count</th>\n",
       "      <td>9240.000000</td>\n",
       "      <td>9240.000000</td>\n",
       "      <td>9103.000000</td>\n",
       "      <td>9240.000000</td>\n",
       "      <td>9240.000000</td>\n",
       "    </tr>\n",
       "    <tr>\n",
       "      <th>mean</th>\n",
       "      <td>617188.435606</td>\n",
       "      <td>0.385390</td>\n",
       "      <td>3.445238</td>\n",
       "      <td>487.698268</td>\n",
       "      <td>2.357440</td>\n",
       "    </tr>\n",
       "    <tr>\n",
       "      <th>std</th>\n",
       "      <td>23405.995698</td>\n",
       "      <td>0.486714</td>\n",
       "      <td>4.854853</td>\n",
       "      <td>548.021466</td>\n",
       "      <td>2.145781</td>\n",
       "    </tr>\n",
       "    <tr>\n",
       "      <th>min</th>\n",
       "      <td>579533.000000</td>\n",
       "      <td>0.000000</td>\n",
       "      <td>0.000000</td>\n",
       "      <td>0.000000</td>\n",
       "      <td>0.000000</td>\n",
       "    </tr>\n",
       "    <tr>\n",
       "      <th>25%</th>\n",
       "      <td>596484.500000</td>\n",
       "      <td>0.000000</td>\n",
       "      <td>1.000000</td>\n",
       "      <td>12.000000</td>\n",
       "      <td>1.000000</td>\n",
       "    </tr>\n",
       "    <tr>\n",
       "      <th>50%</th>\n",
       "      <td>615479.000000</td>\n",
       "      <td>0.000000</td>\n",
       "      <td>3.000000</td>\n",
       "      <td>248.000000</td>\n",
       "      <td>2.000000</td>\n",
       "    </tr>\n",
       "    <tr>\n",
       "      <th>75%</th>\n",
       "      <td>637387.250000</td>\n",
       "      <td>1.000000</td>\n",
       "      <td>5.000000</td>\n",
       "      <td>936.000000</td>\n",
       "      <td>3.000000</td>\n",
       "    </tr>\n",
       "    <tr>\n",
       "      <th>max</th>\n",
       "      <td>660737.000000</td>\n",
       "      <td>1.000000</td>\n",
       "      <td>251.000000</td>\n",
       "      <td>2272.000000</td>\n",
       "      <td>55.000000</td>\n",
       "    </tr>\n",
       "  </tbody>\n",
       "</table>\n",
       "</div>"
      ],
      "text/plain": [
       "         Lead Number    Converted  TotalVisits  Total Time Spent on Website  \\\n",
       "count    9240.000000  9240.000000  9103.000000                  9240.000000   \n",
       "mean   617188.435606     0.385390     3.445238                   487.698268   \n",
       "std     23405.995698     0.486714     4.854853                   548.021466   \n",
       "min    579533.000000     0.000000     0.000000                     0.000000   \n",
       "25%    596484.500000     0.000000     1.000000                    12.000000   \n",
       "50%    615479.000000     0.000000     3.000000                   248.000000   \n",
       "75%    637387.250000     1.000000     5.000000                   936.000000   \n",
       "max    660737.000000     1.000000   251.000000                  2272.000000   \n",
       "\n",
       "       Page Views Per Visit  \n",
       "count           9240.000000  \n",
       "mean               2.357440  \n",
       "std                2.145781  \n",
       "min                0.000000  \n",
       "25%                1.000000  \n",
       "50%                2.000000  \n",
       "75%                3.000000  \n",
       "max               55.000000  "
      ]
     },
     "execution_count": 61,
     "metadata": {},
     "output_type": "execute_result"
    }
   ],
   "source": [
    "leads_data.describe()"
   ]
  },
  {
   "cell_type": "code",
   "execution_count": 62,
   "metadata": {},
   "outputs": [
    {
     "data": {
      "text/plain": [
       "<matplotlib.axes._subplots.AxesSubplot at 0x17c95788978>"
      ]
     },
     "execution_count": 62,
     "metadata": {},
     "output_type": "execute_result"
    },
    {
     "data": {
      "image/png": "[encoded data removed]",
      "text/plain": [
       "<Figure size 432x288 with 1 Axes>"
      ]
     },
     "metadata": {
      "needs_background": "light"
     },
     "output_type": "display_data"
    }
   ],
   "source": [
    "sns.boxplot(y = leads_data['TotalVisits'])"
   ]
  },
  {
   "cell_type": "code",
   "execution_count": 63,
   "metadata": {
    "scrolled": true
   },
   "outputs": [
    {
     "data": {
      "image/png": "[encoded data removed]",
      "text/plain": [
       "<Figure size 432x288 with 1 Axes>"
      ]
     },
     "metadata": {
      "needs_background": "light"
     },
     "output_type": "display_data"
    }
   ],
   "source": [
    "# Next highest nan's column = Country\n",
    "g = sns.distplot(leads_data['TotalVisits'].dropna())\n",
    "\n",
    "#g.set_xticklabels(g.get_xticklabels(),rotation=90)"
   ]
  },
  {
   "cell_type": "code",
   "execution_count": 64,
   "metadata": {},
   "outputs": [
    {
     "data": {
      "text/plain": [
       "3.0"
      ]
     },
     "execution_count": 64,
     "metadata": {},
     "output_type": "execute_result"
    }
   ],
   "source": [
    "# As we can see outliers in Page Views Per Visit hence imputing with median \n",
    "tot_vis_med = leads_data['TotalVisits'].median(skipna = True)\n",
    "tot_vis_med"
   ]
  },
  {
   "cell_type": "code",
   "execution_count": 65,
   "metadata": {
    "scrolled": false
   },
   "outputs": [
    {
     "data": {
      "text/plain": [
       "0.0      2189\n",
       "2.0      1680\n",
       "3.0      1443\n",
       "4.0      1120\n",
       "5.0       783\n",
       "6.0       466\n",
       "1.0       395\n",
       "7.0       309\n",
       "8.0       224\n",
       "9.0       164\n",
       "10.0      114\n",
       "11.0       86\n",
       "13.0       48\n",
       "12.0       45\n",
       "14.0       36\n",
       "16.0       21\n",
       "15.0       18\n",
       "17.0       16\n",
       "18.0       15\n",
       "20.0       12\n",
       "19.0        9\n",
       "23.0        6\n",
       "21.0        6\n",
       "27.0        5\n",
       "24.0        5\n",
       "25.0        5\n",
       "22.0        3\n",
       "28.0        2\n",
       "29.0        2\n",
       "26.0        2\n",
       "251.0       1\n",
       "74.0        1\n",
       "30.0        1\n",
       "141.0       1\n",
       "54.0        1\n",
       "41.0        1\n",
       "115.0       1\n",
       "43.0        1\n",
       "42.0        1\n",
       "32.0        1\n",
       "55.0        1\n",
       "Name: TotalVisits, dtype: int64"
      ]
     },
     "execution_count": 65,
     "metadata": {},
     "output_type": "execute_result"
    }
   ],
   "source": [
    "leads_data['TotalVisits'].fillna(tot_vis_med, inplace = True) \n",
    "\n",
    "leads_data['TotalVisits'].value_counts()"
   ]
  },
  {
   "cell_type": "code",
   "execution_count": 66,
   "metadata": {},
   "outputs": [
    {
     "data": {
      "text/plain": [
       "Prospect ID                                      0.00\n",
       "Lead Number                                      0.00\n",
       "Lead Origin                                      0.00\n",
       "Lead Source                                      0.39\n",
       "Do Not Email                                     0.00\n",
       "Do Not Call                                      0.00\n",
       "Converted                                        0.00\n",
       "TotalVisits                                      0.00\n",
       "Total Time Spent on Website                      0.00\n",
       "Page Views Per Visit                             0.00\n",
       "Last Activity                                    1.11\n",
       "Country                                          0.00\n",
       "Specialization                                   0.00\n",
       "What is your current occupation                  0.00\n",
       "What matters most to you in choosing a course    0.00\n",
       "Search                                           0.00\n",
       "Magazine                                         0.00\n",
       "Newspaper Article                                0.00\n",
       "X Education Forums                               0.00\n",
       "Newspaper                                        0.00\n",
       "Digital Advertisement                            0.00\n",
       "Through Recommendations                          0.00\n",
       "Receive More Updates About Our Courses           0.00\n",
       "Tags                                             0.00\n",
       "Lead Quality                                     0.00\n",
       "Update me on Supply Chain Content                0.00\n",
       "Get updates on DM Content                        0.00\n",
       "City                                             0.00\n",
       "I agree to pay the amount through cheque         0.00\n",
       "A free copy of Mastering The Interview           0.00\n",
       "Last Notable Activity                            0.00\n",
       "dtype: float64"
      ]
     },
     "execution_count": 66,
     "metadata": {},
     "output_type": "execute_result"
    }
   ],
   "source": [
    "round(100*(leads_data.isnull().sum()/len(leads_data.index)),2)"
   ]
  },
  {
   "cell_type": "code",
   "execution_count": 67,
   "metadata": {
    "scrolled": false
   },
   "outputs": [
    {
     "data": {
      "text/plain": [
       "<matplotlib.axes._subplots.AxesSubplot at 0x17c958c74e0>"
      ]
     },
     "execution_count": 67,
     "metadata": {},
     "output_type": "execute_result"
    },
    {
     "data": {
      "image/png": "[encoded data removed]",
      "text/plain": [
       "<Figure size 432x288 with 1 Axes>"
      ]
     },
     "metadata": {
      "needs_background": "light"
     },
     "output_type": "display_data"
    }
   ],
   "source": [
    "sns.countplot(y = leads_data['Last Activity'])\n"
   ]
  },
  {
   "cell_type": "code",
   "execution_count": 68,
   "metadata": {
    "scrolled": true
   },
   "outputs": [
    {
     "data": {
      "text/plain": [
       "<matplotlib.axes._subplots.AxesSubplot at 0x17c9406df60>"
      ]
     },
     "execution_count": 68,
     "metadata": {},
     "output_type": "execute_result"
    },
    {
     "data": {
      "image/png": "[encoded data removed]",
      "text/plain": [
       "<Figure size 432x288 with 1 Axes>"
      ]
     },
     "metadata": {},
     "output_type": "display_data"
    }
   ],
   "source": [
    "leads_data['Last Activity'].value_counts().plot.pie()"
   ]
  },
  {
   "cell_type": "code",
   "execution_count": 69,
   "metadata": {
    "scrolled": true
   },
   "outputs": [
    {
     "data": {
      "text/plain": [
       "Email Opened                    3437\n",
       "SMS Sent                        2745\n",
       "Olark Chat Conversation          973\n",
       "Page Visited on Website          640\n",
       "Converted to Lead                428\n",
       "Email Bounced                    326\n",
       "Email Link Clicked               267\n",
       "Form Submitted on Website        116\n",
       "Unreachable                       93\n",
       "Unsubscribed                      61\n",
       "Had a Phone Conversation          30\n",
       "Approached upfront                 9\n",
       "View in browser link Clicked       6\n",
       "Email Received                     2\n",
       "Email Marked Spam                  2\n",
       "Resubscribed to emails             1\n",
       "Visited Booth in Tradeshow         1\n",
       "Name: Last Activity, dtype: int64"
      ]
     },
     "execution_count": 69,
     "metadata": {},
     "output_type": "execute_result"
    }
   ],
   "source": [
    "leads_data['Last Activity'].value_counts()"
   ]
  },
  {
   "cell_type": "code",
   "execution_count": 70,
   "metadata": {},
   "outputs": [
    {
     "data": {
      "text/plain": [
       "Email Opened                    3540\n",
       "SMS Sent                        2745\n",
       "Olark Chat Conversation          973\n",
       "Page Visited on Website          640\n",
       "Converted to Lead                428\n",
       "Email Bounced                    326\n",
       "Email Link Clicked               267\n",
       "Form Submitted on Website        116\n",
       "Unreachable                       93\n",
       "Unsubscribed                      61\n",
       "Had a Phone Conversation          30\n",
       "Approached upfront                 9\n",
       "View in browser link Clicked       6\n",
       "Email Received                     2\n",
       "Email Marked Spam                  2\n",
       "Resubscribed to emails             1\n",
       "Visited Booth in Tradeshow         1\n",
       "Name: Last Activity, dtype: int64"
      ]
     },
     "execution_count": 70,
     "metadata": {},
     "output_type": "execute_result"
    }
   ],
   "source": [
    "# Imputing ''Last_Activity' with 'Email Opened'\n",
    "leads_data['Last Activity'].fillna(\"Email Opened\", inplace = True) \n",
    "\n",
    "leads_data['Last Activity'].value_counts()"
   ]
  },
  {
   "cell_type": "code",
   "execution_count": 71,
   "metadata": {},
   "outputs": [
    {
     "data": {
      "text/plain": [
       "Prospect ID                                      0.00\n",
       "Lead Number                                      0.00\n",
       "Lead Origin                                      0.00\n",
       "Lead Source                                      0.39\n",
       "Do Not Email                                     0.00\n",
       "Do Not Call                                      0.00\n",
       "Converted                                        0.00\n",
       "TotalVisits                                      0.00\n",
       "Total Time Spent on Website                      0.00\n",
       "Page Views Per Visit                             0.00\n",
       "Last Activity                                    0.00\n",
       "Country                                          0.00\n",
       "Specialization                                   0.00\n",
       "What is your current occupation                  0.00\n",
       "What matters most to you in choosing a course    0.00\n",
       "Search                                           0.00\n",
       "Magazine                                         0.00\n",
       "Newspaper Article                                0.00\n",
       "X Education Forums                               0.00\n",
       "Newspaper                                        0.00\n",
       "Digital Advertisement                            0.00\n",
       "Through Recommendations                          0.00\n",
       "Receive More Updates About Our Courses           0.00\n",
       "Tags                                             0.00\n",
       "Lead Quality                                     0.00\n",
       "Update me on Supply Chain Content                0.00\n",
       "Get updates on DM Content                        0.00\n",
       "City                                             0.00\n",
       "I agree to pay the amount through cheque         0.00\n",
       "A free copy of Mastering The Interview           0.00\n",
       "Last Notable Activity                            0.00\n",
       "dtype: float64"
      ]
     },
     "execution_count": 71,
     "metadata": {},
     "output_type": "execute_result"
    }
   ],
   "source": [
    "round(100*(leads_data.isnull().sum()/len(leads_data.index)),2)"
   ]
  },
  {
   "cell_type": "code",
   "execution_count": 72,
   "metadata": {
    "scrolled": true
   },
   "outputs": [
    {
     "data": {
      "text/plain": [
       "<matplotlib.axes._subplots.AxesSubplot at 0x17c95a34b70>"
      ]
     },
     "execution_count": 72,
     "metadata": {},
     "output_type": "execute_result"
    },
    {
     "data": {
      "image/png": "[encoded data removed]",
      "text/plain": [
       "<Figure size 432x288 with 1 Axes>"
      ]
     },
     "metadata": {
      "needs_background": "light"
     },
     "output_type": "display_data"
    }
   ],
   "source": [
    "sns.countplot(y = leads_data['Lead Source'])"
   ]
  },
  {
   "cell_type": "code",
   "execution_count": 73,
   "metadata": {
    "scrolled": true
   },
   "outputs": [
    {
     "data": {
      "text/plain": [
       "<matplotlib.axes._subplots.AxesSubplot at 0x17c95ad59e8>"
      ]
     },
     "execution_count": 73,
     "metadata": {},
     "output_type": "execute_result"
    },
    {
     "data": {
      "image/png": "[encoded data removed]",
      "text/plain": [
       "<Figure size 432x288 with 1 Axes>"
      ]
     },
     "metadata": {},
     "output_type": "display_data"
    }
   ],
   "source": [
    "leads_data['Lead Source'].value_counts().plot.pie()"
   ]
  },
  {
   "cell_type": "code",
   "execution_count": 74,
   "metadata": {
    "scrolled": false
   },
   "outputs": [
    {
     "data": {
      "text/plain": [
       "Google               2868\n",
       "Direct Traffic       2543\n",
       "Olark Chat           1755\n",
       "Organic Search       1154\n",
       "Reference             534\n",
       "Welingak Website      142\n",
       "Referral Sites        125\n",
       "Facebook               55\n",
       "bing                    6\n",
       "google                  5\n",
       "Click2call              4\n",
       "Live Chat               2\n",
       "Press_Release           2\n",
       "Social Media            2\n",
       "welearnblog_Home        1\n",
       "WeLearn                 1\n",
       "blog                    1\n",
       "testone                 1\n",
       "NC_EDM                  1\n",
       "youtubechannel          1\n",
       "Pay per Click Ads       1\n",
       "Name: Lead Source, dtype: int64"
      ]
     },
     "execution_count": 74,
     "metadata": {},
     "output_type": "execute_result"
    }
   ],
   "source": [
    "leads_data['Lead Source'].value_counts()"
   ]
  },
  {
   "cell_type": "code",
   "execution_count": 75,
   "metadata": {},
   "outputs": [
    {
     "data": {
      "text/plain": [
       "Google               2904\n",
       "Direct Traffic       2543\n",
       "Olark Chat           1755\n",
       "Organic Search       1154\n",
       "Reference             534\n",
       "Welingak Website      142\n",
       "Referral Sites        125\n",
       "Facebook               55\n",
       "bing                    6\n",
       "google                  5\n",
       "Click2call              4\n",
       "Live Chat               2\n",
       "Press_Release           2\n",
       "Social Media            2\n",
       "welearnblog_Home        1\n",
       "WeLearn                 1\n",
       "blog                    1\n",
       "testone                 1\n",
       "NC_EDM                  1\n",
       "youtubechannel          1\n",
       "Pay per Click Ads       1\n",
       "Name: Lead Source, dtype: int64"
      ]
     },
     "execution_count": 75,
     "metadata": {},
     "output_type": "execute_result"
    }
   ],
   "source": [
    "# Imputing ''Last_Activity' with 'Email Opened'\n",
    "leads_data['Lead Source'].fillna(\"Google\", inplace = True) \n",
    "leads_data['Lead Source'].value_counts()"
   ]
  },
  {
   "cell_type": "code",
   "execution_count": 76,
   "metadata": {},
   "outputs": [],
   "source": [
    "# google mentioned as \"Google\" and \"google\" so changing it to one\n",
    "leads_data['Lead Source'].replace(\"google\",\"Google\",inplace = True)"
   ]
  },
  {
   "cell_type": "code",
   "execution_count": 77,
   "metadata": {},
   "outputs": [
    {
     "data": {
      "text/plain": [
       "Google               2909\n",
       "Direct Traffic       2543\n",
       "Olark Chat           1755\n",
       "Organic Search       1154\n",
       "Reference             534\n",
       "Welingak Website      142\n",
       "Referral Sites        125\n",
       "Facebook               55\n",
       "bing                    6\n",
       "Click2call              4\n",
       "Live Chat               2\n",
       "Press_Release           2\n",
       "Social Media            2\n",
       "welearnblog_Home        1\n",
       "WeLearn                 1\n",
       "blog                    1\n",
       "testone                 1\n",
       "NC_EDM                  1\n",
       "youtubechannel          1\n",
       "Pay per Click Ads       1\n",
       "Name: Lead Source, dtype: int64"
      ]
     },
     "execution_count": 77,
     "metadata": {},
     "output_type": "execute_result"
    }
   ],
   "source": [
    "leads_data['Lead Source'].value_counts()"
   ]
  },
  {
   "cell_type": "code",
   "execution_count": 78,
   "metadata": {},
   "outputs": [],
   "source": [
    "#There are 5 columns which has \"No\" as a value for all rows. since this does not help in our analysis, we will drop these columns\n",
    "no_columns=['Magazine','Receive More Updates About Our Courses','Update me on Supply Chain Content','Get updates on DM Content','I agree to pay the amount through cheque']"
   ]
  },
  {
   "cell_type": "code",
   "execution_count": 79,
   "metadata": {},
   "outputs": [],
   "source": [
    "leads_data.drop(columns=no_columns, axis=1, inplace=True)"
   ]
  },
  {
   "cell_type": "code",
   "execution_count": 80,
   "metadata": {},
   "outputs": [],
   "source": [
    "leads_data['Total Time Spent on Website'] = leads_data['Total Time Spent on Website'].astype(float)"
   ]
  },
  {
   "cell_type": "code",
   "execution_count": 81,
   "metadata": {
    "scrolled": false
   },
   "outputs": [
    {
     "name": "stdout",
     "output_type": "stream",
     "text": [
      "<class 'pandas.core.frame.DataFrame'>\n",
      "RangeIndex: 9240 entries, 0 to 9239\n",
      "Data columns (total 26 columns):\n",
      "Prospect ID                                      9240 non-null object\n",
      "Lead Number                                      9240 non-null int64\n",
      "Lead Origin                                      9240 non-null object\n",
      "Lead Source                                      9240 non-null object\n",
      "Do Not Email                                     9240 non-null object\n",
      "Do Not Call                                      9240 non-null object\n",
      "Converted                                        9240 non-null int64\n",
      "TotalVisits                                      9240 non-null float64\n",
      "Total Time Spent on Website                      9240 non-null float64\n",
      "Page Views Per Visit                             9240 non-null float64\n",
      "Last Activity                                    9240 non-null object\n",
      "Country                                          9240 non-null object\n",
      "Specialization                                   9240 non-null object\n",
      "What is your current occupation                  9240 non-null object\n",
      "What matters most to you in choosing a course    9240 non-null object\n",
      "Search                                           9240 non-null object\n",
      "Newspaper Article                                9240 non-null object\n",
      "X Education Forums                               9240 non-null object\n",
      "Newspaper                                        9240 non-null object\n",
      "Digital Advertisement                            9240 non-null object\n",
      "Through Recommendations                          9240 non-null object\n",
      "Tags                                             9240 non-null object\n",
      "Lead Quality                                     9240 non-null object\n",
      "City                                             9240 non-null object\n",
      "A free copy of Mastering The Interview           9240 non-null object\n",
      "Last Notable Activity                            9240 non-null object\n",
      "dtypes: float64(3), int64(2), object(21)\n",
      "memory usage: 1.8+ MB\n"
     ]
    }
   ],
   "source": [
    "leads_data.info()"
   ]
  },
  {
   "cell_type": "code",
   "execution_count": 82,
   "metadata": {},
   "outputs": [
    {
     "data": {
      "text/plain": [
       "38.53896103896104"
      ]
     },
     "execution_count": 82,
     "metadata": {},
     "output_type": "execute_result"
    }
   ],
   "source": [
    "Converted_rate = (sum(leads_data['Converted'])/len(leads_data['Converted'].index))*100\n",
    "Converted_rate"
   ]
  },
  {
   "cell_type": "markdown",
   "metadata": {},
   "source": [
    "# Scaling the data"
   ]
  },
  {
   "cell_type": "code",
   "execution_count": 83,
   "metadata": {},
   "outputs": [
    {
     "data": {
      "text/html": [
       "<div>\n",
       "<style scoped>\n",
       "    .dataframe tbody tr th:only-of-type {\n",
       "        vertical-align: middle;\n",
       "    }\n",
       "\n",
       "    .dataframe tbody tr th {\n",
       "        vertical-align: top;\n",
       "    }\n",
       "\n",
       "    .dataframe thead th {\n",
       "        text-align: right;\n",
       "    }\n",
       "</style>\n",
       "<table border=\"1\" class=\"dataframe\">\n",
       "  <thead>\n",
       "    <tr style=\"text-align: right;\">\n",
       "      <th></th>\n",
       "      <th>Prospect ID</th>\n",
       "      <th>Lead Number</th>\n",
       "      <th>Lead Origin</th>\n",
       "      <th>Lead Source</th>\n",
       "      <th>Do Not Email</th>\n",
       "      <th>Do Not Call</th>\n",
       "      <th>Converted</th>\n",
       "      <th>TotalVisits</th>\n",
       "      <th>Total Time Spent on Website</th>\n",
       "      <th>Page Views Per Visit</th>\n",
       "      <th>...</th>\n",
       "      <th>Newspaper Article</th>\n",
       "      <th>X Education Forums</th>\n",
       "      <th>Newspaper</th>\n",
       "      <th>Digital Advertisement</th>\n",
       "      <th>Through Recommendations</th>\n",
       "      <th>Tags</th>\n",
       "      <th>Lead Quality</th>\n",
       "      <th>City</th>\n",
       "      <th>A free copy of Mastering The Interview</th>\n",
       "      <th>Last Notable Activity</th>\n",
       "    </tr>\n",
       "  </thead>\n",
       "  <tbody>\n",
       "    <tr>\n",
       "      <th>0</th>\n",
       "      <td>7927b2df-8bba-4d29-b9a2-b6e0beafe620</td>\n",
       "      <td>660737</td>\n",
       "      <td>API</td>\n",
       "      <td>Olark Chat</td>\n",
       "      <td>No</td>\n",
       "      <td>No</td>\n",
       "      <td>0</td>\n",
       "      <td>0.0</td>\n",
       "      <td>0.0</td>\n",
       "      <td>0.0</td>\n",
       "      <td>...</td>\n",
       "      <td>No</td>\n",
       "      <td>No</td>\n",
       "      <td>No</td>\n",
       "      <td>No</td>\n",
       "      <td>No</td>\n",
       "      <td>Interested in other courses</td>\n",
       "      <td>Low in Relevance</td>\n",
       "      <td>Mumbai</td>\n",
       "      <td>No</td>\n",
       "      <td>Modified</td>\n",
       "    </tr>\n",
       "    <tr>\n",
       "      <th>1</th>\n",
       "      <td>2a272436-5132-4136-86fa-dcc88c88f482</td>\n",
       "      <td>660728</td>\n",
       "      <td>API</td>\n",
       "      <td>Organic Search</td>\n",
       "      <td>No</td>\n",
       "      <td>No</td>\n",
       "      <td>0</td>\n",
       "      <td>5.0</td>\n",
       "      <td>674.0</td>\n",
       "      <td>2.5</td>\n",
       "      <td>...</td>\n",
       "      <td>No</td>\n",
       "      <td>No</td>\n",
       "      <td>No</td>\n",
       "      <td>No</td>\n",
       "      <td>No</td>\n",
       "      <td>Ringing</td>\n",
       "      <td>Not Sure</td>\n",
       "      <td>Mumbai</td>\n",
       "      <td>No</td>\n",
       "      <td>Email Opened</td>\n",
       "    </tr>\n",
       "    <tr>\n",
       "      <th>2</th>\n",
       "      <td>8cc8c611-a219-4f35-ad23-fdfd2656bd8a</td>\n",
       "      <td>660727</td>\n",
       "      <td>Landing Page Submission</td>\n",
       "      <td>Direct Traffic</td>\n",
       "      <td>No</td>\n",
       "      <td>No</td>\n",
       "      <td>1</td>\n",
       "      <td>2.0</td>\n",
       "      <td>1532.0</td>\n",
       "      <td>2.0</td>\n",
       "      <td>...</td>\n",
       "      <td>No</td>\n",
       "      <td>No</td>\n",
       "      <td>No</td>\n",
       "      <td>No</td>\n",
       "      <td>No</td>\n",
       "      <td>Will revert after reading the email</td>\n",
       "      <td>Might be</td>\n",
       "      <td>Mumbai</td>\n",
       "      <td>Yes</td>\n",
       "      <td>Email Opened</td>\n",
       "    </tr>\n",
       "    <tr>\n",
       "      <th>3</th>\n",
       "      <td>0cc2df48-7cf4-4e39-9de9-19797f9b38cc</td>\n",
       "      <td>660719</td>\n",
       "      <td>Landing Page Submission</td>\n",
       "      <td>Direct Traffic</td>\n",
       "      <td>No</td>\n",
       "      <td>No</td>\n",
       "      <td>0</td>\n",
       "      <td>1.0</td>\n",
       "      <td>305.0</td>\n",
       "      <td>1.0</td>\n",
       "      <td>...</td>\n",
       "      <td>No</td>\n",
       "      <td>No</td>\n",
       "      <td>No</td>\n",
       "      <td>No</td>\n",
       "      <td>No</td>\n",
       "      <td>Ringing</td>\n",
       "      <td>Not Sure</td>\n",
       "      <td>Mumbai</td>\n",
       "      <td>No</td>\n",
       "      <td>Modified</td>\n",
       "    </tr>\n",
       "    <tr>\n",
       "      <th>4</th>\n",
       "      <td>3256f628-e534-4826-9d63-4a8b88782852</td>\n",
       "      <td>660681</td>\n",
       "      <td>Landing Page Submission</td>\n",
       "      <td>Google</td>\n",
       "      <td>No</td>\n",
       "      <td>No</td>\n",
       "      <td>1</td>\n",
       "      <td>2.0</td>\n",
       "      <td>1428.0</td>\n",
       "      <td>1.0</td>\n",
       "      <td>...</td>\n",
       "      <td>No</td>\n",
       "      <td>No</td>\n",
       "      <td>No</td>\n",
       "      <td>No</td>\n",
       "      <td>No</td>\n",
       "      <td>Will revert after reading the email</td>\n",
       "      <td>Might be</td>\n",
       "      <td>Mumbai</td>\n",
       "      <td>No</td>\n",
       "      <td>Modified</td>\n",
       "    </tr>\n",
       "  </tbody>\n",
       "</table>\n",
       "<p>5 rows × 26 columns</p>\n",
       "</div>"
      ],
      "text/plain": [
       "                            Prospect ID  Lead Number              Lead Origin  \\\n",
       "0  7927b2df-8bba-4d29-b9a2-b6e0beafe620       660737                      API   \n",
       "1  2a272436-5132-4136-86fa-dcc88c88f482       660728                      API   \n",
       "2  8cc8c611-a219-4f35-ad23-fdfd2656bd8a       660727  Landing Page Submission   \n",
       "3  0cc2df48-7cf4-4e39-9de9-19797f9b38cc       660719  Landing Page Submission   \n",
       "4  3256f628-e534-4826-9d63-4a8b88782852       660681  Landing Page Submission   \n",
       "\n",
       "      Lead Source Do Not Email Do Not Call  Converted  TotalVisits  \\\n",
       "0      Olark Chat           No          No          0          0.0   \n",
       "1  Organic Search           No          No          0          5.0   \n",
       "2  Direct Traffic           No          No          1          2.0   \n",
       "3  Direct Traffic           No          No          0          1.0   \n",
       "4          Google           No          No          1          2.0   \n",
       "\n",
       "   Total Time Spent on Website  Page Views Per Visit  ... Newspaper Article  \\\n",
       "0                          0.0                   0.0  ...                No   \n",
       "1                        674.0                   2.5  ...                No   \n",
       "2                       1532.0                   2.0  ...                No   \n",
       "3                        305.0                   1.0  ...                No   \n",
       "4                       1428.0                   1.0  ...                No   \n",
       "\n",
       "  X Education Forums Newspaper Digital Advertisement Through Recommendations  \\\n",
       "0                 No        No                    No                      No   \n",
       "1                 No        No                    No                      No   \n",
       "2                 No        No                    No                      No   \n",
       "3                 No        No                    No                      No   \n",
       "4                 No        No                    No                      No   \n",
       "\n",
       "                                  Tags      Lead Quality    City  \\\n",
       "0          Interested in other courses  Low in Relevance  Mumbai   \n",
       "1                              Ringing          Not Sure  Mumbai   \n",
       "2  Will revert after reading the email          Might be  Mumbai   \n",
       "3                              Ringing          Not Sure  Mumbai   \n",
       "4  Will revert after reading the email          Might be  Mumbai   \n",
       "\n",
       "  A free copy of Mastering The Interview Last Notable Activity  \n",
       "0                                     No              Modified  \n",
       "1                                     No          Email Opened  \n",
       "2                                    Yes          Email Opened  \n",
       "3                                     No              Modified  \n",
       "4                                     No              Modified  \n",
       "\n",
       "[5 rows x 26 columns]"
      ]
     },
     "execution_count": 83,
     "metadata": {},
     "output_type": "execute_result"
    }
   ],
   "source": [
    "leads_data.head()"
   ]
  },
  {
   "cell_type": "code",
   "execution_count": 84,
   "metadata": {},
   "outputs": [],
   "source": [
    "leads_data.drop(columns=['Prospect ID','Lead Number'], axis=1, inplace=True)"
   ]
  },
  {
   "cell_type": "code",
   "execution_count": 85,
   "metadata": {},
   "outputs": [
    {
     "name": "stdout",
     "output_type": "stream",
     "text": [
      "<class 'pandas.core.frame.DataFrame'>\n",
      "RangeIndex: 9240 entries, 0 to 9239\n",
      "Data columns (total 24 columns):\n",
      "Lead Origin                                      9240 non-null object\n",
      "Lead Source                                      9240 non-null object\n",
      "Do Not Email                                     9240 non-null object\n",
      "Do Not Call                                      9240 non-null object\n",
      "Converted                                        9240 non-null int64\n",
      "TotalVisits                                      9240 non-null float64\n",
      "Total Time Spent on Website                      9240 non-null float64\n",
      "Page Views Per Visit                             9240 non-null float64\n",
      "Last Activity                                    9240 non-null object\n",
      "Country                                          9240 non-null object\n",
      "Specialization                                   9240 non-null object\n",
      "What is your current occupation                  9240 non-null object\n",
      "What matters most to you in choosing a course    9240 non-null object\n",
      "Search                                           9240 non-null object\n",
      "Newspaper Article                                9240 non-null object\n",
      "X Education Forums                               9240 non-null object\n",
      "Newspaper                                        9240 non-null object\n",
      "Digital Advertisement                            9240 non-null object\n",
      "Through Recommendations                          9240 non-null object\n",
      "Tags                                             9240 non-null object\n",
      "Lead Quality                                     9240 non-null object\n",
      "City                                             9240 non-null object\n",
      "A free copy of Mastering The Interview           9240 non-null object\n",
      "Last Notable Activity                            9240 non-null object\n",
      "dtypes: float64(3), int64(1), object(20)\n",
      "memory usage: 1.7+ MB\n"
     ]
    }
   ],
   "source": [
    "leads_data.info()"
   ]
  },
  {
   "cell_type": "code",
   "execution_count": 86,
   "metadata": {},
   "outputs": [],
   "source": [
    "coltypeobj=['Lead Origin','Lead Source','Do Not Email','Do Not Call','Last Activity','Country','Specialization','What is your current occupation','What matters most to you in choosing a course','Search','Newspaper Article','X Education Forums','Newspaper','Digital Advertisement','Through Recommendations','Tags','Lead Quality','City','A free copy of Mastering The Interview','Last Notable Activity']"
   ]
  },
  {
   "cell_type": "code",
   "execution_count": 87,
   "metadata": {},
   "outputs": [],
   "source": [
    "# Generating Dummy variables for all catergorical columns\n",
    "status = pd.get_dummies(leads_data.loc[:,coltypeobj], prefix=coltypeobj, drop_first = True)\n",
    "new_df_1 = pd.concat([leads_data, status], axis = 1)\n",
    "new_df_1.drop(columns=coltypeobj, inplace=True)"
   ]
  },
  {
   "cell_type": "code",
   "execution_count": 88,
   "metadata": {},
   "outputs": [
    {
     "data": {
      "text/html": [
       "<div>\n",
       "<style scoped>\n",
       "    .dataframe tbody tr th:only-of-type {\n",
       "        vertical-align: middle;\n",
       "    }\n",
       "\n",
       "    .dataframe tbody tr th {\n",
       "        vertical-align: top;\n",
       "    }\n",
       "\n",
       "    .dataframe thead th {\n",
       "        text-align: right;\n",
       "    }\n",
       "</style>\n",
       "<table border=\"1\" class=\"dataframe\">\n",
       "  <thead>\n",
       "    <tr style=\"text-align: right;\">\n",
       "      <th></th>\n",
       "      <th>Converted</th>\n",
       "      <th>TotalVisits</th>\n",
       "      <th>Total Time Spent on Website</th>\n",
       "      <th>Page Views Per Visit</th>\n",
       "      <th>Lead Origin_Landing Page Submission</th>\n",
       "      <th>Lead Origin_Lead Add Form</th>\n",
       "      <th>Lead Origin_Lead Import</th>\n",
       "      <th>Lead Origin_Quick Add Form</th>\n",
       "      <th>Lead Source_Direct Traffic</th>\n",
       "      <th>Lead Source_Facebook</th>\n",
       "      <th>...</th>\n",
       "      <th>Last Notable Activity_Form Submitted on Website</th>\n",
       "      <th>Last Notable Activity_Had a Phone Conversation</th>\n",
       "      <th>Last Notable Activity_Modified</th>\n",
       "      <th>Last Notable Activity_Olark Chat Conversation</th>\n",
       "      <th>Last Notable Activity_Page Visited on Website</th>\n",
       "      <th>Last Notable Activity_Resubscribed to emails</th>\n",
       "      <th>Last Notable Activity_SMS Sent</th>\n",
       "      <th>Last Notable Activity_Unreachable</th>\n",
       "      <th>Last Notable Activity_Unsubscribed</th>\n",
       "      <th>Last Notable Activity_View in browser link Clicked</th>\n",
       "    </tr>\n",
       "  </thead>\n",
       "  <tbody>\n",
       "    <tr>\n",
       "      <th>0</th>\n",
       "      <td>0</td>\n",
       "      <td>0.0</td>\n",
       "      <td>0.0</td>\n",
       "      <td>0.0</td>\n",
       "      <td>0</td>\n",
       "      <td>0</td>\n",
       "      <td>0</td>\n",
       "      <td>0</td>\n",
       "      <td>0</td>\n",
       "      <td>0</td>\n",
       "      <td>...</td>\n",
       "      <td>0</td>\n",
       "      <td>0</td>\n",
       "      <td>1</td>\n",
       "      <td>0</td>\n",
       "      <td>0</td>\n",
       "      <td>0</td>\n",
       "      <td>0</td>\n",
       "      <td>0</td>\n",
       "      <td>0</td>\n",
       "      <td>0</td>\n",
       "    </tr>\n",
       "    <tr>\n",
       "      <th>1</th>\n",
       "      <td>0</td>\n",
       "      <td>5.0</td>\n",
       "      <td>674.0</td>\n",
       "      <td>2.5</td>\n",
       "      <td>0</td>\n",
       "      <td>0</td>\n",
       "      <td>0</td>\n",
       "      <td>0</td>\n",
       "      <td>0</td>\n",
       "      <td>0</td>\n",
       "      <td>...</td>\n",
       "      <td>0</td>\n",
       "      <td>0</td>\n",
       "      <td>0</td>\n",
       "      <td>0</td>\n",
       "      <td>0</td>\n",
       "      <td>0</td>\n",
       "      <td>0</td>\n",
       "      <td>0</td>\n",
       "      <td>0</td>\n",
       "      <td>0</td>\n",
       "    </tr>\n",
       "  </tbody>\n",
       "</table>\n",
       "<p>2 rows × 164 columns</p>\n",
       "</div>"
      ],
      "text/plain": [
       "   Converted  TotalVisits  Total Time Spent on Website  Page Views Per Visit  \\\n",
       "0          0          0.0                          0.0                   0.0   \n",
       "1          0          5.0                        674.0                   2.5   \n",
       "\n",
       "   Lead Origin_Landing Page Submission  Lead Origin_Lead Add Form  \\\n",
       "0                                    0                          0   \n",
       "1                                    0                          0   \n",
       "\n",
       "   Lead Origin_Lead Import  Lead Origin_Quick Add Form  \\\n",
       "0                        0                           0   \n",
       "1                        0                           0   \n",
       "\n",
       "   Lead Source_Direct Traffic  Lead Source_Facebook  ...  \\\n",
       "0                           0                     0  ...   \n",
       "1                           0                     0  ...   \n",
       "\n",
       "   Last Notable Activity_Form Submitted on Website  \\\n",
       "0                                                0   \n",
       "1                                                0   \n",
       "\n",
       "   Last Notable Activity_Had a Phone Conversation  \\\n",
       "0                                               0   \n",
       "1                                               0   \n",
       "\n",
       "   Last Notable Activity_Modified  \\\n",
       "0                               1   \n",
       "1                               0   \n",
       "\n",
       "   Last Notable Activity_Olark Chat Conversation  \\\n",
       "0                                              0   \n",
       "1                                              0   \n",
       "\n",
       "   Last Notable Activity_Page Visited on Website  \\\n",
       "0                                              0   \n",
       "1                                              0   \n",
       "\n",
       "   Last Notable Activity_Resubscribed to emails  \\\n",
       "0                                             0   \n",
       "1                                             0   \n",
       "\n",
       "   Last Notable Activity_SMS Sent  Last Notable Activity_Unreachable  \\\n",
       "0                               0                                  0   \n",
       "1                               0                                  0   \n",
       "\n",
       "   Last Notable Activity_Unsubscribed  \\\n",
       "0                                   0   \n",
       "1                                   0   \n",
       "\n",
       "   Last Notable Activity_View in browser link Clicked  \n",
       "0                                                  0   \n",
       "1                                                  0   \n",
       "\n",
       "[2 rows x 164 columns]"
      ]
     },
     "execution_count": 88,
     "metadata": {},
     "output_type": "execute_result"
    }
   ],
   "source": [
    "new_df_1.head(2)"
   ]
  },
  {
   "cell_type": "code",
   "execution_count": 89,
   "metadata": {},
   "outputs": [
    {
     "name": "stdout",
     "output_type": "stream",
     "text": [
      "<class 'pandas.core.frame.DataFrame'>\n",
      "RangeIndex: 9240 entries, 0 to 9239\n",
      "Columns: 164 entries, Converted to Last Notable Activity_View in browser link Clicked\n",
      "dtypes: float64(3), int64(1), uint8(160)\n",
      "memory usage: 1.7 MB\n"
     ]
    }
   ],
   "source": [
    "new_df_1.info()"
   ]
  },
  {
   "cell_type": "code",
   "execution_count": 90,
   "metadata": {},
   "outputs": [],
   "source": [
    "numeric_col = ['int16', 'int32', 'int64', 'float16', 'float32', 'float64']\n",
    "newdf = new_df_1.select_dtypes(include=numeric_col)\n",
    "numeric_col=list(new_df_1.columns)"
   ]
  },
  {
   "cell_type": "code",
   "execution_count": 91,
   "metadata": {},
   "outputs": [],
   "source": [
    "from sklearn.preprocessing import StandardScaler"
   ]
  },
  {
   "cell_type": "code",
   "execution_count": 92,
   "metadata": {},
   "outputs": [
    {
     "data": {
      "text/plain": [
       "38.53896103896104"
      ]
     },
     "execution_count": 92,
     "metadata": {},
     "output_type": "execute_result"
    }
   ],
   "source": [
    "Converted_rate = (sum(new_df_1['Converted'])/len(new_df_1['Converted'].index))*100\n",
    "Converted_rate"
   ]
  },
  {
   "cell_type": "code",
   "execution_count": 93,
   "metadata": {},
   "outputs": [
    {
     "data": {
      "text/html": [
       "<div>\n",
       "<style scoped>\n",
       "    .dataframe tbody tr th:only-of-type {\n",
       "        vertical-align: middle;\n",
       "    }\n",
       "\n",
       "    .dataframe tbody tr th {\n",
       "        vertical-align: top;\n",
       "    }\n",
       "\n",
       "    .dataframe thead th {\n",
       "        text-align: right;\n",
       "    }\n",
       "</style>\n",
       "<table border=\"1\" class=\"dataframe\">\n",
       "  <thead>\n",
       "    <tr style=\"text-align: right;\">\n",
       "      <th></th>\n",
       "      <th>Converted</th>\n",
       "      <th>TotalVisits</th>\n",
       "      <th>Total Time Spent on Website</th>\n",
       "      <th>Page Views Per Visit</th>\n",
       "      <th>Lead Origin_Landing Page Submission</th>\n",
       "      <th>Lead Origin_Lead Add Form</th>\n",
       "      <th>Lead Origin_Lead Import</th>\n",
       "      <th>Lead Origin_Quick Add Form</th>\n",
       "      <th>Lead Source_Direct Traffic</th>\n",
       "      <th>Lead Source_Facebook</th>\n",
       "      <th>...</th>\n",
       "      <th>Last Notable Activity_Form Submitted on Website</th>\n",
       "      <th>Last Notable Activity_Had a Phone Conversation</th>\n",
       "      <th>Last Notable Activity_Modified</th>\n",
       "      <th>Last Notable Activity_Olark Chat Conversation</th>\n",
       "      <th>Last Notable Activity_Page Visited on Website</th>\n",
       "      <th>Last Notable Activity_Resubscribed to emails</th>\n",
       "      <th>Last Notable Activity_SMS Sent</th>\n",
       "      <th>Last Notable Activity_Unreachable</th>\n",
       "      <th>Last Notable Activity_Unsubscribed</th>\n",
       "      <th>Last Notable Activity_View in browser link Clicked</th>\n",
       "    </tr>\n",
       "  </thead>\n",
       "  <tbody>\n",
       "    <tr>\n",
       "      <th>0</th>\n",
       "      <td>0</td>\n",
       "      <td>-0.713593</td>\n",
       "      <td>-0.889974</td>\n",
       "      <td>-1.098699</td>\n",
       "      <td>0</td>\n",
       "      <td>0</td>\n",
       "      <td>0</td>\n",
       "      <td>0</td>\n",
       "      <td>0</td>\n",
       "      <td>0</td>\n",
       "      <td>...</td>\n",
       "      <td>0</td>\n",
       "      <td>0</td>\n",
       "      <td>1</td>\n",
       "      <td>0</td>\n",
       "      <td>0</td>\n",
       "      <td>0</td>\n",
       "      <td>0</td>\n",
       "      <td>0</td>\n",
       "      <td>0</td>\n",
       "      <td>0</td>\n",
       "    </tr>\n",
       "    <tr>\n",
       "      <th>1</th>\n",
       "      <td>0</td>\n",
       "      <td>0.324018</td>\n",
       "      <td>0.339972</td>\n",
       "      <td>0.066441</td>\n",
       "      <td>0</td>\n",
       "      <td>0</td>\n",
       "      <td>0</td>\n",
       "      <td>0</td>\n",
       "      <td>0</td>\n",
       "      <td>0</td>\n",
       "      <td>...</td>\n",
       "      <td>0</td>\n",
       "      <td>0</td>\n",
       "      <td>0</td>\n",
       "      <td>0</td>\n",
       "      <td>0</td>\n",
       "      <td>0</td>\n",
       "      <td>0</td>\n",
       "      <td>0</td>\n",
       "      <td>0</td>\n",
       "      <td>0</td>\n",
       "    </tr>\n",
       "    <tr>\n",
       "      <th>2</th>\n",
       "      <td>1</td>\n",
       "      <td>-0.298549</td>\n",
       "      <td>1.905689</td>\n",
       "      <td>-0.166587</td>\n",
       "      <td>1</td>\n",
       "      <td>0</td>\n",
       "      <td>0</td>\n",
       "      <td>0</td>\n",
       "      <td>1</td>\n",
       "      <td>0</td>\n",
       "      <td>...</td>\n",
       "      <td>0</td>\n",
       "      <td>0</td>\n",
       "      <td>0</td>\n",
       "      <td>0</td>\n",
       "      <td>0</td>\n",
       "      <td>0</td>\n",
       "      <td>0</td>\n",
       "      <td>0</td>\n",
       "      <td>0</td>\n",
       "      <td>0</td>\n",
       "    </tr>\n",
       "    <tr>\n",
       "      <th>3</th>\n",
       "      <td>0</td>\n",
       "      <td>-0.506071</td>\n",
       "      <td>-0.333396</td>\n",
       "      <td>-0.632643</td>\n",
       "      <td>1</td>\n",
       "      <td>0</td>\n",
       "      <td>0</td>\n",
       "      <td>0</td>\n",
       "      <td>1</td>\n",
       "      <td>0</td>\n",
       "      <td>...</td>\n",
       "      <td>0</td>\n",
       "      <td>0</td>\n",
       "      <td>1</td>\n",
       "      <td>0</td>\n",
       "      <td>0</td>\n",
       "      <td>0</td>\n",
       "      <td>0</td>\n",
       "      <td>0</td>\n",
       "      <td>0</td>\n",
       "      <td>0</td>\n",
       "    </tr>\n",
       "    <tr>\n",
       "      <th>4</th>\n",
       "      <td>1</td>\n",
       "      <td>-0.298549</td>\n",
       "      <td>1.715905</td>\n",
       "      <td>-0.632643</td>\n",
       "      <td>1</td>\n",
       "      <td>0</td>\n",
       "      <td>0</td>\n",
       "      <td>0</td>\n",
       "      <td>0</td>\n",
       "      <td>0</td>\n",
       "      <td>...</td>\n",
       "      <td>0</td>\n",
       "      <td>0</td>\n",
       "      <td>1</td>\n",
       "      <td>0</td>\n",
       "      <td>0</td>\n",
       "      <td>0</td>\n",
       "      <td>0</td>\n",
       "      <td>0</td>\n",
       "      <td>0</td>\n",
       "      <td>0</td>\n",
       "    </tr>\n",
       "  </tbody>\n",
       "</table>\n",
       "<p>5 rows × 164 columns</p>\n",
       "</div>"
      ],
      "text/plain": [
       "   Converted  TotalVisits  Total Time Spent on Website  Page Views Per Visit  \\\n",
       "0          0    -0.713593                    -0.889974             -1.098699   \n",
       "1          0     0.324018                     0.339972              0.066441   \n",
       "2          1    -0.298549                     1.905689             -0.166587   \n",
       "3          0    -0.506071                    -0.333396             -0.632643   \n",
       "4          1    -0.298549                     1.715905             -0.632643   \n",
       "\n",
       "   Lead Origin_Landing Page Submission  Lead Origin_Lead Add Form  \\\n",
       "0                                    0                          0   \n",
       "1                                    0                          0   \n",
       "2                                    1                          0   \n",
       "3                                    1                          0   \n",
       "4                                    1                          0   \n",
       "\n",
       "   Lead Origin_Lead Import  Lead Origin_Quick Add Form  \\\n",
       "0                        0                           0   \n",
       "1                        0                           0   \n",
       "2                        0                           0   \n",
       "3                        0                           0   \n",
       "4                        0                           0   \n",
       "\n",
       "   Lead Source_Direct Traffic  Lead Source_Facebook  ...  \\\n",
       "0                           0                     0  ...   \n",
       "1                           0                     0  ...   \n",
       "2                           1                     0  ...   \n",
       "3                           1                     0  ...   \n",
       "4                           0                     0  ...   \n",
       "\n",
       "   Last Notable Activity_Form Submitted on Website  \\\n",
       "0                                                0   \n",
       "1                                                0   \n",
       "2                                                0   \n",
       "3                                                0   \n",
       "4                                                0   \n",
       "\n",
       "   Last Notable Activity_Had a Phone Conversation  \\\n",
       "0                                               0   \n",
       "1                                               0   \n",
       "2                                               0   \n",
       "3                                               0   \n",
       "4                                               0   \n",
       "\n",
       "   Last Notable Activity_Modified  \\\n",
       "0                               1   \n",
       "1                               0   \n",
       "2                               0   \n",
       "3                               1   \n",
       "4                               1   \n",
       "\n",
       "   Last Notable Activity_Olark Chat Conversation  \\\n",
       "0                                              0   \n",
       "1                                              0   \n",
       "2                                              0   \n",
       "3                                              0   \n",
       "4                                              0   \n",
       "\n",
       "   Last Notable Activity_Page Visited on Website  \\\n",
       "0                                              0   \n",
       "1                                              0   \n",
       "2                                              0   \n",
       "3                                              0   \n",
       "4                                              0   \n",
       "\n",
       "   Last Notable Activity_Resubscribed to emails  \\\n",
       "0                                             0   \n",
       "1                                             0   \n",
       "2                                             0   \n",
       "3                                             0   \n",
       "4                                             0   \n",
       "\n",
       "   Last Notable Activity_SMS Sent  Last Notable Activity_Unreachable  \\\n",
       "0                               0                                  0   \n",
       "1                               0                                  0   \n",
       "2                               0                                  0   \n",
       "3                               0                                  0   \n",
       "4                               0                                  0   \n",
       "\n",
       "   Last Notable Activity_Unsubscribed  \\\n",
       "0                                   0   \n",
       "1                                   0   \n",
       "2                                   0   \n",
       "3                                   0   \n",
       "4                                   0   \n",
       "\n",
       "   Last Notable Activity_View in browser link Clicked  \n",
       "0                                                  0   \n",
       "1                                                  0   \n",
       "2                                                  0   \n",
       "3                                                  0   \n",
       "4                                                  0   \n",
       "\n",
       "[5 rows x 164 columns]"
      ]
     },
     "execution_count": 93,
     "metadata": {},
     "output_type": "execute_result"
    }
   ],
   "source": [
    "#Scaling on continuous variables\n",
    "num_vars = ['TotalVisits','Total Time Spent on Website','Page Views Per Visit']\n",
    "scaler = StandardScaler()\n",
    "new_df_1[num_vars] = scaler.fit_transform(new_df_1[num_vars])\n",
    "new_df_1.head()"
   ]
  },
  {
   "cell_type": "markdown",
   "metadata": {},
   "source": [
    "# Split the Data into Test and Train"
   ]
  },
  {
   "cell_type": "code",
   "execution_count": 94,
   "metadata": {},
   "outputs": [
    {
     "data": {
      "text/plain": [
       "38.53896103896104"
      ]
     },
     "execution_count": 94,
     "metadata": {},
     "output_type": "execute_result"
    }
   ],
   "source": [
    "Converted_rate = (sum(new_df_1['Converted'])/len(new_df_1['Converted'].index))*100\n",
    "Converted_rate"
   ]
  },
  {
   "cell_type": "code",
   "execution_count": 95,
   "metadata": {},
   "outputs": [
    {
     "data": {
      "text/plain": [
       "0    0\n",
       "1    0\n",
       "2    1\n",
       "3    0\n",
       "4    1\n",
       "Name: Converted, dtype: int64"
      ]
     },
     "execution_count": 95,
     "metadata": {},
     "output_type": "execute_result"
    }
   ],
   "source": [
    "from sklearn.model_selection import train_test_split\n",
    "np.random.seed(0)\n",
    "\n",
    "# Putting feature variable to X\n",
    "X = new_df_1.drop('Converted',axis=1)\n",
    "\n",
    "# Putting response variable to y\n",
    "y = new_df_1['Converted']\n",
    "\n",
    "y.head()"
   ]
  },
  {
   "cell_type": "code",
   "execution_count": 96,
   "metadata": {},
   "outputs": [],
   "source": [
    "# Splitting teh data into test and train\n",
    "X_train, X_test, y_train, y_test = train_test_split(X,y, train_size = 0.7, test_size = 0.3, random_state = 100)"
   ]
  },
  {
   "cell_type": "markdown",
   "metadata": {},
   "source": [
    "# Let's see the correlation matrix \n",
    "plt.figure(figsize = (20,10))        # Size of the figure\n",
    "sns.heatmap(X_train.corr(),annot = True)\n",
    "plt.show()"
   ]
  },
  {
   "cell_type": "markdown",
   "metadata": {},
   "source": [
    "# Running Model 1"
   ]
  },
  {
   "cell_type": "code",
   "execution_count": 97,
   "metadata": {
    "scrolled": false
   },
   "outputs": [
    {
     "data": {
      "text/html": [
       "<table class=\"simpletable\">\n",
       "<caption>Generalized Linear Model Regression Results</caption>\n",
       "<tr>\n",
       "  <th>Dep. Variable:</th>       <td>Converted</td>    <th>  No. Observations:  </th>  <td>  6468</td> \n",
       "</tr>\n",
       "<tr>\n",
       "  <th>Model:</th>                  <td>GLM</td>       <th>  Df Residuals:      </th>  <td>  6314</td> \n",
       "</tr>\n",
       "<tr>\n",
       "  <th>Model Family:</th>        <td>Binomial</td>     <th>  Df Model:          </th>  <td>   153</td> \n",
       "</tr>\n",
       "<tr>\n",
       "  <th>Link Function:</th>         <td>logit</td>      <th>  Scale:             </th> <td>  1.0000</td>\n",
       "</tr>\n",
       "<tr>\n",
       "  <th>Method:</th>                <td>IRLS</td>       <th>  Log-Likelihood:    </th> <td>     nan</td>\n",
       "</tr>\n",
       "<tr>\n",
       "  <th>Date:</th>            <td>Mon, 18 Nov 2019</td> <th>  Deviance:          </th> <td>     nan</td>\n",
       "</tr>\n",
       "<tr>\n",
       "  <th>Time:</th>                <td>23:05:36</td>     <th>  Pearson chi2:      </th> <td>2.92e+18</td>\n",
       "</tr>\n",
       "<tr>\n",
       "  <th>No. Iterations:</th>         <td>100</td>       <th>                     </th>     <td> </td>   \n",
       "</tr>\n",
       "<tr>\n",
       "  <th>Covariance Type:</th>     <td>nonrobust</td>    <th>                     </th>     <td> </td>   \n",
       "</tr>\n",
       "</table>\n",
       "<table class=\"simpletable\">\n",
       "<tr>\n",
       "                                     <td></td>                                        <th>coef</th>     <th>std err</th>      <th>z</th>      <th>P>|z|</th>  <th>[0.025</th>    <th>0.975]</th>  \n",
       "</tr>\n",
       "<tr>\n",
       "  <th>const</th>                                                                   <td> 2.508e+15</td> <td> 6.98e+07</td> <td> 3.59e+07</td> <td> 0.000</td> <td> 2.51e+15</td> <td> 2.51e+15</td>\n",
       "</tr>\n",
       "<tr>\n",
       "  <th>TotalVisits</th>                                                             <td> 2.158e+13</td> <td> 9.12e+05</td> <td> 2.37e+07</td> <td> 0.000</td> <td> 2.16e+13</td> <td> 2.16e+13</td>\n",
       "</tr>\n",
       "<tr>\n",
       "  <th>Total Time Spent on Website</th>                                             <td> 2.234e+14</td> <td> 1.01e+06</td> <td> 2.21e+08</td> <td> 0.000</td> <td> 2.23e+14</td> <td> 2.23e+14</td>\n",
       "</tr>\n",
       "<tr>\n",
       "  <th>Page Views Per Visit</th>                                                    <td>-2.697e+12</td> <td>  1.2e+06</td> <td>-2.25e+06</td> <td> 0.000</td> <td> -2.7e+12</td> <td> -2.7e+12</td>\n",
       "</tr>\n",
       "<tr>\n",
       "  <th>Lead Origin_Landing Page Submission</th>                                     <td>-1.877e+14</td> <td> 3.44e+06</td> <td>-5.46e+07</td> <td> 0.000</td> <td>-1.88e+14</td> <td>-1.88e+14</td>\n",
       "</tr>\n",
       "<tr>\n",
       "  <th>Lead Origin_Lead Add Form</th>                                               <td> 5.742e+14</td> <td>  1.3e+07</td> <td>  4.4e+07</td> <td> 0.000</td> <td> 5.74e+14</td> <td> 5.74e+14</td>\n",
       "</tr>\n",
       "<tr>\n",
       "  <th>Lead Origin_Lead Import</th>                                                 <td> 1.301e+15</td> <td> 4.97e+07</td> <td> 2.62e+07</td> <td> 0.000</td> <td>  1.3e+15</td> <td>  1.3e+15</td>\n",
       "</tr>\n",
       "<tr>\n",
       "  <th>Lead Origin_Quick Add Form</th>                                              <td> 4.843e+15</td> <td>  6.8e+07</td> <td> 7.12e+07</td> <td> 0.000</td> <td> 4.84e+15</td> <td> 4.84e+15</td>\n",
       "</tr>\n",
       "<tr>\n",
       "  <th>Lead Source_Direct Traffic</th>                                              <td>-3.179e+14</td> <td> 4.27e+07</td> <td>-7.44e+06</td> <td> 0.000</td> <td>-3.18e+14</td> <td>-3.18e+14</td>\n",
       "</tr>\n",
       "<tr>\n",
       "  <th>Lead Source_Facebook</th>                                                    <td>-2.229e+15</td> <td> 6.55e+07</td> <td>-3.41e+07</td> <td> 0.000</td> <td>-2.23e+15</td> <td>-2.23e+15</td>\n",
       "</tr>\n",
       "<tr>\n",
       "  <th>Lead Source_Google</th>                                                      <td>-4.203e+14</td> <td> 4.26e+07</td> <td>-9.86e+06</td> <td> 0.000</td> <td> -4.2e+14</td> <td> -4.2e+14</td>\n",
       "</tr>\n",
       "<tr>\n",
       "  <th>Lead Source_Live Chat</th>                                                   <td> 2.462e+15</td> <td> 6.26e+07</td> <td> 3.93e+07</td> <td> 0.000</td> <td> 2.46e+15</td> <td> 2.46e+15</td>\n",
       "</tr>\n",
       "<tr>\n",
       "  <th>Lead Source_NC_EDM</th>                                                      <td>  6.25e+15</td> <td> 7.96e+07</td> <td> 7.85e+07</td> <td> 0.000</td> <td> 6.25e+15</td> <td> 6.25e+15</td>\n",
       "</tr>\n",
       "<tr>\n",
       "  <th>Lead Source_Olark Chat</th>                                                  <td> -5.83e+14</td> <td> 4.28e+07</td> <td>-1.36e+07</td> <td> 0.000</td> <td>-5.83e+14</td> <td>-5.83e+14</td>\n",
       "</tr>\n",
       "<tr>\n",
       "  <th>Lead Source_Organic Search</th>                                              <td>-3.581e+14</td> <td> 4.27e+07</td> <td>-8.38e+06</td> <td> 0.000</td> <td>-3.58e+14</td> <td>-3.58e+14</td>\n",
       "</tr>\n",
       "<tr>\n",
       "  <th>Lead Source_Pay per Click Ads</th>                                           <td> 7.699e+14</td> <td> 7.97e+07</td> <td> 9.66e+06</td> <td> 0.000</td> <td>  7.7e+14</td> <td>  7.7e+14</td>\n",
       "</tr>\n",
       "<tr>\n",
       "  <th>Lead Source_Press_Release</th>                                               <td>-3.106e+15</td> <td> 6.43e+07</td> <td>-4.83e+07</td> <td> 0.000</td> <td>-3.11e+15</td> <td>-3.11e+15</td>\n",
       "</tr>\n",
       "<tr>\n",
       "  <th>Lead Source_Reference</th>                                                   <td>-1.131e+15</td> <td> 4.08e+07</td> <td>-2.77e+07</td> <td> 0.000</td> <td>-1.13e+15</td> <td>-1.13e+15</td>\n",
       "</tr>\n",
       "<tr>\n",
       "  <th>Lead Source_Referral Sites</th>                                              <td>-3.899e+14</td> <td> 4.33e+07</td> <td>-9.01e+06</td> <td> 0.000</td> <td> -3.9e+14</td> <td> -3.9e+14</td>\n",
       "</tr>\n",
       "<tr>\n",
       "  <th>Lead Source_Social Media</th>                                                <td> -4.45e+14</td> <td>  6.4e+07</td> <td>-6.95e+06</td> <td> 0.000</td> <td>-4.45e+14</td> <td>-4.45e+14</td>\n",
       "</tr>\n",
       "<tr>\n",
       "  <th>Lead Source_WeLearn</th>                                                     <td> 5.221e+15</td> <td> 7.97e+07</td> <td> 6.55e+07</td> <td> 0.000</td> <td> 5.22e+15</td> <td> 5.22e+15</td>\n",
       "</tr>\n",
       "<tr>\n",
       "  <th>Lead Source_Welingak Website</th>                                            <td> 9.337e+14</td> <td> 4.13e+07</td> <td> 2.26e+07</td> <td> 0.000</td> <td> 9.34e+14</td> <td> 9.34e+14</td>\n",
       "</tr>\n",
       "<tr>\n",
       "  <th>Lead Source_bing</th>                                                        <td> 4.424e+14</td> <td> 5.77e+07</td> <td> 7.66e+06</td> <td> 0.000</td> <td> 4.42e+14</td> <td> 4.42e+14</td>\n",
       "</tr>\n",
       "<tr>\n",
       "  <th>Lead Source_blog</th>                                                        <td>-1.747e+15</td> <td> 7.96e+07</td> <td>-2.19e+07</td> <td> 0.000</td> <td>-1.75e+15</td> <td>-1.75e+15</td>\n",
       "</tr>\n",
       "<tr>\n",
       "  <th>Lead Source_testone</th>                                                     <td>   -3.6686</td> <td> 1.68e-06</td> <td>-2.18e+06</td> <td> 0.000</td> <td>   -3.669</td> <td>   -3.669</td>\n",
       "</tr>\n",
       "<tr>\n",
       "  <th>Lead Source_welearnblog_Home</th>                                            <td>-3.309e+15</td> <td> 7.97e+07</td> <td>-4.15e+07</td> <td> 0.000</td> <td>-3.31e+15</td> <td>-3.31e+15</td>\n",
       "</tr>\n",
       "<tr>\n",
       "  <th>Lead Source_youtubechannel</th>                                              <td>-2.458e+15</td> <td> 8.96e+07</td> <td>-2.74e+07</td> <td> 0.000</td> <td>-2.46e+15</td> <td>-2.46e+15</td>\n",
       "</tr>\n",
       "<tr>\n",
       "  <th>Do Not Email_Yes</th>                                                        <td>-1.237e+14</td> <td> 4.49e+06</td> <td>-2.75e+07</td> <td> 0.000</td> <td>-1.24e+14</td> <td>-1.24e+14</td>\n",
       "</tr>\n",
       "<tr>\n",
       "  <th>Do Not Call_Yes</th>                                                         <td> 4.275e+15</td> <td> 4.78e+07</td> <td> 8.94e+07</td> <td> 0.000</td> <td> 4.28e+15</td> <td> 4.28e+15</td>\n",
       "</tr>\n",
       "<tr>\n",
       "  <th>Last Activity_Converted to Lead</th>                                         <td>-3.388e+15</td> <td> 2.81e+07</td> <td>-1.21e+08</td> <td> 0.000</td> <td>-3.39e+15</td> <td>-3.39e+15</td>\n",
       "</tr>\n",
       "<tr>\n",
       "  <th>Last Activity_Email Bounced</th>                                             <td>-3.379e+15</td> <td> 2.85e+07</td> <td>-1.19e+08</td> <td> 0.000</td> <td>-3.38e+15</td> <td>-3.38e+15</td>\n",
       "</tr>\n",
       "<tr>\n",
       "  <th>Last Activity_Email Link Clicked</th>                                        <td>-3.687e+15</td> <td>  2.9e+07</td> <td>-1.27e+08</td> <td> 0.000</td> <td>-3.69e+15</td> <td>-3.69e+15</td>\n",
       "</tr>\n",
       "<tr>\n",
       "  <th>Last Activity_Email Marked Spam</th>                                         <td> 1.379e+14</td> <td>  3.6e+07</td> <td> 3.83e+06</td> <td> 0.000</td> <td> 1.38e+14</td> <td> 1.38e+14</td>\n",
       "</tr>\n",
       "<tr>\n",
       "  <th>Last Activity_Email Opened</th>                                              <td>-3.201e+15</td> <td> 2.79e+07</td> <td>-1.15e+08</td> <td> 0.000</td> <td> -3.2e+15</td> <td> -3.2e+15</td>\n",
       "</tr>\n",
       "<tr>\n",
       "  <th>Last Activity_Email Received</th>                                            <td> 1.053e+14</td> <td> 7.28e+07</td> <td> 1.45e+06</td> <td> 0.000</td> <td> 1.05e+14</td> <td> 1.05e+14</td>\n",
       "</tr>\n",
       "<tr>\n",
       "  <th>Last Activity_Form Submitted on Website</th>                                 <td>-3.219e+15</td> <td> 2.89e+07</td> <td>-1.12e+08</td> <td> 0.000</td> <td>-3.22e+15</td> <td>-3.22e+15</td>\n",
       "</tr>\n",
       "<tr>\n",
       "  <th>Last Activity_Had a Phone Conversation</th>                                  <td>-3.908e+15</td> <td> 3.43e+07</td> <td>-1.14e+08</td> <td> 0.000</td> <td>-3.91e+15</td> <td>-3.91e+15</td>\n",
       "</tr>\n",
       "<tr>\n",
       "  <th>Last Activity_Olark Chat Conversation</th>                                   <td>-3.468e+15</td> <td> 2.79e+07</td> <td>-1.24e+08</td> <td> 0.000</td> <td>-3.47e+15</td> <td>-3.47e+15</td>\n",
       "</tr>\n",
       "<tr>\n",
       "  <th>Last Activity_Page Visited on Website</th>                                   <td>-3.299e+15</td> <td> 2.81e+07</td> <td>-1.17e+08</td> <td> 0.000</td> <td> -3.3e+15</td> <td> -3.3e+15</td>\n",
       "</tr>\n",
       "<tr>\n",
       "  <th>Last Activity_Resubscribed to emails</th>                                    <td> 3.215e+14</td> <td>  3.5e+07</td> <td> 9.18e+06</td> <td> 0.000</td> <td> 3.21e+14</td> <td> 3.21e+14</td>\n",
       "</tr>\n",
       "<tr>\n",
       "  <th>Last Activity_SMS Sent</th>                                                  <td>-3.364e+15</td> <td>  2.8e+07</td> <td> -1.2e+08</td> <td> 0.000</td> <td>-3.36e+15</td> <td>-3.36e+15</td>\n",
       "</tr>\n",
       "<tr>\n",
       "  <th>Last Activity_Unreachable</th>                                               <td>-3.624e+15</td> <td>    3e+07</td> <td>-1.21e+08</td> <td> 0.000</td> <td>-3.62e+15</td> <td>-3.62e+15</td>\n",
       "</tr>\n",
       "<tr>\n",
       "  <th>Last Activity_Unsubscribed</th>                                              <td>-3.256e+15</td> <td> 3.66e+07</td> <td>-8.89e+07</td> <td> 0.000</td> <td>-3.26e+15</td> <td>-3.26e+15</td>\n",
       "</tr>\n",
       "<tr>\n",
       "  <th>Last Activity_View in browser link Clicked</th>                              <td>-3.163e+15</td> <td>  4.1e+07</td> <td>-7.72e+07</td> <td> 0.000</td> <td>-3.16e+15</td> <td>-3.16e+15</td>\n",
       "</tr>\n",
       "<tr>\n",
       "  <th>Last Activity_Visited Booth in Tradeshow</th>                                <td>-2.554e+15</td> <td> 7.38e+07</td> <td>-3.46e+07</td> <td> 0.000</td> <td>-2.55e+15</td> <td>-2.55e+15</td>\n",
       "</tr>\n",
       "<tr>\n",
       "  <th>Country_Australia</th>                                                       <td>-4.775e+14</td> <td> 5.27e+07</td> <td>-9.06e+06</td> <td> 0.000</td> <td>-4.78e+14</td> <td>-4.78e+14</td>\n",
       "</tr>\n",
       "<tr>\n",
       "  <th>Country_Bahrain</th>                                                         <td>-7.814e+14</td> <td> 5.51e+07</td> <td>-1.42e+07</td> <td> 0.000</td> <td>-7.81e+14</td> <td>-7.81e+14</td>\n",
       "</tr>\n",
       "<tr>\n",
       "  <th>Country_Bangladesh</th>                                                      <td> 2.789e+15</td> <td> 8.26e+07</td> <td> 3.38e+07</td> <td> 0.000</td> <td> 2.79e+15</td> <td> 2.79e+15</td>\n",
       "</tr>\n",
       "<tr>\n",
       "  <th>Country_Belgium</th>                                                         <td>-4.336e+15</td> <td> 8.25e+07</td> <td>-5.26e+07</td> <td> 0.000</td> <td>-4.34e+15</td> <td>-4.34e+15</td>\n",
       "</tr>\n",
       "<tr>\n",
       "  <th>Country_Canada</th>                                                          <td>-4.102e+15</td> <td> 6.15e+07</td> <td>-6.67e+07</td> <td> 0.000</td> <td> -4.1e+15</td> <td> -4.1e+15</td>\n",
       "</tr>\n",
       "<tr>\n",
       "  <th>Country_China</th>                                                           <td>-1.309e+15</td> <td> 6.72e+07</td> <td>-1.95e+07</td> <td> 0.000</td> <td>-1.31e+15</td> <td>-1.31e+15</td>\n",
       "</tr>\n",
       "<tr>\n",
       "  <th>Country_Denmark</th>                                                         <td> 1.702e+15</td> <td> 8.25e+07</td> <td> 2.06e+07</td> <td> 0.000</td> <td>  1.7e+15</td> <td>  1.7e+15</td>\n",
       "</tr>\n",
       "<tr>\n",
       "  <th>Country_France</th>                                                          <td>-1.727e+15</td> <td> 5.64e+07</td> <td>-3.06e+07</td> <td> 0.000</td> <td>-1.73e+15</td> <td>-1.73e+15</td>\n",
       "</tr>\n",
       "<tr>\n",
       "  <th>Country_Germany</th>                                                         <td>-1.563e+15</td> <td> 6.15e+07</td> <td>-2.54e+07</td> <td> 0.000</td> <td>-1.56e+15</td> <td>-1.56e+15</td>\n",
       "</tr>\n",
       "<tr>\n",
       "  <th>Country_Ghana</th>                                                           <td>-3.958e+15</td> <td> 6.73e+07</td> <td>-5.88e+07</td> <td> 0.000</td> <td>-3.96e+15</td> <td>-3.96e+15</td>\n",
       "</tr>\n",
       "<tr>\n",
       "  <th>Country_Hong Kong</th>                                                       <td>-2.569e+14</td> <td>  5.5e+07</td> <td>-4.67e+06</td> <td> 0.000</td> <td>-2.57e+14</td> <td>-2.57e+14</td>\n",
       "</tr>\n",
       "<tr>\n",
       "  <th>Country_India</th>                                                           <td>-6.084e+14</td> <td> 4.76e+07</td> <td>-1.28e+07</td> <td> 0.000</td> <td>-6.08e+14</td> <td>-6.08e+14</td>\n",
       "</tr>\n",
       "<tr>\n",
       "  <th>Country_Indonesia</th>                                                       <td>-4.758e+15</td> <td> 8.31e+07</td> <td>-5.72e+07</td> <td> 0.000</td> <td>-4.76e+15</td> <td>-4.76e+15</td>\n",
       "</tr>\n",
       "<tr>\n",
       "  <th>Country_Italy</th>                                                           <td>   26.6958</td> <td> 4.69e-07</td> <td> 5.69e+07</td> <td> 0.000</td> <td>   26.696</td> <td>   26.696</td>\n",
       "</tr>\n",
       "<tr>\n",
       "  <th>Country_Kenya</th>                                                           <td>-3.143e+15</td> <td> 8.25e+07</td> <td>-3.81e+07</td> <td> 0.000</td> <td>-3.14e+15</td> <td>-3.14e+15</td>\n",
       "</tr>\n",
       "<tr>\n",
       "  <th>Country_Kuwait</th>                                                          <td>  -3.9e+15</td> <td> 6.74e+07</td> <td>-5.79e+07</td> <td> 0.000</td> <td> -3.9e+15</td> <td> -3.9e+15</td>\n",
       "</tr>\n",
       "<tr>\n",
       "  <th>Country_Liberia</th>                                                         <td>  -16.7860</td> <td> 3.86e-07</td> <td>-4.35e+07</td> <td> 0.000</td> <td>  -16.786</td> <td>  -16.786</td>\n",
       "</tr>\n",
       "<tr>\n",
       "  <th>Country_Malaysia</th>                                                        <td>-2.851e+15</td> <td> 8.29e+07</td> <td>-3.44e+07</td> <td> 0.000</td> <td>-2.85e+15</td> <td>-2.85e+15</td>\n",
       "</tr>\n",
       "<tr>\n",
       "  <th>Country_Netherlands</th>                                                     <td>-8.275e+14</td> <td> 6.73e+07</td> <td>-1.23e+07</td> <td> 0.000</td> <td>-8.27e+14</td> <td>-8.27e+14</td>\n",
       "</tr>\n",
       "<tr>\n",
       "  <th>Country_Nigeria</th>                                                         <td>-3.378e+15</td> <td> 6.15e+07</td> <td>-5.49e+07</td> <td> 0.000</td> <td>-3.38e+15</td> <td>-3.38e+15</td>\n",
       "</tr>\n",
       "<tr>\n",
       "  <th>Country_Oman</th>                                                            <td>-7.868e+14</td> <td> 6.74e+07</td> <td>-1.17e+07</td> <td> 0.000</td> <td>-7.87e+14</td> <td>-7.87e+14</td>\n",
       "</tr>\n",
       "<tr>\n",
       "  <th>Country_Philippines</th>                                                     <td>-4.517e+15</td> <td> 6.74e+07</td> <td>-6.71e+07</td> <td> 0.000</td> <td>-4.52e+15</td> <td>-4.52e+15</td>\n",
       "</tr>\n",
       "<tr>\n",
       "  <th>Country_Qatar</th>                                                           <td>-3.419e+15</td> <td> 5.32e+07</td> <td>-6.42e+07</td> <td> 0.000</td> <td>-3.42e+15</td> <td>-3.42e+15</td>\n",
       "</tr>\n",
       "<tr>\n",
       "  <th>Country_Russia</th>                                                          <td>-4.499e+15</td> <td> 8.31e+07</td> <td>-5.41e+07</td> <td> 0.000</td> <td> -4.5e+15</td> <td> -4.5e+15</td>\n",
       "</tr>\n",
       "<tr>\n",
       "  <th>Country_Saudi Arabia</th>                                                    <td>-1.192e+15</td> <td> 5.06e+07</td> <td>-2.35e+07</td> <td> 0.000</td> <td>-1.19e+15</td> <td>-1.19e+15</td>\n",
       "</tr>\n",
       "<tr>\n",
       "  <th>Country_Singapore</th>                                                       <td>-7.768e+14</td> <td> 5.04e+07</td> <td>-1.54e+07</td> <td> 0.000</td> <td>-7.77e+14</td> <td>-7.77e+14</td>\n",
       "</tr>\n",
       "<tr>\n",
       "  <th>Country_South Africa</th>                                                    <td> 9.211e+14</td> <td> 5.84e+07</td> <td> 1.58e+07</td> <td> 0.000</td> <td> 9.21e+14</td> <td> 9.21e+14</td>\n",
       "</tr>\n",
       "<tr>\n",
       "  <th>Country_Sri Lanka</th>                                                       <td>  -17.0064</td> <td> 2.63e-07</td> <td>-6.46e+07</td> <td> 0.000</td> <td>  -17.006</td> <td>  -17.006</td>\n",
       "</tr>\n",
       "<tr>\n",
       "  <th>Country_Sweden</th>                                                          <td>-1.613e+15</td> <td> 6.73e+07</td> <td> -2.4e+07</td> <td> 0.000</td> <td>-1.61e+15</td> <td>-1.61e+15</td>\n",
       "</tr>\n",
       "<tr>\n",
       "  <th>Country_Switzerland</th>                                                     <td>    0.4728</td> <td> 1.84e-07</td> <td> 2.57e+06</td> <td> 0.000</td> <td>    0.473</td> <td>    0.473</td>\n",
       "</tr>\n",
       "<tr>\n",
       "  <th>Country_Tanzania</th>                                                        <td>    0.8863</td> <td>  2.5e-07</td> <td> 3.55e+06</td> <td> 0.000</td> <td>    0.886</td> <td>    0.886</td>\n",
       "</tr>\n",
       "<tr>\n",
       "  <th>Country_Uganda</th>                                                          <td>-3.915e+15</td> <td> 6.73e+07</td> <td>-5.82e+07</td> <td> 0.000</td> <td>-3.91e+15</td> <td>-3.91e+15</td>\n",
       "</tr>\n",
       "<tr>\n",
       "  <th>Country_United Arab Emirates</th>                                            <td>-9.052e+14</td> <td> 4.88e+07</td> <td>-1.85e+07</td> <td> 0.000</td> <td>-9.05e+14</td> <td>-9.05e+14</td>\n",
       "</tr>\n",
       "<tr>\n",
       "  <th>Country_United Kingdom</th>                                                  <td>-1.242e+14</td> <td> 5.34e+07</td> <td>-2.33e+06</td> <td> 0.000</td> <td>-1.24e+14</td> <td>-1.24e+14</td>\n",
       "</tr>\n",
       "<tr>\n",
       "  <th>Country_United States</th>                                                   <td>-5.313e+14</td> <td> 4.86e+07</td> <td>-1.09e+07</td> <td> 0.000</td> <td>-5.31e+14</td> <td>-5.31e+14</td>\n",
       "</tr>\n",
       "<tr>\n",
       "  <th>Country_Vietnam</th>                                                         <td>-5.351e+15</td> <td> 8.29e+07</td> <td>-6.45e+07</td> <td> 0.000</td> <td>-5.35e+15</td> <td>-5.35e+15</td>\n",
       "</tr>\n",
       "<tr>\n",
       "  <th>Country_unknown</th>                                                         <td> 8.861e+13</td> <td> 5.63e+07</td> <td> 1.57e+06</td> <td> 0.000</td> <td> 8.86e+13</td> <td> 8.86e+13</td>\n",
       "</tr>\n",
       "<tr>\n",
       "  <th>Specialization_Business Administration</th>                                  <td>-4.893e+13</td> <td> 6.08e+06</td> <td>-8.05e+06</td> <td> 0.000</td> <td>-4.89e+13</td> <td>-4.89e+13</td>\n",
       "</tr>\n",
       "<tr>\n",
       "  <th>Specialization_E-Business</th>                                               <td>-2.076e+14</td> <td>  1.2e+07</td> <td>-1.72e+07</td> <td> 0.000</td> <td>-2.08e+14</td> <td>-2.08e+14</td>\n",
       "</tr>\n",
       "<tr>\n",
       "  <th>Specialization_E-COMMERCE</th>                                               <td>-2.239e+14</td> <td> 8.74e+06</td> <td>-2.56e+07</td> <td> 0.000</td> <td>-2.24e+14</td> <td>-2.24e+14</td>\n",
       "</tr>\n",
       "<tr>\n",
       "  <th>Specialization_Finance Management</th>                                       <td> 2.199e+13</td> <td> 5.22e+06</td> <td> 4.21e+06</td> <td> 0.000</td> <td>  2.2e+13</td> <td>  2.2e+13</td>\n",
       "</tr>\n",
       "<tr>\n",
       "  <th>Specialization_Healthcare Management</th>                                    <td>-4.616e+13</td> <td> 8.22e+06</td> <td>-5.62e+06</td> <td> 0.000</td> <td>-4.62e+13</td> <td>-4.62e+13</td>\n",
       "</tr>\n",
       "<tr>\n",
       "  <th>Specialization_Hospitality Management</th>                                   <td>-2.427e+14</td> <td> 8.55e+06</td> <td>-2.84e+07</td> <td> 0.000</td> <td>-2.43e+14</td> <td>-2.43e+14</td>\n",
       "</tr>\n",
       "<tr>\n",
       "  <th>Specialization_Human Resource Management</th>                                <td>-1.537e+14</td> <td> 5.31e+06</td> <td> -2.9e+07</td> <td> 0.000</td> <td>-1.54e+14</td> <td>-1.54e+14</td>\n",
       "</tr>\n",
       "<tr>\n",
       "  <th>Specialization_IT Projects Management</th>                                   <td> 1.374e+14</td> <td> 6.31e+06</td> <td> 2.18e+07</td> <td> 0.000</td> <td> 1.37e+14</td> <td> 1.37e+14</td>\n",
       "</tr>\n",
       "<tr>\n",
       "  <th>Specialization_International Business</th>                                   <td> -1.34e+14</td> <td> 7.67e+06</td> <td>-1.75e+07</td> <td> 0.000</td> <td>-1.34e+14</td> <td>-1.34e+14</td>\n",
       "</tr>\n",
       "<tr>\n",
       "  <th>Specialization_Marketing Management</th>                                     <td>-5.754e+13</td> <td>  5.3e+06</td> <td>-1.09e+07</td> <td> 0.000</td> <td>-5.75e+13</td> <td>-5.75e+13</td>\n",
       "</tr>\n",
       "<tr>\n",
       "  <th>Specialization_Media and Advertising</th>                                    <td> 1.883e+12</td> <td> 7.46e+06</td> <td> 2.53e+05</td> <td> 0.000</td> <td> 1.88e+12</td> <td> 1.88e+12</td>\n",
       "</tr>\n",
       "<tr>\n",
       "  <th>Specialization_Operations Management</th>                                    <td>-9.189e+12</td> <td> 5.77e+06</td> <td>-1.59e+06</td> <td> 0.000</td> <td>-9.19e+12</td> <td>-9.19e+12</td>\n",
       "</tr>\n",
       "<tr>\n",
       "  <th>Specialization_Others</th>                                                   <td>-1.478e+14</td> <td> 5.48e+06</td> <td> -2.7e+07</td> <td> 0.000</td> <td>-1.48e+14</td> <td>-1.48e+14</td>\n",
       "</tr>\n",
       "<tr>\n",
       "  <th>Specialization_Retail Management</th>                                        <td> 6.579e+12</td> <td> 9.25e+06</td> <td> 7.11e+05</td> <td> 0.000</td> <td> 6.58e+12</td> <td> 6.58e+12</td>\n",
       "</tr>\n",
       "<tr>\n",
       "  <th>Specialization_Rural and Agribusiness</th>                                   <td>-7.006e+13</td> <td> 1.09e+07</td> <td> -6.4e+06</td> <td> 0.000</td> <td>-7.01e+13</td> <td>-7.01e+13</td>\n",
       "</tr>\n",
       "<tr>\n",
       "  <th>Specialization_Services Excellence</th>                                      <td>-1.688e+14</td> <td>  1.3e+07</td> <td> -1.3e+07</td> <td> 0.000</td> <td>-1.69e+14</td> <td>-1.69e+14</td>\n",
       "</tr>\n",
       "<tr>\n",
       "  <th>Specialization_Supply Chain Management</th>                                  <td>-8.099e+13</td> <td> 6.33e+06</td> <td>-1.28e+07</td> <td> 0.000</td> <td> -8.1e+13</td> <td> -8.1e+13</td>\n",
       "</tr>\n",
       "<tr>\n",
       "  <th>Specialization_Travel and Tourism</th>                                       <td>-1.029e+14</td> <td> 7.44e+06</td> <td>-1.38e+07</td> <td> 0.000</td> <td>-1.03e+14</td> <td>-1.03e+14</td>\n",
       "</tr>\n",
       "<tr>\n",
       "  <th>What is your current occupation_Housewife</th>                               <td> 3.812e+15</td> <td> 3.58e+07</td> <td> 1.07e+08</td> <td> 0.000</td> <td> 3.81e+15</td> <td> 3.81e+15</td>\n",
       "</tr>\n",
       "<tr>\n",
       "  <th>What is your current occupation_Other</th>                                   <td> 1.584e+14</td> <td> 3.66e+07</td> <td> 4.33e+06</td> <td> 0.000</td> <td> 1.58e+14</td> <td> 1.58e+14</td>\n",
       "</tr>\n",
       "<tr>\n",
       "  <th>What is your current occupation_Student</th>                                 <td> 4.798e+14</td> <td> 2.83e+07</td> <td> 1.69e+07</td> <td> 0.000</td> <td>  4.8e+14</td> <td>  4.8e+14</td>\n",
       "</tr>\n",
       "<tr>\n",
       "  <th>What is your current occupation_Unemployed</th>                              <td> 3.278e+14</td> <td> 2.77e+07</td> <td> 1.18e+07</td> <td> 0.000</td> <td> 3.28e+14</td> <td> 3.28e+14</td>\n",
       "</tr>\n",
       "<tr>\n",
       "  <th>What is your current occupation_Working Professional</th>                    <td> 5.694e+14</td> <td> 2.78e+07</td> <td> 2.05e+07</td> <td> 0.000</td> <td> 5.69e+14</td> <td> 5.69e+14</td>\n",
       "</tr>\n",
       "<tr>\n",
       "  <th>What matters most to you in choosing a course_Flexibility & Convenience</th> <td>-5.996e+14</td> <td> 4.79e+07</td> <td>-1.25e+07</td> <td> 0.000</td> <td>   -6e+14</td> <td>   -6e+14</td>\n",
       "</tr>\n",
       "<tr>\n",
       "  <th>What matters most to you in choosing a course_Other</th>                     <td>-3.676e+15</td> <td> 6.79e+07</td> <td>-5.41e+07</td> <td> 0.000</td> <td>-3.68e+15</td> <td>-3.68e+15</td>\n",
       "</tr>\n",
       "<tr>\n",
       "  <th>Search_Yes</th>                                                              <td> 7.279e+14</td> <td> 2.21e+07</td> <td> 3.29e+07</td> <td> 0.000</td> <td> 7.28e+14</td> <td> 7.28e+14</td>\n",
       "</tr>\n",
       "<tr>\n",
       "  <th>Newspaper Article_Yes</th>                                                   <td> 3.498e+15</td> <td> 6.74e+07</td> <td> 5.19e+07</td> <td> 0.000</td> <td>  3.5e+15</td> <td>  3.5e+15</td>\n",
       "</tr>\n",
       "<tr>\n",
       "  <th>X Education Forums_Yes</th>                                                  <td>-3.299e+15</td> <td> 1.12e+08</td> <td>-2.95e+07</td> <td> 0.000</td> <td> -3.3e+15</td> <td> -3.3e+15</td>\n",
       "</tr>\n",
       "<tr>\n",
       "  <th>Newspaper_Yes</th>                                                           <td>-3.805e+15</td> <td> 6.73e+07</td> <td>-5.65e+07</td> <td> 0.000</td> <td> -3.8e+15</td> <td> -3.8e+15</td>\n",
       "</tr>\n",
       "<tr>\n",
       "  <th>Digital Advertisement_Yes</th>                                               <td>-4.432e+15</td> <td> 4.82e+07</td> <td> -9.2e+07</td> <td> 0.000</td> <td>-4.43e+15</td> <td>-4.43e+15</td>\n",
       "</tr>\n",
       "<tr>\n",
       "  <th>Through Recommendations_Yes</th>                                             <td>-1.409e+14</td> <td> 2.87e+07</td> <td>-4.91e+06</td> <td> 0.000</td> <td>-1.41e+14</td> <td>-1.41e+14</td>\n",
       "</tr>\n",
       "<tr>\n",
       "  <th>Tags_Busy</th>                                                               <td> 2.166e+14</td> <td> 7.87e+06</td> <td> 2.75e+07</td> <td> 0.000</td> <td> 2.17e+14</td> <td> 2.17e+14</td>\n",
       "</tr>\n",
       "<tr>\n",
       "  <th>Tags_Closed by Horizzon</th>                                                 <td> 2.308e+15</td> <td> 7.42e+06</td> <td> 3.11e+08</td> <td> 0.000</td> <td> 2.31e+15</td> <td> 2.31e+15</td>\n",
       "</tr>\n",
       "<tr>\n",
       "  <th>Tags_Diploma holder (Not Eligible)</th>                                      <td>-3.064e+15</td> <td> 1.07e+07</td> <td>-2.86e+08</td> <td> 0.000</td> <td>-3.06e+15</td> <td>-3.06e+15</td>\n",
       "</tr>\n",
       "<tr>\n",
       "  <th>Tags_Graduation in progress</th>                                             <td> 7.695e+14</td> <td>  9.4e+06</td> <td> 8.19e+07</td> <td> 0.000</td> <td>  7.7e+14</td> <td>  7.7e+14</td>\n",
       "</tr>\n",
       "<tr>\n",
       "  <th>Tags_In confusion whether part time or DLP</th>                              <td>-9.298e+14</td> <td>  3.4e+07</td> <td>-2.73e+07</td> <td> 0.000</td> <td> -9.3e+14</td> <td> -9.3e+14</td>\n",
       "</tr>\n",
       "<tr>\n",
       "  <th>Tags_Interested  in full time MBA</th>                                       <td> 4.984e+14</td> <td> 8.59e+06</td> <td>  5.8e+07</td> <td> 0.000</td> <td> 4.98e+14</td> <td> 4.98e+14</td>\n",
       "</tr>\n",
       "<tr>\n",
       "  <th>Tags_Interested in Next batch</th>                                           <td> 4.822e+15</td> <td> 3.08e+07</td> <td> 1.57e+08</td> <td> 0.000</td> <td> 4.82e+15</td> <td> 4.82e+15</td>\n",
       "</tr>\n",
       "<tr>\n",
       "  <th>Tags_Interested in other courses</th>                                        <td> 4.474e+14</td> <td> 5.72e+06</td> <td> 7.82e+07</td> <td> 0.000</td> <td> 4.47e+14</td> <td> 4.47e+14</td>\n",
       "</tr>\n",
       "<tr>\n",
       "  <th>Tags_Lateral student</th>                                                    <td> 5.648e+15</td> <td> 3.93e+07</td> <td> 1.44e+08</td> <td> 0.000</td> <td> 5.65e+15</td> <td> 5.65e+15</td>\n",
       "</tr>\n",
       "<tr>\n",
       "  <th>Tags_Lost to EINS</th>                                                       <td> 2.418e+15</td> <td> 7.99e+06</td> <td> 3.03e+08</td> <td> 0.000</td> <td> 2.42e+15</td> <td> 2.42e+15</td>\n",
       "</tr>\n",
       "<tr>\n",
       "  <th>Tags_Lost to Others</th>                                                     <td>-3.539e+15</td> <td> 3.12e+07</td> <td>-1.13e+08</td> <td> 0.000</td> <td>-3.54e+15</td> <td>-3.54e+15</td>\n",
       "</tr>\n",
       "<tr>\n",
       "  <th>Tags_Not doing further education</th>                                        <td> 4.464e+14</td> <td> 7.65e+06</td> <td> 5.83e+07</td> <td> 0.000</td> <td> 4.46e+14</td> <td> 4.46e+14</td>\n",
       "</tr>\n",
       "<tr>\n",
       "  <th>Tags_Other issues</th>                                                       <td> 2.925e+14</td> <td> 5.06e+06</td> <td> 5.78e+07</td> <td> 0.000</td> <td> 2.93e+14</td> <td> 2.93e+14</td>\n",
       "</tr>\n",
       "<tr>\n",
       "  <th>Tags_Recognition issue (DEC approval)</th>                                   <td>-2.979e+15</td> <td>  6.9e+07</td> <td>-4.32e+07</td> <td> 0.000</td> <td>-2.98e+15</td> <td>-2.98e+15</td>\n",
       "</tr>\n",
       "<tr>\n",
       "  <th>Tags_Ringing</th>                                                            <td> 1.101e+14</td> <td> 5.42e+06</td> <td> 2.03e+07</td> <td> 0.000</td> <td>  1.1e+14</td> <td>  1.1e+14</td>\n",
       "</tr>\n",
       "<tr>\n",
       "  <th>Tags_Shall take in the next coming month</th>                                <td> 5.872e+15</td> <td> 6.77e+07</td> <td> 8.68e+07</td> <td> 0.000</td> <td> 5.87e+15</td> <td> 5.87e+15</td>\n",
       "</tr>\n",
       "<tr>\n",
       "  <th>Tags_Still Thinking</th>                                                     <td>-6.963e+14</td> <td> 3.42e+07</td> <td>-2.04e+07</td> <td> 0.000</td> <td>-6.96e+14</td> <td>-6.96e+14</td>\n",
       "</tr>\n",
       "<tr>\n",
       "  <th>Tags_University not recognized</th>                                          <td>-3.629e+15</td> <td> 6.79e+07</td> <td>-5.34e+07</td> <td> 0.000</td> <td>-3.63e+15</td> <td>-3.63e+15</td>\n",
       "</tr>\n",
       "<tr>\n",
       "  <th>Tags_Want to take admission but has financial problems</th>                  <td>  1.35e+15</td> <td> 3.61e+07</td> <td> 3.74e+07</td> <td> 0.000</td> <td> 1.35e+15</td> <td> 1.35e+15</td>\n",
       "</tr>\n",
       "<tr>\n",
       "  <th>Tags_Will revert after reading the email</th>                                <td> 2.046e+15</td> <td> 5.86e+06</td> <td> 3.49e+08</td> <td> 0.000</td> <td> 2.05e+15</td> <td> 2.05e+15</td>\n",
       "</tr>\n",
       "<tr>\n",
       "  <th>Tags_in touch with EINS</th>                                                 <td> 7.307e+14</td> <td> 2.09e+07</td> <td>  3.5e+07</td> <td> 0.000</td> <td> 7.31e+14</td> <td> 7.31e+14</td>\n",
       "</tr>\n",
       "<tr>\n",
       "  <th>Tags_invalid number</th>                                                     <td> 7.273e+13</td> <td> 9.88e+06</td> <td> 7.36e+06</td> <td> 0.000</td> <td> 7.27e+13</td> <td> 7.27e+13</td>\n",
       "</tr>\n",
       "<tr>\n",
       "  <th>Tags_number not provided</th>                                                <td>-2.133e+15</td> <td> 1.58e+07</td> <td>-1.35e+08</td> <td> 0.000</td> <td>-2.13e+15</td> <td>-2.13e+15</td>\n",
       "</tr>\n",
       "<tr>\n",
       "  <th>Tags_opp hangup</th>                                                         <td> 7.682e+14</td> <td>  1.5e+07</td> <td> 5.12e+07</td> <td> 0.000</td> <td> 7.68e+14</td> <td> 7.68e+14</td>\n",
       "</tr>\n",
       "<tr>\n",
       "  <th>Tags_switched off</th>                                                       <td>-4.039e+13</td> <td> 7.01e+06</td> <td>-5.77e+06</td> <td> 0.000</td> <td>-4.04e+13</td> <td>-4.04e+13</td>\n",
       "</tr>\n",
       "<tr>\n",
       "  <th>Tags_wrong number given</th>                                                 <td>-3.113e+15</td> <td> 1.31e+07</td> <td>-2.37e+08</td> <td> 0.000</td> <td>-3.11e+15</td> <td>-3.11e+15</td>\n",
       "</tr>\n",
       "<tr>\n",
       "  <th>Lead Quality_Low in Relevance</th>                                           <td>-9.439e+13</td> <td> 4.99e+06</td> <td>-1.89e+07</td> <td> 0.000</td> <td>-9.44e+13</td> <td>-9.44e+13</td>\n",
       "</tr>\n",
       "<tr>\n",
       "  <th>Lead Quality_Might be</th>                                                   <td>-2.272e+14</td> <td>  4.3e+06</td> <td>-5.28e+07</td> <td> 0.000</td> <td>-2.27e+14</td> <td>-2.27e+14</td>\n",
       "</tr>\n",
       "<tr>\n",
       "  <th>Lead Quality_Not Sure</th>                                                   <td>-2.599e+14</td> <td>  4.8e+06</td> <td>-5.42e+07</td> <td> 0.000</td> <td> -2.6e+14</td> <td> -2.6e+14</td>\n",
       "</tr>\n",
       "<tr>\n",
       "  <th>Lead Quality_Worst</th>                                                      <td>-5.028e+14</td> <td> 6.39e+06</td> <td>-7.87e+07</td> <td> 0.000</td> <td>-5.03e+14</td> <td>-5.03e+14</td>\n",
       "</tr>\n",
       "<tr>\n",
       "  <th>City_Other Cities</th>                                                       <td> 8.031e+13</td> <td> 3.43e+06</td> <td> 2.34e+07</td> <td> 0.000</td> <td> 8.03e+13</td> <td> 8.03e+13</td>\n",
       "</tr>\n",
       "<tr>\n",
       "  <th>City_Other Cities of Maharashtra</th>                                        <td> 5.574e+13</td> <td> 4.08e+06</td> <td> 1.37e+07</td> <td> 0.000</td> <td> 5.57e+13</td> <td> 5.57e+13</td>\n",
       "</tr>\n",
       "<tr>\n",
       "  <th>City_Other Metro Cities</th>                                                 <td> 3.466e+13</td> <td> 4.48e+06</td> <td> 7.74e+06</td> <td> 0.000</td> <td> 3.47e+13</td> <td> 3.47e+13</td>\n",
       "</tr>\n",
       "<tr>\n",
       "  <th>City_Thane & Outskirts</th>                                                  <td> 4.976e+13</td> <td>  3.3e+06</td> <td> 1.51e+07</td> <td> 0.000</td> <td> 4.98e+13</td> <td> 4.98e+13</td>\n",
       "</tr>\n",
       "<tr>\n",
       "  <th>City_Tier II Cities</th>                                                     <td> 1.322e+13</td> <td> 9.66e+06</td> <td> 1.37e+06</td> <td> 0.000</td> <td> 1.32e+13</td> <td> 1.32e+13</td>\n",
       "</tr>\n",
       "<tr>\n",
       "  <th>A free copy of Mastering The Interview_Yes</th>                              <td>-8.017e+13</td> <td> 2.72e+06</td> <td>-2.95e+07</td> <td> 0.000</td> <td>-8.02e+13</td> <td>-8.02e+13</td>\n",
       "</tr>\n",
       "<tr>\n",
       "  <th>Last Notable Activity_Email Bounced</th>                                     <td> 6.507e+14</td> <td>  1.6e+07</td> <td> 4.07e+07</td> <td> 0.000</td> <td> 6.51e+14</td> <td> 6.51e+14</td>\n",
       "</tr>\n",
       "<tr>\n",
       "  <th>Last Notable Activity_Email Link Clicked</th>                                <td> 1.243e+15</td> <td> 1.51e+07</td> <td> 8.22e+07</td> <td> 0.000</td> <td> 1.24e+15</td> <td> 1.24e+15</td>\n",
       "</tr>\n",
       "<tr>\n",
       "  <th>Last Notable Activity_Email Marked Spam</th>                                 <td> 1.379e+14</td> <td>  3.6e+07</td> <td> 3.83e+06</td> <td> 0.000</td> <td> 1.38e+14</td> <td> 1.38e+14</td>\n",
       "</tr>\n",
       "<tr>\n",
       "  <th>Last Notable Activity_Email Opened</th>                                      <td>   2.9e+14</td> <td>  1.2e+07</td> <td> 2.41e+07</td> <td> 0.000</td> <td>  2.9e+14</td> <td>  2.9e+14</td>\n",
       "</tr>\n",
       "<tr>\n",
       "  <th>Last Notable Activity_Email Received</th>                                    <td>-3.765e+15</td> <td> 8.88e+07</td> <td>-4.24e+07</td> <td> 0.000</td> <td>-3.77e+15</td> <td>-3.77e+15</td>\n",
       "</tr>\n",
       "<tr>\n",
       "  <th>Last Notable Activity_Form Submitted on Website</th>                         <td>-3.425e+15</td> <td> 6.38e+07</td> <td>-5.37e+07</td> <td> 0.000</td> <td>-3.43e+15</td> <td>-3.43e+15</td>\n",
       "</tr>\n",
       "<tr>\n",
       "  <th>Last Notable Activity_Had a Phone Conversation</th>                          <td> 1.799e+15</td> <td> 2.93e+07</td> <td> 6.15e+07</td> <td> 0.000</td> <td>  1.8e+15</td> <td>  1.8e+15</td>\n",
       "</tr>\n",
       "<tr>\n",
       "  <th>Last Notable Activity_Modified</th>                                          <td> 5.819e+14</td> <td> 1.16e+07</td> <td> 5.02e+07</td> <td> 0.000</td> <td> 5.82e+14</td> <td> 5.82e+14</td>\n",
       "</tr>\n",
       "<tr>\n",
       "  <th>Last Notable Activity_Olark Chat Conversation</th>                           <td> 1.397e+15</td> <td> 1.32e+07</td> <td> 1.06e+08</td> <td> 0.000</td> <td>  1.4e+15</td> <td>  1.4e+15</td>\n",
       "</tr>\n",
       "<tr>\n",
       "  <th>Last Notable Activity_Page Visited on Website</th>                           <td>  7.46e+14</td> <td>  1.3e+07</td> <td> 5.76e+07</td> <td> 0.000</td> <td> 7.46e+14</td> <td> 7.46e+14</td>\n",
       "</tr>\n",
       "<tr>\n",
       "  <th>Last Notable Activity_Resubscribed to emails</th>                            <td> 3.215e+14</td> <td>  3.5e+07</td> <td> 9.18e+06</td> <td> 0.000</td> <td> 3.21e+14</td> <td> 3.21e+14</td>\n",
       "</tr>\n",
       "<tr>\n",
       "  <th>Last Notable Activity_SMS Sent</th>                                          <td> 1.295e+15</td> <td> 1.21e+07</td> <td> 1.07e+08</td> <td> 0.000</td> <td> 1.29e+15</td> <td> 1.29e+15</td>\n",
       "</tr>\n",
       "<tr>\n",
       "  <th>Last Notable Activity_Unreachable</th>                                       <td>  7.12e+14</td> <td> 2.07e+07</td> <td> 3.44e+07</td> <td> 0.000</td> <td> 7.12e+14</td> <td> 7.12e+14</td>\n",
       "</tr>\n",
       "<tr>\n",
       "  <th>Last Notable Activity_Unsubscribed</th>                                      <td> 5.261e+14</td> <td> 2.76e+07</td> <td> 1.91e+07</td> <td> 0.000</td> <td> 5.26e+14</td> <td> 5.26e+14</td>\n",
       "</tr>\n",
       "<tr>\n",
       "  <th>Last Notable Activity_View in browser link Clicked</th>                      <td>         0</td> <td>        0</td> <td>      nan</td> <td>   nan</td> <td>        0</td> <td>        0</td>\n",
       "</tr>\n",
       "</table>"
      ],
      "text/plain": [
       "<class 'statsmodels.iolib.summary.Summary'>\n",
       "\"\"\"\n",
       "                 Generalized Linear Model Regression Results                  \n",
       "==============================================================================\n",
       "Dep. Variable:              Converted   No. Observations:                 6468\n",
       "Model:                            GLM   Df Residuals:                     6314\n",
       "Model Family:                Binomial   Df Model:                          153\n",
       "Link Function:                  logit   Scale:                          1.0000\n",
       "Method:                          IRLS   Log-Likelihood:                    nan\n",
       "Date:                Mon, 18 Nov 2019   Deviance:                          nan\n",
       "Time:                        23:05:36   Pearson chi2:                 2.92e+18\n",
       "No. Iterations:                   100                                         \n",
       "Covariance Type:            nonrobust                                         \n",
       "===========================================================================================================================================\n",
       "                                                                              coef    std err          z      P>|z|      [0.025      0.975]\n",
       "-------------------------------------------------------------------------------------------------------------------------------------------\n",
       "const                                                                    2.508e+15   6.98e+07   3.59e+07      0.000    2.51e+15    2.51e+15\n",
       "TotalVisits                                                              2.158e+13   9.12e+05   2.37e+07      0.000    2.16e+13    2.16e+13\n",
       "Total Time Spent on Website                                              2.234e+14   1.01e+06   2.21e+08      0.000    2.23e+14    2.23e+14\n",
       "Page Views Per Visit                                                    -2.697e+12    1.2e+06  -2.25e+06      0.000    -2.7e+12    -2.7e+12\n",
       "Lead Origin_Landing Page Submission                                     -1.877e+14   3.44e+06  -5.46e+07      0.000   -1.88e+14   -1.88e+14\n",
       "Lead Origin_Lead Add Form                                                5.742e+14    1.3e+07    4.4e+07      0.000    5.74e+14    5.74e+14\n",
       "Lead Origin_Lead Import                                                  1.301e+15   4.97e+07   2.62e+07      0.000     1.3e+15     1.3e+15\n",
       "Lead Origin_Quick Add Form                                               4.843e+15    6.8e+07   7.12e+07      0.000    4.84e+15    4.84e+15\n",
       "Lead Source_Direct Traffic                                              -3.179e+14   4.27e+07  -7.44e+06      0.000   -3.18e+14   -3.18e+14\n",
       "Lead Source_Facebook                                                    -2.229e+15   6.55e+07  -3.41e+07      0.000   -2.23e+15   -2.23e+15\n",
       "Lead Source_Google                                                      -4.203e+14   4.26e+07  -9.86e+06      0.000    -4.2e+14    -4.2e+14\n",
       "Lead Source_Live Chat                                                    2.462e+15   6.26e+07   3.93e+07      0.000    2.46e+15    2.46e+15\n",
       "Lead Source_NC_EDM                                                        6.25e+15   7.96e+07   7.85e+07      0.000    6.25e+15    6.25e+15\n",
       "Lead Source_Olark Chat                                                   -5.83e+14   4.28e+07  -1.36e+07      0.000   -5.83e+14   -5.83e+14\n",
       "Lead Source_Organic Search                                              -3.581e+14   4.27e+07  -8.38e+06      0.000   -3.58e+14   -3.58e+14\n",
       "Lead Source_Pay per Click Ads                                            7.699e+14   7.97e+07   9.66e+06      0.000     7.7e+14     7.7e+14\n",
       "Lead Source_Press_Release                                               -3.106e+15   6.43e+07  -4.83e+07      0.000   -3.11e+15   -3.11e+15\n",
       "Lead Source_Reference                                                   -1.131e+15   4.08e+07  -2.77e+07      0.000   -1.13e+15   -1.13e+15\n",
       "Lead Source_Referral Sites                                              -3.899e+14   4.33e+07  -9.01e+06      0.000    -3.9e+14    -3.9e+14\n",
       "Lead Source_Social Media                                                 -4.45e+14    6.4e+07  -6.95e+06      0.000   -4.45e+14   -4.45e+14\n",
       "Lead Source_WeLearn                                                      5.221e+15   7.97e+07   6.55e+07      0.000    5.22e+15    5.22e+15\n",
       "Lead Source_Welingak Website                                             9.337e+14   4.13e+07   2.26e+07      0.000    9.34e+14    9.34e+14\n",
       "Lead Source_bing                                                         4.424e+14   5.77e+07   7.66e+06      0.000    4.42e+14    4.42e+14\n",
       "Lead Source_blog                                                        -1.747e+15   7.96e+07  -2.19e+07      0.000   -1.75e+15   -1.75e+15\n",
       "Lead Source_testone                                                        -3.6686   1.68e-06  -2.18e+06      0.000      -3.669      -3.669\n",
       "Lead Source_welearnblog_Home                                            -3.309e+15   7.97e+07  -4.15e+07      0.000   -3.31e+15   -3.31e+15\n",
       "Lead Source_youtubechannel                                              -2.458e+15   8.96e+07  -2.74e+07      0.000   -2.46e+15   -2.46e+15\n",
       "Do Not Email_Yes                                                        -1.237e+14   4.49e+06  -2.75e+07      0.000   -1.24e+14   -1.24e+14\n",
       "Do Not Call_Yes                                                          4.275e+15   4.78e+07   8.94e+07      0.000    4.28e+15    4.28e+15\n",
       "Last Activity_Converted to Lead                                         -3.388e+15   2.81e+07  -1.21e+08      0.000   -3.39e+15   -3.39e+15\n",
       "Last Activity_Email Bounced                                             -3.379e+15   2.85e+07  -1.19e+08      0.000   -3.38e+15   -3.38e+15\n",
       "Last Activity_Email Link Clicked                                        -3.687e+15    2.9e+07  -1.27e+08      0.000   -3.69e+15   -3.69e+15\n",
       "Last Activity_Email Marked Spam                                          1.379e+14    3.6e+07   3.83e+06      0.000    1.38e+14    1.38e+14\n",
       "Last Activity_Email Opened                                              -3.201e+15   2.79e+07  -1.15e+08      0.000    -3.2e+15    -3.2e+15\n",
       "Last Activity_Email Received                                             1.053e+14   7.28e+07   1.45e+06      0.000    1.05e+14    1.05e+14\n",
       "Last Activity_Form Submitted on Website                                 -3.219e+15   2.89e+07  -1.12e+08      0.000   -3.22e+15   -3.22e+15\n",
       "Last Activity_Had a Phone Conversation                                  -3.908e+15   3.43e+07  -1.14e+08      0.000   -3.91e+15   -3.91e+15\n",
       "Last Activity_Olark Chat Conversation                                   -3.468e+15   2.79e+07  -1.24e+08      0.000   -3.47e+15   -3.47e+15\n",
       "Last Activity_Page Visited on Website                                   -3.299e+15   2.81e+07  -1.17e+08      0.000    -3.3e+15    -3.3e+15\n",
       "Last Activity_Resubscribed to emails                                     3.215e+14    3.5e+07   9.18e+06      0.000    3.21e+14    3.21e+14\n",
       "Last Activity_SMS Sent                                                  -3.364e+15    2.8e+07   -1.2e+08      0.000   -3.36e+15   -3.36e+15\n",
       "Last Activity_Unreachable                                               -3.624e+15      3e+07  -1.21e+08      0.000   -3.62e+15   -3.62e+15\n",
       "Last Activity_Unsubscribed                                              -3.256e+15   3.66e+07  -8.89e+07      0.000   -3.26e+15   -3.26e+15\n",
       "Last Activity_View in browser link Clicked                              -3.163e+15    4.1e+07  -7.72e+07      0.000   -3.16e+15   -3.16e+15\n",
       "Last Activity_Visited Booth in Tradeshow                                -2.554e+15   7.38e+07  -3.46e+07      0.000   -2.55e+15   -2.55e+15\n",
       "Country_Australia                                                       -4.775e+14   5.27e+07  -9.06e+06      0.000   -4.78e+14   -4.78e+14\n",
       "Country_Bahrain                                                         -7.814e+14   5.51e+07  -1.42e+07      0.000   -7.81e+14   -7.81e+14\n",
       "Country_Bangladesh                                                       2.789e+15   8.26e+07   3.38e+07      0.000    2.79e+15    2.79e+15\n",
       "Country_Belgium                                                         -4.336e+15   8.25e+07  -5.26e+07      0.000   -4.34e+15   -4.34e+15\n",
       "Country_Canada                                                          -4.102e+15   6.15e+07  -6.67e+07      0.000    -4.1e+15    -4.1e+15\n",
       "Country_China                                                           -1.309e+15   6.72e+07  -1.95e+07      0.000   -1.31e+15   -1.31e+15\n",
       "Country_Denmark                                                          1.702e+15   8.25e+07   2.06e+07      0.000     1.7e+15     1.7e+15\n",
       "Country_France                                                          -1.727e+15   5.64e+07  -3.06e+07      0.000   -1.73e+15   -1.73e+15\n",
       "Country_Germany                                                         -1.563e+15   6.15e+07  -2.54e+07      0.000   -1.56e+15   -1.56e+15\n",
       "Country_Ghana                                                           -3.958e+15   6.73e+07  -5.88e+07      0.000   -3.96e+15   -3.96e+15\n",
       "Country_Hong Kong                                                       -2.569e+14    5.5e+07  -4.67e+06      0.000   -2.57e+14   -2.57e+14\n",
       "Country_India                                                           -6.084e+14   4.76e+07  -1.28e+07      0.000   -6.08e+14   -6.08e+14\n",
       "Country_Indonesia                                                       -4.758e+15   8.31e+07  -5.72e+07      0.000   -4.76e+15   -4.76e+15\n",
       "Country_Italy                                                              26.6958   4.69e-07   5.69e+07      0.000      26.696      26.696\n",
       "Country_Kenya                                                           -3.143e+15   8.25e+07  -3.81e+07      0.000   -3.14e+15   -3.14e+15\n",
       "Country_Kuwait                                                            -3.9e+15   6.74e+07  -5.79e+07      0.000    -3.9e+15    -3.9e+15\n",
       "Country_Liberia                                                           -16.7860   3.86e-07  -4.35e+07      0.000     -16.786     -16.786\n",
       "Country_Malaysia                                                        -2.851e+15   8.29e+07  -3.44e+07      0.000   -2.85e+15   -2.85e+15\n",
       "Country_Netherlands                                                     -8.275e+14   6.73e+07  -1.23e+07      0.000   -8.27e+14   -8.27e+14\n",
       "Country_Nigeria                                                         -3.378e+15   6.15e+07  -5.49e+07      0.000   -3.38e+15   -3.38e+15\n",
       "Country_Oman                                                            -7.868e+14   6.74e+07  -1.17e+07      0.000   -7.87e+14   -7.87e+14\n",
       "Country_Philippines                                                     -4.517e+15   6.74e+07  -6.71e+07      0.000   -4.52e+15   -4.52e+15\n",
       "Country_Qatar                                                           -3.419e+15   5.32e+07  -6.42e+07      0.000   -3.42e+15   -3.42e+15\n",
       "Country_Russia                                                          -4.499e+15   8.31e+07  -5.41e+07      0.000    -4.5e+15    -4.5e+15\n",
       "Country_Saudi Arabia                                                    -1.192e+15   5.06e+07  -2.35e+07      0.000   -1.19e+15   -1.19e+15\n",
       "Country_Singapore                                                       -7.768e+14   5.04e+07  -1.54e+07      0.000   -7.77e+14   -7.77e+14\n",
       "Country_South Africa                                                     9.211e+14   5.84e+07   1.58e+07      0.000    9.21e+14    9.21e+14\n",
       "Country_Sri Lanka                                                         -17.0064   2.63e-07  -6.46e+07      0.000     -17.006     -17.006\n",
       "Country_Sweden                                                          -1.613e+15   6.73e+07   -2.4e+07      0.000   -1.61e+15   -1.61e+15\n",
       "Country_Switzerland                                                         0.4728   1.84e-07   2.57e+06      0.000       0.473       0.473\n",
       "Country_Tanzania                                                            0.8863    2.5e-07   3.55e+06      0.000       0.886       0.886\n",
       "Country_Uganda                                                          -3.915e+15   6.73e+07  -5.82e+07      0.000   -3.91e+15   -3.91e+15\n",
       "Country_United Arab Emirates                                            -9.052e+14   4.88e+07  -1.85e+07      0.000   -9.05e+14   -9.05e+14\n",
       "Country_United Kingdom                                                  -1.242e+14   5.34e+07  -2.33e+06      0.000   -1.24e+14   -1.24e+14\n",
       "Country_United States                                                   -5.313e+14   4.86e+07  -1.09e+07      0.000   -5.31e+14   -5.31e+14\n",
       "Country_Vietnam                                                         -5.351e+15   8.29e+07  -6.45e+07      0.000   -5.35e+15   -5.35e+15\n",
       "Country_unknown                                                          8.861e+13   5.63e+07   1.57e+06      0.000    8.86e+13    8.86e+13\n",
       "Specialization_Business Administration                                  -4.893e+13   6.08e+06  -8.05e+06      0.000   -4.89e+13   -4.89e+13\n",
       "Specialization_E-Business                                               -2.076e+14    1.2e+07  -1.72e+07      0.000   -2.08e+14   -2.08e+14\n",
       "Specialization_E-COMMERCE                                               -2.239e+14   8.74e+06  -2.56e+07      0.000   -2.24e+14   -2.24e+14\n",
       "Specialization_Finance Management                                        2.199e+13   5.22e+06   4.21e+06      0.000     2.2e+13     2.2e+13\n",
       "Specialization_Healthcare Management                                    -4.616e+13   8.22e+06  -5.62e+06      0.000   -4.62e+13   -4.62e+13\n",
       "Specialization_Hospitality Management                                   -2.427e+14   8.55e+06  -2.84e+07      0.000   -2.43e+14   -2.43e+14\n",
       "Specialization_Human Resource Management                                -1.537e+14   5.31e+06   -2.9e+07      0.000   -1.54e+14   -1.54e+14\n",
       "Specialization_IT Projects Management                                    1.374e+14   6.31e+06   2.18e+07      0.000    1.37e+14    1.37e+14\n",
       "Specialization_International Business                                    -1.34e+14   7.67e+06  -1.75e+07      0.000   -1.34e+14   -1.34e+14\n",
       "Specialization_Marketing Management                                     -5.754e+13    5.3e+06  -1.09e+07      0.000   -5.75e+13   -5.75e+13\n",
       "Specialization_Media and Advertising                                     1.883e+12   7.46e+06   2.53e+05      0.000    1.88e+12    1.88e+12\n",
       "Specialization_Operations Management                                    -9.189e+12   5.77e+06  -1.59e+06      0.000   -9.19e+12   -9.19e+12\n",
       "Specialization_Others                                                   -1.478e+14   5.48e+06   -2.7e+07      0.000   -1.48e+14   -1.48e+14\n",
       "Specialization_Retail Management                                         6.579e+12   9.25e+06   7.11e+05      0.000    6.58e+12    6.58e+12\n",
       "Specialization_Rural and Agribusiness                                   -7.006e+13   1.09e+07   -6.4e+06      0.000   -7.01e+13   -7.01e+13\n",
       "Specialization_Services Excellence                                      -1.688e+14    1.3e+07   -1.3e+07      0.000   -1.69e+14   -1.69e+14\n",
       "Specialization_Supply Chain Management                                  -8.099e+13   6.33e+06  -1.28e+07      0.000    -8.1e+13    -8.1e+13\n",
       "Specialization_Travel and Tourism                                       -1.029e+14   7.44e+06  -1.38e+07      0.000   -1.03e+14   -1.03e+14\n",
       "What is your current occupation_Housewife                                3.812e+15   3.58e+07   1.07e+08      0.000    3.81e+15    3.81e+15\n",
       "What is your current occupation_Other                                    1.584e+14   3.66e+07   4.33e+06      0.000    1.58e+14    1.58e+14\n",
       "What is your current occupation_Student                                  4.798e+14   2.83e+07   1.69e+07      0.000     4.8e+14     4.8e+14\n",
       "What is your current occupation_Unemployed                               3.278e+14   2.77e+07   1.18e+07      0.000    3.28e+14    3.28e+14\n",
       "What is your current occupation_Working Professional                     5.694e+14   2.78e+07   2.05e+07      0.000    5.69e+14    5.69e+14\n",
       "What matters most to you in choosing a course_Flexibility & Convenience -5.996e+14   4.79e+07  -1.25e+07      0.000      -6e+14      -6e+14\n",
       "What matters most to you in choosing a course_Other                     -3.676e+15   6.79e+07  -5.41e+07      0.000   -3.68e+15   -3.68e+15\n",
       "Search_Yes                                                               7.279e+14   2.21e+07   3.29e+07      0.000    7.28e+14    7.28e+14\n",
       "Newspaper Article_Yes                                                    3.498e+15   6.74e+07   5.19e+07      0.000     3.5e+15     3.5e+15\n",
       "X Education Forums_Yes                                                  -3.299e+15   1.12e+08  -2.95e+07      0.000    -3.3e+15    -3.3e+15\n",
       "Newspaper_Yes                                                           -3.805e+15   6.73e+07  -5.65e+07      0.000    -3.8e+15    -3.8e+15\n",
       "Digital Advertisement_Yes                                               -4.432e+15   4.82e+07   -9.2e+07      0.000   -4.43e+15   -4.43e+15\n",
       "Through Recommendations_Yes                                             -1.409e+14   2.87e+07  -4.91e+06      0.000   -1.41e+14   -1.41e+14\n",
       "Tags_Busy                                                                2.166e+14   7.87e+06   2.75e+07      0.000    2.17e+14    2.17e+14\n",
       "Tags_Closed by Horizzon                                                  2.308e+15   7.42e+06   3.11e+08      0.000    2.31e+15    2.31e+15\n",
       "Tags_Diploma holder (Not Eligible)                                      -3.064e+15   1.07e+07  -2.86e+08      0.000   -3.06e+15   -3.06e+15\n",
       "Tags_Graduation in progress                                              7.695e+14    9.4e+06   8.19e+07      0.000     7.7e+14     7.7e+14\n",
       "Tags_In confusion whether part time or DLP                              -9.298e+14    3.4e+07  -2.73e+07      0.000    -9.3e+14    -9.3e+14\n",
       "Tags_Interested  in full time MBA                                        4.984e+14   8.59e+06    5.8e+07      0.000    4.98e+14    4.98e+14\n",
       "Tags_Interested in Next batch                                            4.822e+15   3.08e+07   1.57e+08      0.000    4.82e+15    4.82e+15\n",
       "Tags_Interested in other courses                                         4.474e+14   5.72e+06   7.82e+07      0.000    4.47e+14    4.47e+14\n",
       "Tags_Lateral student                                                     5.648e+15   3.93e+07   1.44e+08      0.000    5.65e+15    5.65e+15\n",
       "Tags_Lost to EINS                                                        2.418e+15   7.99e+06   3.03e+08      0.000    2.42e+15    2.42e+15\n",
       "Tags_Lost to Others                                                     -3.539e+15   3.12e+07  -1.13e+08      0.000   -3.54e+15   -3.54e+15\n",
       "Tags_Not doing further education                                         4.464e+14   7.65e+06   5.83e+07      0.000    4.46e+14    4.46e+14\n",
       "Tags_Other issues                                                        2.925e+14   5.06e+06   5.78e+07      0.000    2.93e+14    2.93e+14\n",
       "Tags_Recognition issue (DEC approval)                                   -2.979e+15    6.9e+07  -4.32e+07      0.000   -2.98e+15   -2.98e+15\n",
       "Tags_Ringing                                                             1.101e+14   5.42e+06   2.03e+07      0.000     1.1e+14     1.1e+14\n",
       "Tags_Shall take in the next coming month                                 5.872e+15   6.77e+07   8.68e+07      0.000    5.87e+15    5.87e+15\n",
       "Tags_Still Thinking                                                     -6.963e+14   3.42e+07  -2.04e+07      0.000   -6.96e+14   -6.96e+14\n",
       "Tags_University not recognized                                          -3.629e+15   6.79e+07  -5.34e+07      0.000   -3.63e+15   -3.63e+15\n",
       "Tags_Want to take admission but has financial problems                    1.35e+15   3.61e+07   3.74e+07      0.000    1.35e+15    1.35e+15\n",
       "Tags_Will revert after reading the email                                 2.046e+15   5.86e+06   3.49e+08      0.000    2.05e+15    2.05e+15\n",
       "Tags_in touch with EINS                                                  7.307e+14   2.09e+07    3.5e+07      0.000    7.31e+14    7.31e+14\n",
       "Tags_invalid number                                                      7.273e+13   9.88e+06   7.36e+06      0.000    7.27e+13    7.27e+13\n",
       "Tags_number not provided                                                -2.133e+15   1.58e+07  -1.35e+08      0.000   -2.13e+15   -2.13e+15\n",
       "Tags_opp hangup                                                          7.682e+14    1.5e+07   5.12e+07      0.000    7.68e+14    7.68e+14\n",
       "Tags_switched off                                                       -4.039e+13   7.01e+06  -5.77e+06      0.000   -4.04e+13   -4.04e+13\n",
       "Tags_wrong number given                                                 -3.113e+15   1.31e+07  -2.37e+08      0.000   -3.11e+15   -3.11e+15\n",
       "Lead Quality_Low in Relevance                                           -9.439e+13   4.99e+06  -1.89e+07      0.000   -9.44e+13   -9.44e+13\n",
       "Lead Quality_Might be                                                   -2.272e+14    4.3e+06  -5.28e+07      0.000   -2.27e+14   -2.27e+14\n",
       "Lead Quality_Not Sure                                                   -2.599e+14    4.8e+06  -5.42e+07      0.000    -2.6e+14    -2.6e+14\n",
       "Lead Quality_Worst                                                      -5.028e+14   6.39e+06  -7.87e+07      0.000   -5.03e+14   -5.03e+14\n",
       "City_Other Cities                                                        8.031e+13   3.43e+06   2.34e+07      0.000    8.03e+13    8.03e+13\n",
       "City_Other Cities of Maharashtra                                         5.574e+13   4.08e+06   1.37e+07      0.000    5.57e+13    5.57e+13\n",
       "City_Other Metro Cities                                                  3.466e+13   4.48e+06   7.74e+06      0.000    3.47e+13    3.47e+13\n",
       "City_Thane & Outskirts                                                   4.976e+13    3.3e+06   1.51e+07      0.000    4.98e+13    4.98e+13\n",
       "City_Tier II Cities                                                      1.322e+13   9.66e+06   1.37e+06      0.000    1.32e+13    1.32e+13\n",
       "A free copy of Mastering The Interview_Yes                              -8.017e+13   2.72e+06  -2.95e+07      0.000   -8.02e+13   -8.02e+13\n",
       "Last Notable Activity_Email Bounced                                      6.507e+14    1.6e+07   4.07e+07      0.000    6.51e+14    6.51e+14\n",
       "Last Notable Activity_Email Link Clicked                                 1.243e+15   1.51e+07   8.22e+07      0.000    1.24e+15    1.24e+15\n",
       "Last Notable Activity_Email Marked Spam                                  1.379e+14    3.6e+07   3.83e+06      0.000    1.38e+14    1.38e+14\n",
       "Last Notable Activity_Email Opened                                         2.9e+14    1.2e+07   2.41e+07      0.000     2.9e+14     2.9e+14\n",
       "Last Notable Activity_Email Received                                    -3.765e+15   8.88e+07  -4.24e+07      0.000   -3.77e+15   -3.77e+15\n",
       "Last Notable Activity_Form Submitted on Website                         -3.425e+15   6.38e+07  -5.37e+07      0.000   -3.43e+15   -3.43e+15\n",
       "Last Notable Activity_Had a Phone Conversation                           1.799e+15   2.93e+07   6.15e+07      0.000     1.8e+15     1.8e+15\n",
       "Last Notable Activity_Modified                                           5.819e+14   1.16e+07   5.02e+07      0.000    5.82e+14    5.82e+14\n",
       "Last Notable Activity_Olark Chat Conversation                            1.397e+15   1.32e+07   1.06e+08      0.000     1.4e+15     1.4e+15\n",
       "Last Notable Activity_Page Visited on Website                             7.46e+14    1.3e+07   5.76e+07      0.000    7.46e+14    7.46e+14\n",
       "Last Notable Activity_Resubscribed to emails                             3.215e+14    3.5e+07   9.18e+06      0.000    3.21e+14    3.21e+14\n",
       "Last Notable Activity_SMS Sent                                           1.295e+15   1.21e+07   1.07e+08      0.000    1.29e+15    1.29e+15\n",
       "Last Notable Activity_Unreachable                                         7.12e+14   2.07e+07   3.44e+07      0.000    7.12e+14    7.12e+14\n",
       "Last Notable Activity_Unsubscribed                                       5.261e+14   2.76e+07   1.91e+07      0.000    5.26e+14    5.26e+14\n",
       "Last Notable Activity_View in browser link Clicked                               0          0        nan        nan           0           0\n",
       "===========================================================================================================================================\n",
       "\"\"\""
      ]
     },
     "execution_count": 97,
     "metadata": {},
     "output_type": "execute_result"
    }
   ],
   "source": [
    "# Logistic regression model\n",
    "import statsmodels.api as sm\n",
    "logm1 = sm.GLM(y_train,(sm.add_constant(X_train)), family = sm.families.Binomial())\n",
    "logm1.fit().summary()"
   ]
  },
  {
   "cell_type": "markdown",
   "metadata": {},
   "source": [
    "# Feature Selection Using RFE"
   ]
  },
  {
   "cell_type": "code",
   "execution_count": 98,
   "metadata": {},
   "outputs": [],
   "source": [
    "from sklearn.linear_model import LogisticRegression\n",
    "logreg = LogisticRegression()"
   ]
  },
  {
   "cell_type": "code",
   "execution_count": 99,
   "metadata": {},
   "outputs": [],
   "source": [
    "from sklearn.feature_selection import RFE\n",
    "rfe = RFE(logreg, 15)             # running RFE with 15 variables as output\n",
    "rfe = rfe.fit(X_train, y_train)"
   ]
  },
  {
   "cell_type": "code",
   "execution_count": 100,
   "metadata": {},
   "outputs": [
    {
     "data": {
      "text/plain": [
       "array([False, False, False, False, False, False, False, False, False,\n",
       "       False, False, False, False, False, False, False, False, False,\n",
       "       False, False,  True, False, False, False, False, False, False,\n",
       "       False, False, False, False, False, False, False, False, False,\n",
       "       False, False, False,  True, False, False, False, False, False,\n",
       "       False, False, False, False, False, False, False, False, False,\n",
       "       False, False, False, False, False, False, False, False, False,\n",
       "       False, False, False, False, False,  True, False, False, False,\n",
       "       False, False, False, False, False, False, False, False, False,\n",
       "       False, False, False, False, False, False, False, False, False,\n",
       "       False, False, False, False, False, False, False, False, False,\n",
       "       False, False, False, False, False, False, False, False, False,\n",
       "       False, False, False, False, False,  True, False, False, False,\n",
       "       False, False, False,  True,  True, False, False, False, False,\n",
       "        True, False, False, False, False,  True, False,  True,  True,\n",
       "       False,  True,  True, False, False, False,  True, False, False,\n",
       "       False, False, False, False, False, False, False, False, False,\n",
       "       False, False,  True,  True, False, False, False, False, False,\n",
       "       False])"
      ]
     },
     "execution_count": 100,
     "metadata": {},
     "output_type": "execute_result"
    }
   ],
   "source": [
    "rfe.support_"
   ]
  },
  {
   "cell_type": "code",
   "execution_count": 101,
   "metadata": {
    "scrolled": false
   },
   "outputs": [
    {
     "data": {
      "text/plain": [
       "[('TotalVisits', False, 79),\n",
       " ('Total Time Spent on Website', False, 9),\n",
       " ('Page Views Per Visit', False, 113),\n",
       " ('Lead Origin_Landing Page Submission', False, 8),\n",
       " ('Lead Origin_Lead Add Form', False, 7),\n",
       " ('Lead Origin_Lead Import', False, 99),\n",
       " ('Lead Origin_Quick Add Form', False, 49),\n",
       " ('Lead Source_Direct Traffic', False, 33),\n",
       " ('Lead Source_Facebook', False, 30),\n",
       " ('Lead Source_Google', False, 35),\n",
       " ('Lead Source_Live Chat', False, 134),\n",
       " ('Lead Source_NC_EDM', False, 40),\n",
       " ('Lead Source_Olark Chat', False, 54),\n",
       " ('Lead Source_Organic Search', False, 34),\n",
       " ('Lead Source_Pay per Click Ads', False, 138),\n",
       " ('Lead Source_Press_Release', False, 102),\n",
       " ('Lead Source_Reference', False, 17),\n",
       " ('Lead Source_Referral Sites', False, 32),\n",
       " ('Lead Source_Social Media', False, 85),\n",
       " ('Lead Source_WeLearn', False, 131),\n",
       " ('Lead Source_Welingak Website', True, 1),\n",
       " ('Lead Source_bing', False, 62),\n",
       " ('Lead Source_blog', False, 59),\n",
       " ('Lead Source_testone', False, 143),\n",
       " ('Lead Source_welearnblog_Home', False, 77),\n",
       " ('Lead Source_youtubechannel', False, 89),\n",
       " ('Do Not Email_Yes', False, 20),\n",
       " ('Do Not Call_Yes', False, 76),\n",
       " ('Last Activity_Converted to Lead', False, 44),\n",
       " ('Last Activity_Email Bounced', False, 42),\n",
       " ('Last Activity_Email Link Clicked', False, 78),\n",
       " ('Last Activity_Email Marked Spam', False, 128),\n",
       " ('Last Activity_Email Opened', False, 100),\n",
       " ('Last Activity_Email Received', False, 114),\n",
       " ('Last Activity_Form Submitted on Website', False, 74),\n",
       " ('Last Activity_Had a Phone Conversation', False, 125),\n",
       " ('Last Activity_Olark Chat Conversation', False, 31),\n",
       " ('Last Activity_Page Visited on Website', False, 45),\n",
       " ('Last Activity_Resubscribed to emails', False, 118),\n",
       " ('Last Activity_SMS Sent', True, 1),\n",
       " ('Last Activity_Unreachable', False, 105),\n",
       " ('Last Activity_Unsubscribed', False, 87),\n",
       " ('Last Activity_View in browser link Clicked', False, 36),\n",
       " ('Last Activity_Visited Booth in Tradeshow', False, 137),\n",
       " ('Country_Australia', False, 48),\n",
       " ('Country_Bahrain', False, 98),\n",
       " ('Country_Bangladesh', False, 119),\n",
       " ('Country_Belgium', False, 106),\n",
       " ('Country_Canada', False, 56),\n",
       " ('Country_China', False, 109),\n",
       " ('Country_Denmark', False, 142),\n",
       " ('Country_France', False, 52),\n",
       " ('Country_Germany', False, 13),\n",
       " ('Country_Ghana', False, 72),\n",
       " ('Country_Hong Kong', False, 23),\n",
       " ('Country_India', False, 127),\n",
       " ('Country_Indonesia', False, 117),\n",
       " ('Country_Italy', False, 144),\n",
       " ('Country_Kenya', False, 141),\n",
       " ('Country_Kuwait', False, 112),\n",
       " ('Country_Liberia', False, 147),\n",
       " ('Country_Malaysia', False, 139),\n",
       " ('Country_Netherlands', False, 82),\n",
       " ('Country_Nigeria', False, 65),\n",
       " ('Country_Oman', False, 60),\n",
       " ('Country_Philippines', False, 133),\n",
       " ('Country_Qatar', False, 22),\n",
       " ('Country_Russia', False, 91),\n",
       " ('Country_Saudi Arabia', True, 1),\n",
       " ('Country_Singapore', False, 57),\n",
       " ('Country_South Africa', False, 27),\n",
       " ('Country_Sri Lanka', False, 148),\n",
       " ('Country_Sweden', False, 115),\n",
       " ('Country_Switzerland', False, 146),\n",
       " ('Country_Tanzania', False, 145),\n",
       " ('Country_Uganda', False, 103),\n",
       " ('Country_United Arab Emirates', False, 70),\n",
       " ('Country_United Kingdom', False, 51),\n",
       " ('Country_United States', False, 29),\n",
       " ('Country_Vietnam', False, 111),\n",
       " ('Country_unknown', False, 136),\n",
       " ('Specialization_Business Administration', False, 122),\n",
       " ('Specialization_E-Business', False, 75),\n",
       " ('Specialization_E-COMMERCE', False, 46),\n",
       " ('Specialization_Finance Management', False, 123),\n",
       " ('Specialization_Healthcare Management', False, 80),\n",
       " ('Specialization_Hospitality Management', False, 41),\n",
       " ('Specialization_Human Resource Management', False, 81),\n",
       " ('Specialization_IT Projects Management', False, 38),\n",
       " ('Specialization_International Business', False, 25),\n",
       " ('Specialization_Marketing Management', False, 107),\n",
       " ('Specialization_Media and Advertising', False, 95),\n",
       " ('Specialization_Operations Management', False, 108),\n",
       " ('Specialization_Others', False, 121),\n",
       " ('Specialization_Retail Management', False, 69),\n",
       " ('Specialization_Rural and Agribusiness', False, 53),\n",
       " ('Specialization_Services Excellence', False, 39),\n",
       " ('Specialization_Supply Chain Management', False, 55),\n",
       " ('Specialization_Travel and Tourism', False, 24),\n",
       " ('What is your current occupation_Housewife', False, 50),\n",
       " ('What is your current occupation_Other', False, 116),\n",
       " ('What is your current occupation_Student', False, 61),\n",
       " ('What is your current occupation_Unemployed', False, 88),\n",
       " ('What is your current occupation_Working Professional', False, 19),\n",
       " ('What matters most to you in choosing a course_Flexibility & Convenience',\n",
       "  False,\n",
       "  92),\n",
       " ('What matters most to you in choosing a course_Other', False, 135),\n",
       " ('Search_Yes', False, 43),\n",
       " ('Newspaper Article_Yes', False, 132),\n",
       " ('X Education Forums_Yes', False, 93),\n",
       " ('Newspaper_Yes', False, 104),\n",
       " ('Digital Advertisement_Yes', False, 58),\n",
       " ('Through Recommendations_Yes', False, 124),\n",
       " ('Tags_Busy', False, 2),\n",
       " ('Tags_Closed by Horizzon', True, 1),\n",
       " ('Tags_Diploma holder (Not Eligible)', False, 6),\n",
       " ('Tags_Graduation in progress', False, 71),\n",
       " ('Tags_In confusion whether part time or DLP', False, 67),\n",
       " ('Tags_Interested  in full time MBA', False, 16),\n",
       " ('Tags_Interested in Next batch', False, 28),\n",
       " ('Tags_Interested in other courses', False, 11),\n",
       " ('Tags_Lateral student', True, 1),\n",
       " ('Tags_Lost to EINS', True, 1),\n",
       " ('Tags_Lost to Others', False, 37),\n",
       " ('Tags_Not doing further education', False, 14),\n",
       " ('Tags_Other issues', False, 3),\n",
       " ('Tags_Recognition issue (DEC approval)', False, 63),\n",
       " ('Tags_Ringing', True, 1),\n",
       " ('Tags_Shall take in the next coming month', False, 21),\n",
       " ('Tags_Still Thinking', False, 110),\n",
       " ('Tags_University not recognized', False, 97),\n",
       " ('Tags_Want to take admission but has financial problems', False, 47),\n",
       " ('Tags_Will revert after reading the email', True, 1),\n",
       " ('Tags_in touch with EINS', False, 18),\n",
       " ('Tags_invalid number', True, 1),\n",
       " ('Tags_number not provided', True, 1),\n",
       " ('Tags_opp hangup', False, 66),\n",
       " ('Tags_switched off', True, 1),\n",
       " ('Tags_wrong number given', True, 1),\n",
       " ('Lead Quality_Low in Relevance', False, 140),\n",
       " ('Lead Quality_Might be', False, 5),\n",
       " ('Lead Quality_Not Sure', False, 4),\n",
       " ('Lead Quality_Worst', True, 1),\n",
       " ('City_Other Cities', False, 90),\n",
       " ('City_Other Cities of Maharashtra', False, 101),\n",
       " ('City_Other Metro Cities', False, 94),\n",
       " ('City_Thane & Outskirts', False, 83),\n",
       " ('City_Tier II Cities', False, 86),\n",
       " ('A free copy of Mastering The Interview_Yes', False, 84),\n",
       " ('Last Notable Activity_Email Bounced', False, 26),\n",
       " ('Last Notable Activity_Email Link Clicked', False, 12),\n",
       " ('Last Notable Activity_Email Marked Spam', False, 129),\n",
       " ('Last Notable Activity_Email Opened', False, 126),\n",
       " ('Last Notable Activity_Email Received', False, 130),\n",
       " ('Last Notable Activity_Form Submitted on Website', False, 96),\n",
       " ('Last Notable Activity_Had a Phone Conversation', False, 15),\n",
       " ('Last Notable Activity_Modified', True, 1),\n",
       " ('Last Notable Activity_Olark Chat Conversation', True, 1),\n",
       " ('Last Notable Activity_Page Visited on Website', False, 73),\n",
       " ('Last Notable Activity_Resubscribed to emails', False, 120),\n",
       " ('Last Notable Activity_SMS Sent', False, 10),\n",
       " ('Last Notable Activity_Unreachable', False, 68),\n",
       " ('Last Notable Activity_Unsubscribed', False, 64),\n",
       " ('Last Notable Activity_View in browser link Clicked', False, 149)]"
      ]
     },
     "execution_count": 101,
     "metadata": {},
     "output_type": "execute_result"
    }
   ],
   "source": [
    "list(zip(X_train.columns, rfe.support_, rfe.ranking_))"
   ]
  },
  {
   "cell_type": "code",
   "execution_count": 102,
   "metadata": {},
   "outputs": [],
   "source": [
    "col = X_train.columns[rfe.support_]"
   ]
  },
  {
   "cell_type": "code",
   "execution_count": 103,
   "metadata": {},
   "outputs": [
    {
     "data": {
      "text/plain": [
       "Index(['TotalVisits', 'Total Time Spent on Website', 'Page Views Per Visit',\n",
       "       'Lead Origin_Landing Page Submission', 'Lead Origin_Lead Add Form',\n",
       "       'Lead Origin_Lead Import', 'Lead Origin_Quick Add Form',\n",
       "       'Lead Source_Direct Traffic', 'Lead Source_Facebook',\n",
       "       'Lead Source_Google',\n",
       "       ...\n",
       "       'Last Notable Activity_Email Opened',\n",
       "       'Last Notable Activity_Email Received',\n",
       "       'Last Notable Activity_Form Submitted on Website',\n",
       "       'Last Notable Activity_Had a Phone Conversation',\n",
       "       'Last Notable Activity_Page Visited on Website',\n",
       "       'Last Notable Activity_Resubscribed to emails',\n",
       "       'Last Notable Activity_SMS Sent', 'Last Notable Activity_Unreachable',\n",
       "       'Last Notable Activity_Unsubscribed',\n",
       "       'Last Notable Activity_View in browser link Clicked'],\n",
       "      dtype='object', length=148)"
      ]
     },
     "execution_count": 103,
     "metadata": {},
     "output_type": "execute_result"
    }
   ],
   "source": [
    "X_train.columns[~rfe.support_]"
   ]
  },
  {
   "cell_type": "code",
   "execution_count": 104,
   "metadata": {},
   "outputs": [
    {
     "data": {
      "text/html": [
       "<table class=\"simpletable\">\n",
       "<caption>Generalized Linear Model Regression Results</caption>\n",
       "<tr>\n",
       "  <th>Dep. Variable:</th>       <td>Converted</td>    <th>  No. Observations:  </th>  <td>  6468</td> \n",
       "</tr>\n",
       "<tr>\n",
       "  <th>Model:</th>                  <td>GLM</td>       <th>  Df Residuals:      </th>  <td>  6452</td> \n",
       "</tr>\n",
       "<tr>\n",
       "  <th>Model Family:</th>        <td>Binomial</td>     <th>  Df Model:          </th>  <td>    15</td> \n",
       "</tr>\n",
       "<tr>\n",
       "  <th>Link Function:</th>         <td>logit</td>      <th>  Scale:             </th> <td>  1.0000</td>\n",
       "</tr>\n",
       "<tr>\n",
       "  <th>Method:</th>                <td>IRLS</td>       <th>  Log-Likelihood:    </th> <td> -1468.8</td>\n",
       "</tr>\n",
       "<tr>\n",
       "  <th>Date:</th>            <td>Mon, 18 Nov 2019</td> <th>  Deviance:          </th> <td>  2937.6</td>\n",
       "</tr>\n",
       "<tr>\n",
       "  <th>Time:</th>                <td>23:05:46</td>     <th>  Pearson chi2:      </th> <td>1.74e+04</td>\n",
       "</tr>\n",
       "<tr>\n",
       "  <th>No. Iterations:</th>         <td>23</td>        <th>                     </th>     <td> </td>   \n",
       "</tr>\n",
       "<tr>\n",
       "  <th>Covariance Type:</th>     <td>nonrobust</td>    <th>                     </th>     <td> </td>   \n",
       "</tr>\n",
       "</table>\n",
       "<table class=\"simpletable\">\n",
       "<tr>\n",
       "                        <td></td>                           <th>coef</th>     <th>std err</th>      <th>z</th>      <th>P>|z|</th>  <th>[0.025</th>    <th>0.975]</th>  \n",
       "</tr>\n",
       "<tr>\n",
       "  <th>const</th>                                         <td>   -1.4251</td> <td>    0.071</td> <td>  -20.022</td> <td> 0.000</td> <td>   -1.565</td> <td>   -1.286</td>\n",
       "</tr>\n",
       "<tr>\n",
       "  <th>Lead Source_Welingak Website</th>                  <td>    4.8657</td> <td>    0.754</td> <td>    6.449</td> <td> 0.000</td> <td>    3.387</td> <td>    6.344</td>\n",
       "</tr>\n",
       "<tr>\n",
       "  <th>Last Activity_SMS Sent</th>                        <td>    2.2071</td> <td>    0.106</td> <td>   20.896</td> <td> 0.000</td> <td>    2.000</td> <td>    2.414</td>\n",
       "</tr>\n",
       "<tr>\n",
       "  <th>Country_Saudi Arabia</th>                          <td>   -2.0925</td> <td>    1.211</td> <td>   -1.728</td> <td> 0.084</td> <td>   -4.465</td> <td>    0.280</td>\n",
       "</tr>\n",
       "<tr>\n",
       "  <th>Tags_Closed by Horizzon</th>                       <td>    8.2328</td> <td>    1.008</td> <td>    8.164</td> <td> 0.000</td> <td>    6.256</td> <td>   10.209</td>\n",
       "</tr>\n",
       "<tr>\n",
       "  <th>Tags_Lateral student</th>                          <td>   25.2451</td> <td>  7.3e+04</td> <td>    0.000</td> <td> 1.000</td> <td>-1.43e+05</td> <td> 1.43e+05</td>\n",
       "</tr>\n",
       "<tr>\n",
       "  <th>Tags_Lost to EINS</th>                             <td>    7.2474</td> <td>    0.790</td> <td>    9.177</td> <td> 0.000</td> <td>    5.700</td> <td>    8.795</td>\n",
       "</tr>\n",
       "<tr>\n",
       "  <th>Tags_Ringing</th>                                  <td>   -3.2934</td> <td>    0.221</td> <td>  -14.909</td> <td> 0.000</td> <td>   -3.726</td> <td>   -2.860</td>\n",
       "</tr>\n",
       "<tr>\n",
       "  <th>Tags_Will revert after reading the email</th>      <td>    4.9691</td> <td>    0.175</td> <td>   28.368</td> <td> 0.000</td> <td>    4.626</td> <td>    5.312</td>\n",
       "</tr>\n",
       "<tr>\n",
       "  <th>Tags_invalid number</th>                           <td>   -3.5475</td> <td>    1.029</td> <td>   -3.447</td> <td> 0.001</td> <td>   -5.564</td> <td>   -1.531</td>\n",
       "</tr>\n",
       "<tr>\n",
       "  <th>Tags_number not provided</th>                      <td>  -23.7641</td> <td> 2.44e+04</td> <td>   -0.001</td> <td> 0.999</td> <td>-4.78e+04</td> <td> 4.77e+04</td>\n",
       "</tr>\n",
       "<tr>\n",
       "  <th>Tags_switched off</th>                             <td>   -3.7323</td> <td>    0.518</td> <td>   -7.205</td> <td> 0.000</td> <td>   -4.748</td> <td>   -2.717</td>\n",
       "</tr>\n",
       "<tr>\n",
       "  <th>Tags_wrong number given</th>                       <td>  -23.9254</td> <td> 2.06e+04</td> <td>   -0.001</td> <td> 0.999</td> <td>-4.04e+04</td> <td> 4.04e+04</td>\n",
       "</tr>\n",
       "<tr>\n",
       "  <th>Lead Quality_Worst</th>                            <td>   -2.8935</td> <td>    0.550</td> <td>   -5.262</td> <td> 0.000</td> <td>   -3.971</td> <td>   -1.816</td>\n",
       "</tr>\n",
       "<tr>\n",
       "  <th>Last Notable Activity_Modified</th>                <td>   -1.8640</td> <td>    0.115</td> <td>  -16.163</td> <td> 0.000</td> <td>   -2.090</td> <td>   -1.638</td>\n",
       "</tr>\n",
       "<tr>\n",
       "  <th>Last Notable Activity_Olark Chat Conversation</th> <td>   -1.1764</td> <td>    0.395</td> <td>   -2.975</td> <td> 0.003</td> <td>   -1.951</td> <td>   -0.401</td>\n",
       "</tr>\n",
       "</table>"
      ],
      "text/plain": [
       "<class 'statsmodels.iolib.summary.Summary'>\n",
       "\"\"\"\n",
       "                 Generalized Linear Model Regression Results                  \n",
       "==============================================================================\n",
       "Dep. Variable:              Converted   No. Observations:                 6468\n",
       "Model:                            GLM   Df Residuals:                     6452\n",
       "Model Family:                Binomial   Df Model:                           15\n",
       "Link Function:                  logit   Scale:                          1.0000\n",
       "Method:                          IRLS   Log-Likelihood:                -1468.8\n",
       "Date:                Mon, 18 Nov 2019   Deviance:                       2937.6\n",
       "Time:                        23:05:46   Pearson chi2:                 1.74e+04\n",
       "No. Iterations:                    23                                         \n",
       "Covariance Type:            nonrobust                                         \n",
       "=================================================================================================================\n",
       "                                                    coef    std err          z      P>|z|      [0.025      0.975]\n",
       "-----------------------------------------------------------------------------------------------------------------\n",
       "const                                            -1.4251      0.071    -20.022      0.000      -1.565      -1.286\n",
       "Lead Source_Welingak Website                      4.8657      0.754      6.449      0.000       3.387       6.344\n",
       "Last Activity_SMS Sent                            2.2071      0.106     20.896      0.000       2.000       2.414\n",
       "Country_Saudi Arabia                             -2.0925      1.211     -1.728      0.084      -4.465       0.280\n",
       "Tags_Closed by Horizzon                           8.2328      1.008      8.164      0.000       6.256      10.209\n",
       "Tags_Lateral student                             25.2451    7.3e+04      0.000      1.000   -1.43e+05    1.43e+05\n",
       "Tags_Lost to EINS                                 7.2474      0.790      9.177      0.000       5.700       8.795\n",
       "Tags_Ringing                                     -3.2934      0.221    -14.909      0.000      -3.726      -2.860\n",
       "Tags_Will revert after reading the email          4.9691      0.175     28.368      0.000       4.626       5.312\n",
       "Tags_invalid number                              -3.5475      1.029     -3.447      0.001      -5.564      -1.531\n",
       "Tags_number not provided                        -23.7641   2.44e+04     -0.001      0.999   -4.78e+04    4.77e+04\n",
       "Tags_switched off                                -3.7323      0.518     -7.205      0.000      -4.748      -2.717\n",
       "Tags_wrong number given                         -23.9254   2.06e+04     -0.001      0.999   -4.04e+04    4.04e+04\n",
       "Lead Quality_Worst                               -2.8935      0.550     -5.262      0.000      -3.971      -1.816\n",
       "Last Notable Activity_Modified                   -1.8640      0.115    -16.163      0.000      -2.090      -1.638\n",
       "Last Notable Activity_Olark Chat Conversation    -1.1764      0.395     -2.975      0.003      -1.951      -0.401\n",
       "=================================================================================================================\n",
       "\"\"\""
      ]
     },
     "execution_count": 104,
     "metadata": {},
     "output_type": "execute_result"
    }
   ],
   "source": [
    "#Assessing the model with StatsModels\n",
    "X_train_sm = sm.add_constant(X_train[col])\n",
    "logm2 = sm.GLM(y_train,X_train_sm, family = sm.families.Binomial())\n",
    "res = logm2.fit()\n",
    "res.summary()"
   ]
  },
  {
   "cell_type": "code",
   "execution_count": 105,
   "metadata": {},
   "outputs": [],
   "source": [
    "X_train= X_train.drop('Tags_Lateral student',axis=1)"
   ]
  },
  {
   "cell_type": "code",
   "execution_count": 106,
   "metadata": {},
   "outputs": [
    {
     "data": {
      "text/plain": [
       "['Lead Source_Welingak Website',\n",
       " 'Last Activity_SMS Sent',\n",
       " 'Country_Saudi Arabia',\n",
       " 'Tags_Closed by Horizzon',\n",
       " 'Tags_Lateral student',\n",
       " 'Tags_Lost to EINS',\n",
       " 'Tags_Ringing',\n",
       " 'Tags_Will revert after reading the email',\n",
       " 'Tags_invalid number',\n",
       " 'Tags_number not provided',\n",
       " 'Tags_switched off',\n",
       " 'Tags_wrong number given',\n",
       " 'Lead Quality_Worst',\n",
       " 'Last Notable Activity_Modified',\n",
       " 'Last Notable Activity_Olark Chat Conversation']"
      ]
     },
     "execution_count": 106,
     "metadata": {},
     "output_type": "execute_result"
    }
   ],
   "source": [
    "col=list(col)\n",
    "col"
   ]
  },
  {
   "cell_type": "code",
   "execution_count": 107,
   "metadata": {},
   "outputs": [],
   "source": [
    "col.remove('Tags_Lateral student')"
   ]
  },
  {
   "cell_type": "code",
   "execution_count": 108,
   "metadata": {},
   "outputs": [
    {
     "data": {
      "text/plain": [
       "['Lead Source_Welingak Website',\n",
       " 'Last Activity_SMS Sent',\n",
       " 'Country_Saudi Arabia',\n",
       " 'Tags_Closed by Horizzon',\n",
       " 'Tags_Lost to EINS',\n",
       " 'Tags_Ringing',\n",
       " 'Tags_Will revert after reading the email',\n",
       " 'Tags_invalid number',\n",
       " 'Tags_number not provided',\n",
       " 'Tags_switched off',\n",
       " 'Tags_wrong number given',\n",
       " 'Lead Quality_Worst',\n",
       " 'Last Notable Activity_Modified',\n",
       " 'Last Notable Activity_Olark Chat Conversation']"
      ]
     },
     "execution_count": 108,
     "metadata": {},
     "output_type": "execute_result"
    }
   ],
   "source": [
    "col"
   ]
  },
  {
   "cell_type": "code",
   "execution_count": 109,
   "metadata": {},
   "outputs": [
    {
     "data": {
      "text/html": [
       "<table class=\"simpletable\">\n",
       "<caption>Generalized Linear Model Regression Results</caption>\n",
       "<tr>\n",
       "  <th>Dep. Variable:</th>       <td>Converted</td>    <th>  No. Observations:  </th>  <td>  6468</td> \n",
       "</tr>\n",
       "<tr>\n",
       "  <th>Model:</th>                  <td>GLM</td>       <th>  Df Residuals:      </th>  <td>  6453</td> \n",
       "</tr>\n",
       "<tr>\n",
       "  <th>Model Family:</th>        <td>Binomial</td>     <th>  Df Model:          </th>  <td>    14</td> \n",
       "</tr>\n",
       "<tr>\n",
       "  <th>Link Function:</th>         <td>logit</td>      <th>  Scale:             </th> <td>  1.0000</td>\n",
       "</tr>\n",
       "<tr>\n",
       "  <th>Method:</th>                <td>IRLS</td>       <th>  Log-Likelihood:    </th> <td> -1471.9</td>\n",
       "</tr>\n",
       "<tr>\n",
       "  <th>Date:</th>            <td>Mon, 18 Nov 2019</td> <th>  Deviance:          </th> <td>  2943.8</td>\n",
       "</tr>\n",
       "<tr>\n",
       "  <th>Time:</th>                <td>23:05:46</td>     <th>  Pearson chi2:      </th> <td>1.74e+04</td>\n",
       "</tr>\n",
       "<tr>\n",
       "  <th>No. Iterations:</th>         <td>23</td>        <th>                     </th>     <td> </td>   \n",
       "</tr>\n",
       "<tr>\n",
       "  <th>Covariance Type:</th>     <td>nonrobust</td>    <th>                     </th>     <td> </td>   \n",
       "</tr>\n",
       "</table>\n",
       "<table class=\"simpletable\">\n",
       "<tr>\n",
       "                        <td></td>                           <th>coef</th>     <th>std err</th>      <th>z</th>      <th>P>|z|</th>  <th>[0.025</th>    <th>0.975]</th>  \n",
       "</tr>\n",
       "<tr>\n",
       "  <th>const</th>                                         <td>   -1.4272</td> <td>    0.071</td> <td>  -20.049</td> <td> 0.000</td> <td>   -1.567</td> <td>   -1.288</td>\n",
       "</tr>\n",
       "<tr>\n",
       "  <th>Lead Source_Welingak Website</th>                  <td>    4.8584</td> <td>    0.754</td> <td>    6.442</td> <td> 0.000</td> <td>    3.380</td> <td>    6.337</td>\n",
       "</tr>\n",
       "<tr>\n",
       "  <th>Last Activity_SMS Sent</th>                        <td>    2.2179</td> <td>    0.106</td> <td>   21.022</td> <td> 0.000</td> <td>    2.011</td> <td>    2.425</td>\n",
       "</tr>\n",
       "<tr>\n",
       "  <th>Country_Saudi Arabia</th>                          <td>   -2.0907</td> <td>    1.209</td> <td>   -1.730</td> <td> 0.084</td> <td>   -4.460</td> <td>    0.279</td>\n",
       "</tr>\n",
       "<tr>\n",
       "  <th>Tags_Closed by Horizzon</th>                       <td>    8.2237</td> <td>    1.008</td> <td>    8.155</td> <td> 0.000</td> <td>    6.247</td> <td>   10.200</td>\n",
       "</tr>\n",
       "<tr>\n",
       "  <th>Tags_Lost to EINS</th>                             <td>    7.2393</td> <td>    0.790</td> <td>    9.167</td> <td> 0.000</td> <td>    5.692</td> <td>    8.787</td>\n",
       "</tr>\n",
       "<tr>\n",
       "  <th>Tags_Ringing</th>                                  <td>   -3.3007</td> <td>    0.221</td> <td>  -14.940</td> <td> 0.000</td> <td>   -3.734</td> <td>   -2.868</td>\n",
       "</tr>\n",
       "<tr>\n",
       "  <th>Tags_Will revert after reading the email</th>      <td>    4.9632</td> <td>    0.175</td> <td>   28.366</td> <td> 0.000</td> <td>    4.620</td> <td>    5.306</td>\n",
       "</tr>\n",
       "<tr>\n",
       "  <th>Tags_invalid number</th>                           <td>   -3.5549</td> <td>    1.029</td> <td>   -3.454</td> <td> 0.001</td> <td>   -5.572</td> <td>   -1.538</td>\n",
       "</tr>\n",
       "<tr>\n",
       "  <th>Tags_number not provided</th>                      <td>  -23.7707</td> <td> 2.44e+04</td> <td>   -0.001</td> <td> 0.999</td> <td>-4.78e+04</td> <td> 4.77e+04</td>\n",
       "</tr>\n",
       "<tr>\n",
       "  <th>Tags_switched off</th>                             <td>   -3.7401</td> <td>    0.518</td> <td>   -7.220</td> <td> 0.000</td> <td>   -4.755</td> <td>   -2.725</td>\n",
       "</tr>\n",
       "<tr>\n",
       "  <th>Tags_wrong number given</th>                       <td>  -23.9328</td> <td> 2.06e+04</td> <td>   -0.001</td> <td> 0.999</td> <td>-4.04e+04</td> <td> 4.04e+04</td>\n",
       "</tr>\n",
       "<tr>\n",
       "  <th>Lead Quality_Worst</th>                            <td>   -2.8955</td> <td>    0.550</td> <td>   -5.266</td> <td> 0.000</td> <td>   -3.973</td> <td>   -1.818</td>\n",
       "</tr>\n",
       "<tr>\n",
       "  <th>Last Notable Activity_Modified</th>                <td>   -1.8517</td> <td>    0.115</td> <td>  -16.126</td> <td> 0.000</td> <td>   -2.077</td> <td>   -1.627</td>\n",
       "</tr>\n",
       "<tr>\n",
       "  <th>Last Notable Activity_Olark Chat Conversation</th> <td>   -1.1738</td> <td>    0.395</td> <td>   -2.969</td> <td> 0.003</td> <td>   -1.949</td> <td>   -0.399</td>\n",
       "</tr>\n",
       "</table>"
      ],
      "text/plain": [
       "<class 'statsmodels.iolib.summary.Summary'>\n",
       "\"\"\"\n",
       "                 Generalized Linear Model Regression Results                  \n",
       "==============================================================================\n",
       "Dep. Variable:              Converted   No. Observations:                 6468\n",
       "Model:                            GLM   Df Residuals:                     6453\n",
       "Model Family:                Binomial   Df Model:                           14\n",
       "Link Function:                  logit   Scale:                          1.0000\n",
       "Method:                          IRLS   Log-Likelihood:                -1471.9\n",
       "Date:                Mon, 18 Nov 2019   Deviance:                       2943.8\n",
       "Time:                        23:05:46   Pearson chi2:                 1.74e+04\n",
       "No. Iterations:                    23                                         \n",
       "Covariance Type:            nonrobust                                         \n",
       "=================================================================================================================\n",
       "                                                    coef    std err          z      P>|z|      [0.025      0.975]\n",
       "-----------------------------------------------------------------------------------------------------------------\n",
       "const                                            -1.4272      0.071    -20.049      0.000      -1.567      -1.288\n",
       "Lead Source_Welingak Website                      4.8584      0.754      6.442      0.000       3.380       6.337\n",
       "Last Activity_SMS Sent                            2.2179      0.106     21.022      0.000       2.011       2.425\n",
       "Country_Saudi Arabia                             -2.0907      1.209     -1.730      0.084      -4.460       0.279\n",
       "Tags_Closed by Horizzon                           8.2237      1.008      8.155      0.000       6.247      10.200\n",
       "Tags_Lost to EINS                                 7.2393      0.790      9.167      0.000       5.692       8.787\n",
       "Tags_Ringing                                     -3.3007      0.221    -14.940      0.000      -3.734      -2.868\n",
       "Tags_Will revert after reading the email          4.9632      0.175     28.366      0.000       4.620       5.306\n",
       "Tags_invalid number                              -3.5549      1.029     -3.454      0.001      -5.572      -1.538\n",
       "Tags_number not provided                        -23.7707   2.44e+04     -0.001      0.999   -4.78e+04    4.77e+04\n",
       "Tags_switched off                                -3.7401      0.518     -7.220      0.000      -4.755      -2.725\n",
       "Tags_wrong number given                         -23.9328   2.06e+04     -0.001      0.999   -4.04e+04    4.04e+04\n",
       "Lead Quality_Worst                               -2.8955      0.550     -5.266      0.000      -3.973      -1.818\n",
       "Last Notable Activity_Modified                   -1.8517      0.115    -16.126      0.000      -2.077      -1.627\n",
       "Last Notable Activity_Olark Chat Conversation    -1.1738      0.395     -2.969      0.003      -1.949      -0.399\n",
       "=================================================================================================================\n",
       "\"\"\""
      ]
     },
     "execution_count": 109,
     "metadata": {},
     "output_type": "execute_result"
    }
   ],
   "source": [
    "#Assessing the model with StatsModels\n",
    "X_train_sm = sm.add_constant(X_train[col])\n",
    "logm2 = sm.GLM(y_train,X_train_sm, family = sm.families.Binomial())\n",
    "res = logm2.fit()\n",
    "res.summary()"
   ]
  },
  {
   "cell_type": "code",
   "execution_count": 110,
   "metadata": {},
   "outputs": [
    {
     "data": {
      "text/html": [
       "<table class=\"simpletable\">\n",
       "<caption>Generalized Linear Model Regression Results</caption>\n",
       "<tr>\n",
       "  <th>Dep. Variable:</th>       <td>Converted</td>    <th>  No. Observations:  </th>  <td>  6468</td> \n",
       "</tr>\n",
       "<tr>\n",
       "  <th>Model:</th>                  <td>GLM</td>       <th>  Df Residuals:      </th>  <td>  6454</td> \n",
       "</tr>\n",
       "<tr>\n",
       "  <th>Model Family:</th>        <td>Binomial</td>     <th>  Df Model:          </th>  <td>    13</td> \n",
       "</tr>\n",
       "<tr>\n",
       "  <th>Link Function:</th>         <td>logit</td>      <th>  Scale:             </th> <td>  1.0000</td>\n",
       "</tr>\n",
       "<tr>\n",
       "  <th>Method:</th>                <td>IRLS</td>       <th>  Log-Likelihood:    </th> <td> -1479.5</td>\n",
       "</tr>\n",
       "<tr>\n",
       "  <th>Date:</th>            <td>Mon, 18 Nov 2019</td> <th>  Deviance:          </th> <td>  2959.0</td>\n",
       "</tr>\n",
       "<tr>\n",
       "  <th>Time:</th>                <td>23:05:46</td>     <th>  Pearson chi2:      </th> <td>1.71e+04</td>\n",
       "</tr>\n",
       "<tr>\n",
       "  <th>No. Iterations:</th>         <td>22</td>        <th>                     </th>     <td> </td>   \n",
       "</tr>\n",
       "<tr>\n",
       "  <th>Covariance Type:</th>     <td>nonrobust</td>    <th>                     </th>     <td> </td>   \n",
       "</tr>\n",
       "</table>\n",
       "<table class=\"simpletable\">\n",
       "<tr>\n",
       "                        <td></td>                           <th>coef</th>     <th>std err</th>      <th>z</th>      <th>P>|z|</th>  <th>[0.025</th>    <th>0.975]</th>  \n",
       "</tr>\n",
       "<tr>\n",
       "  <th>const</th>                                         <td>   -1.4380</td> <td>    0.071</td> <td>  -20.209</td> <td> 0.000</td> <td>   -1.577</td> <td>   -1.299</td>\n",
       "</tr>\n",
       "<tr>\n",
       "  <th>Lead Source_Welingak Website</th>                  <td>    4.8621</td> <td>    0.754</td> <td>    6.451</td> <td> 0.000</td> <td>    3.385</td> <td>    6.339</td>\n",
       "</tr>\n",
       "<tr>\n",
       "  <th>Last Activity_SMS Sent</th>                        <td>    2.1993</td> <td>    0.105</td> <td>   20.966</td> <td> 0.000</td> <td>    1.994</td> <td>    2.405</td>\n",
       "</tr>\n",
       "<tr>\n",
       "  <th>Country_Saudi Arabia</th>                          <td>   -2.0834</td> <td>    1.206</td> <td>   -1.727</td> <td> 0.084</td> <td>   -4.448</td> <td>    0.281</td>\n",
       "</tr>\n",
       "<tr>\n",
       "  <th>Tags_Closed by Horizzon</th>                       <td>    8.2212</td> <td>    1.008</td> <td>    8.153</td> <td> 0.000</td> <td>    6.245</td> <td>   10.197</td>\n",
       "</tr>\n",
       "<tr>\n",
       "  <th>Tags_Lost to EINS</th>                             <td>    7.2483</td> <td>    0.791</td> <td>    9.161</td> <td> 0.000</td> <td>    5.698</td> <td>    8.799</td>\n",
       "</tr>\n",
       "<tr>\n",
       "  <th>Tags_Ringing</th>                                  <td>   -3.2746</td> <td>    0.221</td> <td>  -14.845</td> <td> 0.000</td> <td>   -3.707</td> <td>   -2.842</td>\n",
       "</tr>\n",
       "<tr>\n",
       "  <th>Tags_Will revert after reading the email</th>      <td>    4.9666</td> <td>    0.175</td> <td>   28.430</td> <td> 0.000</td> <td>    4.624</td> <td>    5.309</td>\n",
       "</tr>\n",
       "<tr>\n",
       "  <th>Tags_invalid number</th>                           <td>   -3.5282</td> <td>    1.029</td> <td>   -3.429</td> <td> 0.001</td> <td>   -5.545</td> <td>   -1.512</td>\n",
       "</tr>\n",
       "<tr>\n",
       "  <th>Tags_switched off</th>                             <td>   -3.7130</td> <td>    0.518</td> <td>   -7.170</td> <td> 0.000</td> <td>   -4.728</td> <td>   -2.698</td>\n",
       "</tr>\n",
       "<tr>\n",
       "  <th>Tags_wrong number given</th>                       <td>  -22.9079</td> <td> 1.25e+04</td> <td>   -0.002</td> <td> 0.999</td> <td>-2.45e+04</td> <td> 2.45e+04</td>\n",
       "</tr>\n",
       "<tr>\n",
       "  <th>Lead Quality_Worst</th>                            <td>   -2.9210</td> <td>    0.549</td> <td>   -5.318</td> <td> 0.000</td> <td>   -3.997</td> <td>   -1.845</td>\n",
       "</tr>\n",
       "<tr>\n",
       "  <th>Last Notable Activity_Modified</th>                <td>   -1.8359</td> <td>    0.115</td> <td>  -16.029</td> <td> 0.000</td> <td>   -2.060</td> <td>   -1.611</td>\n",
       "</tr>\n",
       "<tr>\n",
       "  <th>Last Notable Activity_Olark Chat Conversation</th> <td>   -1.1632</td> <td>    0.395</td> <td>   -2.942</td> <td> 0.003</td> <td>   -1.938</td> <td>   -0.388</td>\n",
       "</tr>\n",
       "</table>"
      ],
      "text/plain": [
       "<class 'statsmodels.iolib.summary.Summary'>\n",
       "\"\"\"\n",
       "                 Generalized Linear Model Regression Results                  \n",
       "==============================================================================\n",
       "Dep. Variable:              Converted   No. Observations:                 6468\n",
       "Model:                            GLM   Df Residuals:                     6454\n",
       "Model Family:                Binomial   Df Model:                           13\n",
       "Link Function:                  logit   Scale:                          1.0000\n",
       "Method:                          IRLS   Log-Likelihood:                -1479.5\n",
       "Date:                Mon, 18 Nov 2019   Deviance:                       2959.0\n",
       "Time:                        23:05:46   Pearson chi2:                 1.71e+04\n",
       "No. Iterations:                    22                                         \n",
       "Covariance Type:            nonrobust                                         \n",
       "=================================================================================================================\n",
       "                                                    coef    std err          z      P>|z|      [0.025      0.975]\n",
       "-----------------------------------------------------------------------------------------------------------------\n",
       "const                                            -1.4380      0.071    -20.209      0.000      -1.577      -1.299\n",
       "Lead Source_Welingak Website                      4.8621      0.754      6.451      0.000       3.385       6.339\n",
       "Last Activity_SMS Sent                            2.1993      0.105     20.966      0.000       1.994       2.405\n",
       "Country_Saudi Arabia                             -2.0834      1.206     -1.727      0.084      -4.448       0.281\n",
       "Tags_Closed by Horizzon                           8.2212      1.008      8.153      0.000       6.245      10.197\n",
       "Tags_Lost to EINS                                 7.2483      0.791      9.161      0.000       5.698       8.799\n",
       "Tags_Ringing                                     -3.2746      0.221    -14.845      0.000      -3.707      -2.842\n",
       "Tags_Will revert after reading the email          4.9666      0.175     28.430      0.000       4.624       5.309\n",
       "Tags_invalid number                              -3.5282      1.029     -3.429      0.001      -5.545      -1.512\n",
       "Tags_switched off                                -3.7130      0.518     -7.170      0.000      -4.728      -2.698\n",
       "Tags_wrong number given                         -22.9079   1.25e+04     -0.002      0.999   -2.45e+04    2.45e+04\n",
       "Lead Quality_Worst                               -2.9210      0.549     -5.318      0.000      -3.997      -1.845\n",
       "Last Notable Activity_Modified                   -1.8359      0.115    -16.029      0.000      -2.060      -1.611\n",
       "Last Notable Activity_Olark Chat Conversation    -1.1632      0.395     -2.942      0.003      -1.938      -0.388\n",
       "=================================================================================================================\n",
       "\"\"\""
      ]
     },
     "execution_count": 110,
     "metadata": {},
     "output_type": "execute_result"
    }
   ],
   "source": [
    "col.remove('Tags_number not provided')\n",
    "X_train= X_train.drop('Tags_number not provided',axis=1)\n",
    "#Assessing the model with StatsModels\n",
    "X_train_sm = sm.add_constant(X_train[col])\n",
    "logm2 = sm.GLM(y_train,X_train_sm, family = sm.families.Binomial())\n",
    "res = logm2.fit()\n",
    "res.summary()"
   ]
  },
  {
   "cell_type": "code",
   "execution_count": 111,
   "metadata": {},
   "outputs": [
    {
     "data": {
      "text/html": [
       "<table class=\"simpletable\">\n",
       "<caption>Generalized Linear Model Regression Results</caption>\n",
       "<tr>\n",
       "  <th>Dep. Variable:</th>       <td>Converted</td>    <th>  No. Observations:  </th>  <td>  6468</td> \n",
       "</tr>\n",
       "<tr>\n",
       "  <th>Model:</th>                  <td>GLM</td>       <th>  Df Residuals:      </th>  <td>  6455</td> \n",
       "</tr>\n",
       "<tr>\n",
       "  <th>Model Family:</th>        <td>Binomial</td>     <th>  Df Model:          </th>  <td>    12</td> \n",
       "</tr>\n",
       "<tr>\n",
       "  <th>Link Function:</th>         <td>logit</td>      <th>  Scale:             </th> <td>  1.0000</td>\n",
       "</tr>\n",
       "<tr>\n",
       "  <th>Method:</th>                <td>IRLS</td>       <th>  Log-Likelihood:    </th> <td> -1491.9</td>\n",
       "</tr>\n",
       "<tr>\n",
       "  <th>Date:</th>            <td>Mon, 18 Nov 2019</td> <th>  Deviance:          </th> <td>  2983.8</td>\n",
       "</tr>\n",
       "<tr>\n",
       "  <th>Time:</th>                <td>23:05:46</td>     <th>  Pearson chi2:      </th> <td>1.66e+04</td>\n",
       "</tr>\n",
       "<tr>\n",
       "  <th>No. Iterations:</th>          <td>8</td>        <th>                     </th>     <td> </td>   \n",
       "</tr>\n",
       "<tr>\n",
       "  <th>Covariance Type:</th>     <td>nonrobust</td>    <th>                     </th>     <td> </td>   \n",
       "</tr>\n",
       "</table>\n",
       "<table class=\"simpletable\">\n",
       "<tr>\n",
       "                        <td></td>                           <th>coef</th>     <th>std err</th>      <th>z</th>      <th>P>|z|</th>  <th>[0.025</th>    <th>0.975]</th>  \n",
       "</tr>\n",
       "<tr>\n",
       "  <th>const</th>                                         <td>   -1.4523</td> <td>    0.071</td> <td>  -20.428</td> <td> 0.000</td> <td>   -1.592</td> <td>   -1.313</td>\n",
       "</tr>\n",
       "<tr>\n",
       "  <th>Lead Source_Welingak Website</th>                  <td>    4.8703</td> <td>    0.753</td> <td>    6.469</td> <td> 0.000</td> <td>    3.395</td> <td>    6.346</td>\n",
       "</tr>\n",
       "<tr>\n",
       "  <th>Last Activity_SMS Sent</th>                        <td>    2.1655</td> <td>    0.104</td> <td>   20.832</td> <td> 0.000</td> <td>    1.962</td> <td>    2.369</td>\n",
       "</tr>\n",
       "<tr>\n",
       "  <th>Country_Saudi Arabia</th>                          <td>   -2.1043</td> <td>    1.188</td> <td>   -1.771</td> <td> 0.077</td> <td>   -4.433</td> <td>    0.225</td>\n",
       "</tr>\n",
       "<tr>\n",
       "  <th>Tags_Closed by Horizzon</th>                       <td>    8.2208</td> <td>    1.008</td> <td>    8.154</td> <td> 0.000</td> <td>    6.245</td> <td>   10.197</td>\n",
       "</tr>\n",
       "<tr>\n",
       "  <th>Tags_Lost to EINS</th>                             <td>    7.2607</td> <td>    0.793</td> <td>    9.159</td> <td> 0.000</td> <td>    5.707</td> <td>    8.814</td>\n",
       "</tr>\n",
       "<tr>\n",
       "  <th>Tags_Ringing</th>                                  <td>   -3.2324</td> <td>    0.220</td> <td>  -14.690</td> <td> 0.000</td> <td>   -3.664</td> <td>   -2.801</td>\n",
       "</tr>\n",
       "<tr>\n",
       "  <th>Tags_Will revert after reading the email</th>      <td>    4.9739</td> <td>    0.174</td> <td>   28.528</td> <td> 0.000</td> <td>    4.632</td> <td>    5.316</td>\n",
       "</tr>\n",
       "<tr>\n",
       "  <th>Tags_invalid number</th>                           <td>   -3.4852</td> <td>    1.029</td> <td>   -3.388</td> <td> 0.001</td> <td>   -5.501</td> <td>   -1.469</td>\n",
       "</tr>\n",
       "<tr>\n",
       "  <th>Tags_switched off</th>                             <td>   -3.6688</td> <td>    0.518</td> <td>   -7.089</td> <td> 0.000</td> <td>   -4.683</td> <td>   -2.654</td>\n",
       "</tr>\n",
       "<tr>\n",
       "  <th>Lead Quality_Worst</th>                            <td>   -2.9488</td> <td>    0.548</td> <td>   -5.379</td> <td> 0.000</td> <td>   -4.023</td> <td>   -1.874</td>\n",
       "</tr>\n",
       "<tr>\n",
       "  <th>Last Notable Activity_Modified</th>                <td>   -1.8179</td> <td>    0.114</td> <td>  -15.927</td> <td> 0.000</td> <td>   -2.042</td> <td>   -1.594</td>\n",
       "</tr>\n",
       "<tr>\n",
       "  <th>Last Notable Activity_Olark Chat Conversation</th> <td>   -1.1493</td> <td>    0.396</td> <td>   -2.906</td> <td> 0.004</td> <td>   -1.925</td> <td>   -0.374</td>\n",
       "</tr>\n",
       "</table>"
      ],
      "text/plain": [
       "<class 'statsmodels.iolib.summary.Summary'>\n",
       "\"\"\"\n",
       "                 Generalized Linear Model Regression Results                  \n",
       "==============================================================================\n",
       "Dep. Variable:              Converted   No. Observations:                 6468\n",
       "Model:                            GLM   Df Residuals:                     6455\n",
       "Model Family:                Binomial   Df Model:                           12\n",
       "Link Function:                  logit   Scale:                          1.0000\n",
       "Method:                          IRLS   Log-Likelihood:                -1491.9\n",
       "Date:                Mon, 18 Nov 2019   Deviance:                       2983.8\n",
       "Time:                        23:05:46   Pearson chi2:                 1.66e+04\n",
       "No. Iterations:                     8                                         \n",
       "Covariance Type:            nonrobust                                         \n",
       "=================================================================================================================\n",
       "                                                    coef    std err          z      P>|z|      [0.025      0.975]\n",
       "-----------------------------------------------------------------------------------------------------------------\n",
       "const                                            -1.4523      0.071    -20.428      0.000      -1.592      -1.313\n",
       "Lead Source_Welingak Website                      4.8703      0.753      6.469      0.000       3.395       6.346\n",
       "Last Activity_SMS Sent                            2.1655      0.104     20.832      0.000       1.962       2.369\n",
       "Country_Saudi Arabia                             -2.1043      1.188     -1.771      0.077      -4.433       0.225\n",
       "Tags_Closed by Horizzon                           8.2208      1.008      8.154      0.000       6.245      10.197\n",
       "Tags_Lost to EINS                                 7.2607      0.793      9.159      0.000       5.707       8.814\n",
       "Tags_Ringing                                     -3.2324      0.220    -14.690      0.000      -3.664      -2.801\n",
       "Tags_Will revert after reading the email          4.9739      0.174     28.528      0.000       4.632       5.316\n",
       "Tags_invalid number                              -3.4852      1.029     -3.388      0.001      -5.501      -1.469\n",
       "Tags_switched off                                -3.6688      0.518     -7.089      0.000      -4.683      -2.654\n",
       "Lead Quality_Worst                               -2.9488      0.548     -5.379      0.000      -4.023      -1.874\n",
       "Last Notable Activity_Modified                   -1.8179      0.114    -15.927      0.000      -2.042      -1.594\n",
       "Last Notable Activity_Olark Chat Conversation    -1.1493      0.396     -2.906      0.004      -1.925      -0.374\n",
       "=================================================================================================================\n",
       "\"\"\""
      ]
     },
     "execution_count": 111,
     "metadata": {},
     "output_type": "execute_result"
    }
   ],
   "source": [
    "col.remove('Tags_wrong number given')\n",
    "X_train= X_train.drop('Tags_wrong number given',axis=1)\n",
    "#Assessing the model with StatsModels\n",
    "X_train_sm = sm.add_constant(X_train[col])\n",
    "logm2 = sm.GLM(y_train,X_train_sm, family = sm.families.Binomial())\n",
    "res = logm2.fit()\n",
    "res.summary()"
   ]
  },
  {
   "cell_type": "code",
   "execution_count": 112,
   "metadata": {},
   "outputs": [
    {
     "data": {
      "text/html": [
       "<table class=\"simpletable\">\n",
       "<caption>Generalized Linear Model Regression Results</caption>\n",
       "<tr>\n",
       "  <th>Dep. Variable:</th>       <td>Converted</td>    <th>  No. Observations:  </th>  <td>  6468</td> \n",
       "</tr>\n",
       "<tr>\n",
       "  <th>Model:</th>                  <td>GLM</td>       <th>  Df Residuals:      </th>  <td>  6456</td> \n",
       "</tr>\n",
       "<tr>\n",
       "  <th>Model Family:</th>        <td>Binomial</td>     <th>  Df Model:          </th>  <td>    11</td> \n",
       "</tr>\n",
       "<tr>\n",
       "  <th>Link Function:</th>         <td>logit</td>      <th>  Scale:             </th> <td>  1.0000</td>\n",
       "</tr>\n",
       "<tr>\n",
       "  <th>Method:</th>                <td>IRLS</td>       <th>  Log-Likelihood:    </th> <td> -1493.8</td>\n",
       "</tr>\n",
       "<tr>\n",
       "  <th>Date:</th>            <td>Mon, 18 Nov 2019</td> <th>  Deviance:          </th> <td>  2987.6</td>\n",
       "</tr>\n",
       "<tr>\n",
       "  <th>Time:</th>                <td>23:05:46</td>     <th>  Pearson chi2:      </th> <td>1.65e+04</td>\n",
       "</tr>\n",
       "<tr>\n",
       "  <th>No. Iterations:</th>          <td>8</td>        <th>                     </th>     <td> </td>   \n",
       "</tr>\n",
       "<tr>\n",
       "  <th>Covariance Type:</th>     <td>nonrobust</td>    <th>                     </th>     <td> </td>   \n",
       "</tr>\n",
       "</table>\n",
       "<table class=\"simpletable\">\n",
       "<tr>\n",
       "                        <td></td>                           <th>coef</th>     <th>std err</th>      <th>z</th>      <th>P>|z|</th>  <th>[0.025</th>    <th>0.975]</th>  \n",
       "</tr>\n",
       "<tr>\n",
       "  <th>const</th>                                         <td>   -1.4592</td> <td>    0.071</td> <td>  -20.542</td> <td> 0.000</td> <td>   -1.598</td> <td>   -1.320</td>\n",
       "</tr>\n",
       "<tr>\n",
       "  <th>Lead Source_Welingak Website</th>                  <td>    4.8724</td> <td>    0.753</td> <td>    6.474</td> <td> 0.000</td> <td>    3.397</td> <td>    6.348</td>\n",
       "</tr>\n",
       "<tr>\n",
       "  <th>Last Activity_SMS Sent</th>                        <td>    2.1669</td> <td>    0.104</td> <td>   20.863</td> <td> 0.000</td> <td>    1.963</td> <td>    2.370</td>\n",
       "</tr>\n",
       "<tr>\n",
       "  <th>Tags_Closed by Horizzon</th>                       <td>    8.2211</td> <td>    1.008</td> <td>    8.154</td> <td> 0.000</td> <td>    6.245</td> <td>   10.197</td>\n",
       "</tr>\n",
       "<tr>\n",
       "  <th>Tags_Lost to EINS</th>                             <td>    7.2595</td> <td>    0.792</td> <td>    9.161</td> <td> 0.000</td> <td>    5.706</td> <td>    8.813</td>\n",
       "</tr>\n",
       "<tr>\n",
       "  <th>Tags_Ringing</th>                                  <td>   -3.2303</td> <td>    0.220</td> <td>  -14.684</td> <td> 0.000</td> <td>   -3.661</td> <td>   -2.799</td>\n",
       "</tr>\n",
       "<tr>\n",
       "  <th>Tags_Will revert after reading the email</th>      <td>    4.9675</td> <td>    0.174</td> <td>   28.544</td> <td> 0.000</td> <td>    4.626</td> <td>    5.309</td>\n",
       "</tr>\n",
       "<tr>\n",
       "  <th>Tags_invalid number</th>                           <td>   -3.4864</td> <td>    1.028</td> <td>   -3.391</td> <td> 0.001</td> <td>   -5.502</td> <td>   -1.471</td>\n",
       "</tr>\n",
       "<tr>\n",
       "  <th>Tags_switched off</th>                             <td>   -3.6746</td> <td>    0.517</td> <td>   -7.101</td> <td> 0.000</td> <td>   -4.689</td> <td>   -2.660</td>\n",
       "</tr>\n",
       "<tr>\n",
       "  <th>Lead Quality_Worst</th>                            <td>   -2.9445</td> <td>    0.548</td> <td>   -5.370</td> <td> 0.000</td> <td>   -4.019</td> <td>   -1.870</td>\n",
       "</tr>\n",
       "<tr>\n",
       "  <th>Last Notable Activity_Modified</th>                <td>   -1.8106</td> <td>    0.114</td> <td>  -15.883</td> <td> 0.000</td> <td>   -2.034</td> <td>   -1.587</td>\n",
       "</tr>\n",
       "<tr>\n",
       "  <th>Last Notable Activity_Olark Chat Conversation</th> <td>   -1.1420</td> <td>    0.395</td> <td>   -2.888</td> <td> 0.004</td> <td>   -1.917</td> <td>   -0.367</td>\n",
       "</tr>\n",
       "</table>"
      ],
      "text/plain": [
       "<class 'statsmodels.iolib.summary.Summary'>\n",
       "\"\"\"\n",
       "                 Generalized Linear Model Regression Results                  \n",
       "==============================================================================\n",
       "Dep. Variable:              Converted   No. Observations:                 6468\n",
       "Model:                            GLM   Df Residuals:                     6456\n",
       "Model Family:                Binomial   Df Model:                           11\n",
       "Link Function:                  logit   Scale:                          1.0000\n",
       "Method:                          IRLS   Log-Likelihood:                -1493.8\n",
       "Date:                Mon, 18 Nov 2019   Deviance:                       2987.6\n",
       "Time:                        23:05:46   Pearson chi2:                 1.65e+04\n",
       "No. Iterations:                     8                                         \n",
       "Covariance Type:            nonrobust                                         \n",
       "=================================================================================================================\n",
       "                                                    coef    std err          z      P>|z|      [0.025      0.975]\n",
       "-----------------------------------------------------------------------------------------------------------------\n",
       "const                                            -1.4592      0.071    -20.542      0.000      -1.598      -1.320\n",
       "Lead Source_Welingak Website                      4.8724      0.753      6.474      0.000       3.397       6.348\n",
       "Last Activity_SMS Sent                            2.1669      0.104     20.863      0.000       1.963       2.370\n",
       "Tags_Closed by Horizzon                           8.2211      1.008      8.154      0.000       6.245      10.197\n",
       "Tags_Lost to EINS                                 7.2595      0.792      9.161      0.000       5.706       8.813\n",
       "Tags_Ringing                                     -3.2303      0.220    -14.684      0.000      -3.661      -2.799\n",
       "Tags_Will revert after reading the email          4.9675      0.174     28.544      0.000       4.626       5.309\n",
       "Tags_invalid number                              -3.4864      1.028     -3.391      0.001      -5.502      -1.471\n",
       "Tags_switched off                                -3.6746      0.517     -7.101      0.000      -4.689      -2.660\n",
       "Lead Quality_Worst                               -2.9445      0.548     -5.370      0.000      -4.019      -1.870\n",
       "Last Notable Activity_Modified                   -1.8106      0.114    -15.883      0.000      -2.034      -1.587\n",
       "Last Notable Activity_Olark Chat Conversation    -1.1420      0.395     -2.888      0.004      -1.917      -0.367\n",
       "=================================================================================================================\n",
       "\"\"\""
      ]
     },
     "execution_count": 112,
     "metadata": {},
     "output_type": "execute_result"
    }
   ],
   "source": [
    "col.remove('Country_Saudi Arabia')\n",
    "X_train= X_train.drop('Country_Saudi Arabia',axis=1)\n",
    "#Assessing the model with StatsModels\n",
    "X_train_sm = sm.add_constant(X_train[col])\n",
    "logm2 = sm.GLM(y_train,X_train_sm, family = sm.families.Binomial())\n",
    "res = logm2.fit()\n",
    "res.summary()"
   ]
  },
  {
   "cell_type": "code",
   "execution_count": 113,
   "metadata": {},
   "outputs": [],
   "source": [
    "# Check for the VIF values of the feature variables. \n",
    "from statsmodels.stats.outliers_influence import variance_inflation_factor"
   ]
  },
  {
   "cell_type": "code",
   "execution_count": 114,
   "metadata": {},
   "outputs": [
    {
     "data": {
      "text/html": [
       "<div>\n",
       "<style scoped>\n",
       "    .dataframe tbody tr th:only-of-type {\n",
       "        vertical-align: middle;\n",
       "    }\n",
       "\n",
       "    .dataframe tbody tr th {\n",
       "        vertical-align: top;\n",
       "    }\n",
       "\n",
       "    .dataframe thead th {\n",
       "        text-align: right;\n",
       "    }\n",
       "</style>\n",
       "<table border=\"1\" class=\"dataframe\">\n",
       "  <thead>\n",
       "    <tr style=\"text-align: right;\">\n",
       "      <th></th>\n",
       "      <th>Features</th>\n",
       "      <th>VIF</th>\n",
       "    </tr>\n",
       "  </thead>\n",
       "  <tbody>\n",
       "    <tr>\n",
       "      <th>2</th>\n",
       "      <td>Tags_Closed by Horizzon</td>\n",
       "      <td>1.05</td>\n",
       "    </tr>\n",
       "    <tr>\n",
       "      <th>0</th>\n",
       "      <td>Lead Source_Welingak Website</td>\n",
       "      <td>1.03</td>\n",
       "    </tr>\n",
       "    <tr>\n",
       "      <th>7</th>\n",
       "      <td>Tags_switched off</td>\n",
       "      <td>1.03</td>\n",
       "    </tr>\n",
       "    <tr>\n",
       "      <th>3</th>\n",
       "      <td>Tags_Lost to EINS</td>\n",
       "      <td>1.02</td>\n",
       "    </tr>\n",
       "    <tr>\n",
       "      <th>6</th>\n",
       "      <td>Tags_invalid number</td>\n",
       "      <td>1.01</td>\n",
       "    </tr>\n",
       "    <tr>\n",
       "      <th>10</th>\n",
       "      <td>Last Notable Activity_Olark Chat Conversation</td>\n",
       "      <td>1.00</td>\n",
       "    </tr>\n",
       "    <tr>\n",
       "      <th>8</th>\n",
       "      <td>Lead Quality_Worst</td>\n",
       "      <td>0.41</td>\n",
       "    </tr>\n",
       "    <tr>\n",
       "      <th>5</th>\n",
       "      <td>Tags_Will revert after reading the email</td>\n",
       "      <td>0.14</td>\n",
       "    </tr>\n",
       "    <tr>\n",
       "      <th>1</th>\n",
       "      <td>Last Activity_SMS Sent</td>\n",
       "      <td>0.11</td>\n",
       "    </tr>\n",
       "    <tr>\n",
       "      <th>4</th>\n",
       "      <td>Tags_Ringing</td>\n",
       "      <td>0.10</td>\n",
       "    </tr>\n",
       "    <tr>\n",
       "      <th>9</th>\n",
       "      <td>Last Notable Activity_Modified</td>\n",
       "      <td>0.04</td>\n",
       "    </tr>\n",
       "  </tbody>\n",
       "</table>\n",
       "</div>"
      ],
      "text/plain": [
       "                                         Features   VIF\n",
       "2                         Tags_Closed by Horizzon  1.05\n",
       "0                    Lead Source_Welingak Website  1.03\n",
       "7                               Tags_switched off  1.03\n",
       "3                               Tags_Lost to EINS  1.02\n",
       "6                             Tags_invalid number  1.01\n",
       "10  Last Notable Activity_Olark Chat Conversation  1.00\n",
       "8                              Lead Quality_Worst  0.41\n",
       "5        Tags_Will revert after reading the email  0.14\n",
       "1                          Last Activity_SMS Sent  0.11\n",
       "4                                    Tags_Ringing  0.10\n",
       "9                  Last Notable Activity_Modified  0.04"
      ]
     },
     "execution_count": 114,
     "metadata": {},
     "output_type": "execute_result"
    }
   ],
   "source": [
    "# Create a dataframe that will contain the names of all the feature variables and their respective VIFs\n",
    "vif = pd.DataFrame()\n",
    "vif['Features'] = X_train[col].columns\n",
    "vif['VIF'] = [variance_inflation_factor(X_train[col].values, i) for i in range(X_train[col].shape[1])]\n",
    "vif['VIF'] = round(vif['VIF'], 2)\n",
    "vif = vif.sort_values(by = \"VIF\", ascending = False)\n",
    "vif"
   ]
  },
  {
   "cell_type": "code",
   "execution_count": 115,
   "metadata": {},
   "outputs": [],
   "source": [
    "X_test=X_test.drop(columns=['Tags_Lateral student','Tags_Lateral student','Tags_number not provided','Tags_wrong number given','Country_Saudi Arabia',],axis=1)"
   ]
  },
  {
   "cell_type": "code",
   "execution_count": 116,
   "metadata": {},
   "outputs": [],
   "source": [
    "y_train_pred = res.predict(X_train_sm).values.reshape(-1)"
   ]
  },
  {
   "cell_type": "code",
   "execution_count": 117,
   "metadata": {},
   "outputs": [
    {
     "data": {
      "text/plain": [
       "array([0.00910763, 0.18858965, 0.00910763, 0.0742881 , 0.03662047,\n",
       "       0.99658169, 0.00910763, 0.99297488, 0.03662047, 0.99658169])"
      ]
     },
     "execution_count": 117,
     "metadata": {},
     "output_type": "execute_result"
    }
   ],
   "source": [
    "y_train_pred[:10]"
   ]
  },
  {
   "cell_type": "markdown",
   "metadata": {},
   "source": [
    "### Creating a dataframe with the actual lead flag and the predicted probabilities"
   ]
  },
  {
   "cell_type": "code",
   "execution_count": 118,
   "metadata": {
    "scrolled": true
   },
   "outputs": [
    {
     "data": {
      "text/html": [
       "<div>\n",
       "<style scoped>\n",
       "    .dataframe tbody tr th:only-of-type {\n",
       "        vertical-align: middle;\n",
       "    }\n",
       "\n",
       "    .dataframe tbody tr th {\n",
       "        vertical-align: top;\n",
       "    }\n",
       "\n",
       "    .dataframe thead th {\n",
       "        text-align: right;\n",
       "    }\n",
       "</style>\n",
       "<table border=\"1\" class=\"dataframe\">\n",
       "  <thead>\n",
       "    <tr style=\"text-align: right;\">\n",
       "      <th></th>\n",
       "      <th>Converted</th>\n",
       "      <th>Converted_Prob</th>\n",
       "      <th>Lead Number</th>\n",
       "    </tr>\n",
       "  </thead>\n",
       "  <tbody>\n",
       "    <tr>\n",
       "      <th>0</th>\n",
       "      <td>0</td>\n",
       "      <td>0.009108</td>\n",
       "      <td>1871</td>\n",
       "    </tr>\n",
       "    <tr>\n",
       "      <th>1</th>\n",
       "      <td>0</td>\n",
       "      <td>0.188590</td>\n",
       "      <td>6795</td>\n",
       "    </tr>\n",
       "    <tr>\n",
       "      <th>2</th>\n",
       "      <td>0</td>\n",
       "      <td>0.009108</td>\n",
       "      <td>3516</td>\n",
       "    </tr>\n",
       "    <tr>\n",
       "      <th>3</th>\n",
       "      <td>0</td>\n",
       "      <td>0.074288</td>\n",
       "      <td>8105</td>\n",
       "    </tr>\n",
       "    <tr>\n",
       "      <th>4</th>\n",
       "      <td>0</td>\n",
       "      <td>0.036620</td>\n",
       "      <td>3934</td>\n",
       "    </tr>\n",
       "  </tbody>\n",
       "</table>\n",
       "</div>"
      ],
      "text/plain": [
       "   Converted  Converted_Prob  Lead Number\n",
       "0          0        0.009108         1871\n",
       "1          0        0.188590         6795\n",
       "2          0        0.009108         3516\n",
       "3          0        0.074288         8105\n",
       "4          0        0.036620         3934"
      ]
     },
     "execution_count": 118,
     "metadata": {},
     "output_type": "execute_result"
    }
   ],
   "source": [
    "y_train_pred_final = pd.DataFrame({'Converted':y_train.values, 'Converted_Prob':y_train_pred})\n",
    "y_train_pred_final['Lead Number'] = y_train.index\n",
    "y_train_pred_final.head()"
   ]
  },
  {
   "cell_type": "markdown",
   "metadata": {},
   "source": [
    "### Creating new column 'predicted' with 1 if Converted_Prob > 0.5 else 0"
   ]
  },
  {
   "cell_type": "code",
   "execution_count": 119,
   "metadata": {},
   "outputs": [
    {
     "data": {
      "text/html": [
       "<div>\n",
       "<style scoped>\n",
       "    .dataframe tbody tr th:only-of-type {\n",
       "        vertical-align: middle;\n",
       "    }\n",
       "\n",
       "    .dataframe tbody tr th {\n",
       "        vertical-align: top;\n",
       "    }\n",
       "\n",
       "    .dataframe thead th {\n",
       "        text-align: right;\n",
       "    }\n",
       "</style>\n",
       "<table border=\"1\" class=\"dataframe\">\n",
       "  <thead>\n",
       "    <tr style=\"text-align: right;\">\n",
       "      <th></th>\n",
       "      <th>Converted</th>\n",
       "      <th>Converted_Prob</th>\n",
       "      <th>Lead Number</th>\n",
       "      <th>predicted</th>\n",
       "    </tr>\n",
       "  </thead>\n",
       "  <tbody>\n",
       "    <tr>\n",
       "      <th>0</th>\n",
       "      <td>0</td>\n",
       "      <td>0.009108</td>\n",
       "      <td>1871</td>\n",
       "      <td>0</td>\n",
       "    </tr>\n",
       "    <tr>\n",
       "      <th>1</th>\n",
       "      <td>0</td>\n",
       "      <td>0.188590</td>\n",
       "      <td>6795</td>\n",
       "      <td>0</td>\n",
       "    </tr>\n",
       "    <tr>\n",
       "      <th>2</th>\n",
       "      <td>0</td>\n",
       "      <td>0.009108</td>\n",
       "      <td>3516</td>\n",
       "      <td>0</td>\n",
       "    </tr>\n",
       "    <tr>\n",
       "      <th>3</th>\n",
       "      <td>0</td>\n",
       "      <td>0.074288</td>\n",
       "      <td>8105</td>\n",
       "      <td>0</td>\n",
       "    </tr>\n",
       "    <tr>\n",
       "      <th>4</th>\n",
       "      <td>0</td>\n",
       "      <td>0.036620</td>\n",
       "      <td>3934</td>\n",
       "      <td>0</td>\n",
       "    </tr>\n",
       "  </tbody>\n",
       "</table>\n",
       "</div>"
      ],
      "text/plain": [
       "   Converted  Converted_Prob  Lead Number  predicted\n",
       "0          0        0.009108         1871          0\n",
       "1          0        0.188590         6795          0\n",
       "2          0        0.009108         3516          0\n",
       "3          0        0.074288         8105          0\n",
       "4          0        0.036620         3934          0"
      ]
     },
     "execution_count": 119,
     "metadata": {},
     "output_type": "execute_result"
    }
   ],
   "source": [
    "y_train_pred_final['predicted'] = y_train_pred_final.Converted_Prob.map(lambda x: 1 if x > 0.5 else 0)\n",
    "\n",
    "# Let's see the head\n",
    "y_train_pred_final.head()"
   ]
  },
  {
   "cell_type": "code",
   "execution_count": 120,
   "metadata": {},
   "outputs": [],
   "source": [
    "from sklearn import metrics"
   ]
  },
  {
   "cell_type": "code",
   "execution_count": 121,
   "metadata": {},
   "outputs": [
    {
     "name": "stdout",
     "output_type": "stream",
     "text": [
      "[[3830  172]\n",
      " [ 330 2136]]\n"
     ]
    }
   ],
   "source": [
    "# Confusion matrix \n",
    "confusion = metrics.confusion_matrix(y_train_pred_final.Converted, y_train_pred_final.predicted )\n",
    "print(confusion)"
   ]
  },
  {
   "cell_type": "code",
   "execution_count": 122,
   "metadata": {},
   "outputs": [
    {
     "name": "stdout",
     "output_type": "stream",
     "text": [
      "0.922387136672851\n"
     ]
    }
   ],
   "source": [
    "# Let's check the overall accuracy.\n",
    "print(metrics.accuracy_score(y_train_pred_final.Converted, y_train_pred_final.predicted))"
   ]
  },
  {
   "cell_type": "code",
   "execution_count": 123,
   "metadata": {},
   "outputs": [
    {
     "data": {
      "text/html": [
       "<div>\n",
       "<style scoped>\n",
       "    .dataframe tbody tr th:only-of-type {\n",
       "        vertical-align: middle;\n",
       "    }\n",
       "\n",
       "    .dataframe tbody tr th {\n",
       "        vertical-align: top;\n",
       "    }\n",
       "\n",
       "    .dataframe thead th {\n",
       "        text-align: right;\n",
       "    }\n",
       "</style>\n",
       "<table border=\"1\" class=\"dataframe\">\n",
       "  <thead>\n",
       "    <tr style=\"text-align: right;\">\n",
       "      <th></th>\n",
       "      <th>Features</th>\n",
       "      <th>VIF</th>\n",
       "    </tr>\n",
       "  </thead>\n",
       "  <tbody>\n",
       "    <tr>\n",
       "      <th>2</th>\n",
       "      <td>Tags_Closed by Horizzon</td>\n",
       "      <td>1.05</td>\n",
       "    </tr>\n",
       "    <tr>\n",
       "      <th>0</th>\n",
       "      <td>Lead Source_Welingak Website</td>\n",
       "      <td>1.03</td>\n",
       "    </tr>\n",
       "    <tr>\n",
       "      <th>7</th>\n",
       "      <td>Tags_switched off</td>\n",
       "      <td>1.03</td>\n",
       "    </tr>\n",
       "    <tr>\n",
       "      <th>3</th>\n",
       "      <td>Tags_Lost to EINS</td>\n",
       "      <td>1.02</td>\n",
       "    </tr>\n",
       "    <tr>\n",
       "      <th>6</th>\n",
       "      <td>Tags_invalid number</td>\n",
       "      <td>1.01</td>\n",
       "    </tr>\n",
       "    <tr>\n",
       "      <th>10</th>\n",
       "      <td>Last Notable Activity_Olark Chat Conversation</td>\n",
       "      <td>1.00</td>\n",
       "    </tr>\n",
       "    <tr>\n",
       "      <th>8</th>\n",
       "      <td>Lead Quality_Worst</td>\n",
       "      <td>0.41</td>\n",
       "    </tr>\n",
       "    <tr>\n",
       "      <th>5</th>\n",
       "      <td>Tags_Will revert after reading the email</td>\n",
       "      <td>0.14</td>\n",
       "    </tr>\n",
       "    <tr>\n",
       "      <th>1</th>\n",
       "      <td>Last Activity_SMS Sent</td>\n",
       "      <td>0.11</td>\n",
       "    </tr>\n",
       "    <tr>\n",
       "      <th>4</th>\n",
       "      <td>Tags_Ringing</td>\n",
       "      <td>0.10</td>\n",
       "    </tr>\n",
       "    <tr>\n",
       "      <th>9</th>\n",
       "      <td>Last Notable Activity_Modified</td>\n",
       "      <td>0.04</td>\n",
       "    </tr>\n",
       "  </tbody>\n",
       "</table>\n",
       "</div>"
      ],
      "text/plain": [
       "                                         Features   VIF\n",
       "2                         Tags_Closed by Horizzon  1.05\n",
       "0                    Lead Source_Welingak Website  1.03\n",
       "7                               Tags_switched off  1.03\n",
       "3                               Tags_Lost to EINS  1.02\n",
       "6                             Tags_invalid number  1.01\n",
       "10  Last Notable Activity_Olark Chat Conversation  1.00\n",
       "8                              Lead Quality_Worst  0.41\n",
       "5        Tags_Will revert after reading the email  0.14\n",
       "1                          Last Activity_SMS Sent  0.11\n",
       "4                                    Tags_Ringing  0.10\n",
       "9                  Last Notable Activity_Modified  0.04"
      ]
     },
     "execution_count": 123,
     "metadata": {},
     "output_type": "execute_result"
    }
   ],
   "source": [
    "# Create a dataframe that will contain the names of all the feature variables and their respective VIFs\n",
    "vif = pd.DataFrame()\n",
    "vif['Features'] = X_train[col].columns\n",
    "vif['VIF'] = [variance_inflation_factor(X_train[col].values, i) for i in range(X_train[col].shape[1])]\n",
    "vif['VIF'] = round(vif['VIF'], 2)\n",
    "vif = vif.sort_values(by = \"VIF\", ascending = False)\n",
    "vif"
   ]
  },
  {
   "cell_type": "code",
   "execution_count": 124,
   "metadata": {},
   "outputs": [],
   "source": [
    "y_train_pred = res.predict(X_train_sm).values.reshape(-1)"
   ]
  },
  {
   "cell_type": "code",
   "execution_count": 125,
   "metadata": {},
   "outputs": [
    {
     "data": {
      "text/plain": [
       "array([0.00910763, 0.18858965, 0.00910763, 0.0742881 , 0.03662047,\n",
       "       0.99658169, 0.00910763, 0.99297488, 0.03662047, 0.99658169])"
      ]
     },
     "execution_count": 125,
     "metadata": {},
     "output_type": "execute_result"
    }
   ],
   "source": [
    "y_train_pred[:10]"
   ]
  },
  {
   "cell_type": "code",
   "execution_count": 126,
   "metadata": {},
   "outputs": [],
   "source": [
    "y_train_pred_final['Converted_Prob'] = y_train_pred"
   ]
  },
  {
   "cell_type": "code",
   "execution_count": 127,
   "metadata": {},
   "outputs": [
    {
     "data": {
      "text/html": [
       "<div>\n",
       "<style scoped>\n",
       "    .dataframe tbody tr th:only-of-type {\n",
       "        vertical-align: middle;\n",
       "    }\n",
       "\n",
       "    .dataframe tbody tr th {\n",
       "        vertical-align: top;\n",
       "    }\n",
       "\n",
       "    .dataframe thead th {\n",
       "        text-align: right;\n",
       "    }\n",
       "</style>\n",
       "<table border=\"1\" class=\"dataframe\">\n",
       "  <thead>\n",
       "    <tr style=\"text-align: right;\">\n",
       "      <th></th>\n",
       "      <th>Converted</th>\n",
       "      <th>Converted_Prob</th>\n",
       "      <th>Lead Number</th>\n",
       "      <th>predicted</th>\n",
       "    </tr>\n",
       "  </thead>\n",
       "  <tbody>\n",
       "    <tr>\n",
       "      <th>0</th>\n",
       "      <td>0</td>\n",
       "      <td>0.009108</td>\n",
       "      <td>1871</td>\n",
       "      <td>0</td>\n",
       "    </tr>\n",
       "    <tr>\n",
       "      <th>1</th>\n",
       "      <td>0</td>\n",
       "      <td>0.188590</td>\n",
       "      <td>6795</td>\n",
       "      <td>0</td>\n",
       "    </tr>\n",
       "    <tr>\n",
       "      <th>2</th>\n",
       "      <td>0</td>\n",
       "      <td>0.009108</td>\n",
       "      <td>3516</td>\n",
       "      <td>0</td>\n",
       "    </tr>\n",
       "    <tr>\n",
       "      <th>3</th>\n",
       "      <td>0</td>\n",
       "      <td>0.074288</td>\n",
       "      <td>8105</td>\n",
       "      <td>0</td>\n",
       "    </tr>\n",
       "    <tr>\n",
       "      <th>4</th>\n",
       "      <td>0</td>\n",
       "      <td>0.036620</td>\n",
       "      <td>3934</td>\n",
       "      <td>0</td>\n",
       "    </tr>\n",
       "  </tbody>\n",
       "</table>\n",
       "</div>"
      ],
      "text/plain": [
       "   Converted  Converted_Prob  Lead Number  predicted\n",
       "0          0        0.009108         1871          0\n",
       "1          0        0.188590         6795          0\n",
       "2          0        0.009108         3516          0\n",
       "3          0        0.074288         8105          0\n",
       "4          0        0.036620         3934          0"
      ]
     },
     "execution_count": 127,
     "metadata": {},
     "output_type": "execute_result"
    }
   ],
   "source": [
    "# Creating new column 'predicted' with 1 if Converted_Prob > 0.5 else 0\n",
    "y_train_pred_final['predicted'] = y_train_pred_final.Converted_Prob.map(lambda x: 1 if x > 0.5 else 0)\n",
    "y_train_pred_final.head()"
   ]
  },
  {
   "cell_type": "code",
   "execution_count": 128,
   "metadata": {},
   "outputs": [
    {
     "name": "stdout",
     "output_type": "stream",
     "text": [
      "0.922387136672851\n"
     ]
    }
   ],
   "source": [
    "# Let's check the overall accuracy.\n",
    "print(metrics.accuracy_score(y_train_pred_final.Converted, y_train_pred_final.predicted))"
   ]
  },
  {
   "cell_type": "markdown",
   "metadata": {},
   "source": [
    "### Metrics beyond simply accuracy"
   ]
  },
  {
   "cell_type": "code",
   "execution_count": 129,
   "metadata": {},
   "outputs": [],
   "source": [
    "TP = confusion[1,1] # true positive \n",
    "TN = confusion[0,0] # true negatives\n",
    "FP = confusion[0,1] # false positives\n",
    "FN = confusion[1,0] # false negatives"
   ]
  },
  {
   "cell_type": "code",
   "execution_count": 130,
   "metadata": {},
   "outputs": [
    {
     "data": {
      "text/plain": [
       "0.8661800486618005"
      ]
     },
     "execution_count": 130,
     "metadata": {},
     "output_type": "execute_result"
    }
   ],
   "source": [
    "# Let's see the sensitivity of our logistic regression model\n",
    "TP / float(TP+FN)"
   ]
  },
  {
   "cell_type": "code",
   "execution_count": 131,
   "metadata": {},
   "outputs": [
    {
     "data": {
      "text/plain": [
       "0.9570214892553723"
      ]
     },
     "execution_count": 131,
     "metadata": {},
     "output_type": "execute_result"
    }
   ],
   "source": [
    "# Let us calculate specificity\n",
    "TN / float(TN+FP)"
   ]
  },
  {
   "cell_type": "code",
   "execution_count": 132,
   "metadata": {},
   "outputs": [
    {
     "name": "stdout",
     "output_type": "stream",
     "text": [
      "0.04297851074462768\n"
     ]
    }
   ],
   "source": [
    "# Calculate false postive rate - predicting lead when customer is not a lead\n",
    "print(FP/ float(TN+FP))"
   ]
  },
  {
   "cell_type": "code",
   "execution_count": 133,
   "metadata": {},
   "outputs": [
    {
     "name": "stdout",
     "output_type": "stream",
     "text": [
      "0.925476603119584\n"
     ]
    }
   ],
   "source": [
    "# positive predictive value \n",
    "print (TP / float(TP+FP))"
   ]
  },
  {
   "cell_type": "code",
   "execution_count": 134,
   "metadata": {},
   "outputs": [
    {
     "name": "stdout",
     "output_type": "stream",
     "text": [
      "0.9206730769230769\n"
     ]
    }
   ],
   "source": [
    "# Negative predictive value\n",
    "print (TN / float(TN+ FN))"
   ]
  },
  {
   "cell_type": "markdown",
   "metadata": {},
   "source": [
    "# Plotting the ROC Curve"
   ]
  },
  {
   "cell_type": "code",
   "execution_count": 135,
   "metadata": {},
   "outputs": [],
   "source": [
    "def draw_roc( actual, probs ):\n",
    "    fpr, tpr, thresholds = metrics.roc_curve( actual, probs,\n",
    "                                              drop_intermediate = False )\n",
    "    auc_score = metrics.roc_auc_score( actual, probs )\n",
    "    plt.figure(figsize=(5, 5))\n",
    "    plt.plot( fpr, tpr, label='ROC curve (area = %0.2f)' % auc_score )\n",
    "    plt.plot([0, 1], [0, 1], 'k--')\n",
    "    plt.xlim([0.0, 1.0])\n",
    "    plt.ylim([0.0, 1.05])\n",
    "    plt.xlabel('False Positive Rate or [1 - True Negative Rate]')\n",
    "    plt.ylabel('True Positive Rate')\n",
    "    plt.title('Receiver operating characteristic example')\n",
    "    plt.legend(loc=\"lower right\")\n",
    "    plt.show()\n",
    "\n",
    "    return None"
   ]
  },
  {
   "cell_type": "code",
   "execution_count": 136,
   "metadata": {},
   "outputs": [],
   "source": [
    "fpr, tpr, thresholds = metrics.roc_curve( y_train_pred_final.Converted, y_train_pred_final.Converted_Prob, drop_intermediate = False )"
   ]
  },
  {
   "cell_type": "code",
   "execution_count": 137,
   "metadata": {},
   "outputs": [
    {
     "data": {
      "image/png": "[encoded data removed]",
      "text/plain": [
       "<Figure size 360x360 with 1 Axes>"
      ]
     },
     "metadata": {
      "needs_background": "light"
     },
     "output_type": "display_data"
    }
   ],
   "source": [
    "draw_roc(y_train_pred_final.Converted, y_train_pred_final.Converted_Prob)"
   ]
  },
  {
   "cell_type": "markdown",
   "metadata": {},
   "source": [
    "# Finding Optimal Cutoff Point"
   ]
  },
  {
   "cell_type": "code",
   "execution_count": 138,
   "metadata": {},
   "outputs": [
    {
     "data": {
      "text/html": [
       "<div>\n",
       "<style scoped>\n",
       "    .dataframe tbody tr th:only-of-type {\n",
       "        vertical-align: middle;\n",
       "    }\n",
       "\n",
       "    .dataframe tbody tr th {\n",
       "        vertical-align: top;\n",
       "    }\n",
       "\n",
       "    .dataframe thead th {\n",
       "        text-align: right;\n",
       "    }\n",
       "</style>\n",
       "<table border=\"1\" class=\"dataframe\">\n",
       "  <thead>\n",
       "    <tr style=\"text-align: right;\">\n",
       "      <th></th>\n",
       "      <th>Converted</th>\n",
       "      <th>Converted_Prob</th>\n",
       "      <th>Lead Number</th>\n",
       "      <th>predicted</th>\n",
       "      <th>0.0</th>\n",
       "      <th>0.1</th>\n",
       "      <th>0.2</th>\n",
       "      <th>0.3</th>\n",
       "      <th>0.4</th>\n",
       "      <th>0.5</th>\n",
       "      <th>0.6</th>\n",
       "      <th>0.7</th>\n",
       "      <th>0.8</th>\n",
       "      <th>0.9</th>\n",
       "    </tr>\n",
       "  </thead>\n",
       "  <tbody>\n",
       "    <tr>\n",
       "      <th>0</th>\n",
       "      <td>0</td>\n",
       "      <td>0.009108</td>\n",
       "      <td>1871</td>\n",
       "      <td>0</td>\n",
       "      <td>1</td>\n",
       "      <td>0</td>\n",
       "      <td>0</td>\n",
       "      <td>0</td>\n",
       "      <td>0</td>\n",
       "      <td>0</td>\n",
       "      <td>0</td>\n",
       "      <td>0</td>\n",
       "      <td>0</td>\n",
       "      <td>0</td>\n",
       "    </tr>\n",
       "    <tr>\n",
       "      <th>1</th>\n",
       "      <td>0</td>\n",
       "      <td>0.188590</td>\n",
       "      <td>6795</td>\n",
       "      <td>0</td>\n",
       "      <td>1</td>\n",
       "      <td>1</td>\n",
       "      <td>0</td>\n",
       "      <td>0</td>\n",
       "      <td>0</td>\n",
       "      <td>0</td>\n",
       "      <td>0</td>\n",
       "      <td>0</td>\n",
       "      <td>0</td>\n",
       "      <td>0</td>\n",
       "    </tr>\n",
       "    <tr>\n",
       "      <th>2</th>\n",
       "      <td>0</td>\n",
       "      <td>0.009108</td>\n",
       "      <td>3516</td>\n",
       "      <td>0</td>\n",
       "      <td>1</td>\n",
       "      <td>0</td>\n",
       "      <td>0</td>\n",
       "      <td>0</td>\n",
       "      <td>0</td>\n",
       "      <td>0</td>\n",
       "      <td>0</td>\n",
       "      <td>0</td>\n",
       "      <td>0</td>\n",
       "      <td>0</td>\n",
       "    </tr>\n",
       "    <tr>\n",
       "      <th>3</th>\n",
       "      <td>0</td>\n",
       "      <td>0.074288</td>\n",
       "      <td>8105</td>\n",
       "      <td>0</td>\n",
       "      <td>1</td>\n",
       "      <td>0</td>\n",
       "      <td>0</td>\n",
       "      <td>0</td>\n",
       "      <td>0</td>\n",
       "      <td>0</td>\n",
       "      <td>0</td>\n",
       "      <td>0</td>\n",
       "      <td>0</td>\n",
       "      <td>0</td>\n",
       "    </tr>\n",
       "    <tr>\n",
       "      <th>4</th>\n",
       "      <td>0</td>\n",
       "      <td>0.036620</td>\n",
       "      <td>3934</td>\n",
       "      <td>0</td>\n",
       "      <td>1</td>\n",
       "      <td>0</td>\n",
       "      <td>0</td>\n",
       "      <td>0</td>\n",
       "      <td>0</td>\n",
       "      <td>0</td>\n",
       "      <td>0</td>\n",
       "      <td>0</td>\n",
       "      <td>0</td>\n",
       "      <td>0</td>\n",
       "    </tr>\n",
       "  </tbody>\n",
       "</table>\n",
       "</div>"
      ],
      "text/plain": [
       "   Converted  Converted_Prob  Lead Number  predicted  0.0  0.1  0.2  0.3  0.4  \\\n",
       "0          0        0.009108         1871          0    1    0    0    0    0   \n",
       "1          0        0.188590         6795          0    1    1    0    0    0   \n",
       "2          0        0.009108         3516          0    1    0    0    0    0   \n",
       "3          0        0.074288         8105          0    1    0    0    0    0   \n",
       "4          0        0.036620         3934          0    1    0    0    0    0   \n",
       "\n",
       "   0.5  0.6  0.7  0.8  0.9  \n",
       "0    0    0    0    0    0  \n",
       "1    0    0    0    0    0  \n",
       "2    0    0    0    0    0  \n",
       "3    0    0    0    0    0  \n",
       "4    0    0    0    0    0  "
      ]
     },
     "execution_count": 138,
     "metadata": {},
     "output_type": "execute_result"
    }
   ],
   "source": [
    "# Let's create columns with different probability cutoffs \n",
    "numbers = [float(x)/10 for x in range(10)]\n",
    "for i in numbers:\n",
    "    y_train_pred_final[i]= y_train_pred_final.Converted_Prob.map(lambda x: 1 if x > i else 0)\n",
    "y_train_pred_final.head()"
   ]
  },
  {
   "cell_type": "code",
   "execution_count": 139,
   "metadata": {},
   "outputs": [
    {
     "name": "stdout",
     "output_type": "stream",
     "text": [
      "     prob  accuracy     sensi     speci\n",
      "0.0   0.0  0.381262  1.000000  0.000000\n",
      "0.1   0.1  0.786487  0.963504  0.677411\n",
      "0.2   0.2  0.900124  0.884834  0.909545\n",
      "0.3   0.3  0.922387  0.866180  0.957021\n",
      "0.4   0.4  0.922387  0.866180  0.957021\n",
      "0.5   0.5  0.922387  0.866180  0.957021\n",
      "0.6   0.6  0.922387  0.866180  0.957021\n",
      "0.7   0.7  0.891311  0.734793  0.987756\n",
      "0.8   0.8  0.890847  0.733577  0.987756\n",
      "0.9   0.9  0.871985  0.674777  0.993503\n"
     ]
    }
   ],
   "source": [
    "# Now let's calculate accuracy sensitivity and specificity for various probability cutoffs.\n",
    "cutoff_df = pd.DataFrame( columns = ['prob','accuracy','sensi','speci'])\n",
    "from sklearn.metrics import confusion_matrix\n",
    "\n",
    "# TP = confusion[1,1] # true positive \n",
    "# TN = confusion[0,0] # true negatives\n",
    "# FP = confusion[0,1] # false positives\n",
    "# FN = confusion[1,0] # false negatives\n",
    "\n",
    "num = [0.0,0.1,0.2,0.3,0.4,0.5,0.6,0.7,0.8,0.9]\n",
    "for i in num:\n",
    "    cm1 = metrics.confusion_matrix(y_train_pred_final.Converted, y_train_pred_final[i] )\n",
    "    total1=sum(sum(cm1))\n",
    "    accuracy = (cm1[0,0]+cm1[1,1])/total1\n",
    "    \n",
    "    speci = cm1[0,0]/(cm1[0,0]+cm1[0,1])\n",
    "    sensi = cm1[1,1]/(cm1[1,0]+cm1[1,1])\n",
    "    cutoff_df.loc[i] =[ i ,accuracy,sensi,speci]\n",
    "print(cutoff_df)"
   ]
  },
  {
   "cell_type": "code",
   "execution_count": 140,
   "metadata": {},
   "outputs": [
    {
     "data": {
      "image/png": "[encoded data removed]",
      "text/plain": [
       "<Figure size 432x288 with 1 Axes>"
      ]
     },
     "metadata": {
      "needs_background": "light"
     },
     "output_type": "display_data"
    }
   ],
   "source": [
    "# Let's plot accuracy sensitivity and specificity for various probabilities.\n",
    "cutoff_df.plot.line(x='prob', y=['accuracy','sensi','speci'])\n",
    "plt.vlines(x=0.19, ymax=1, ymin=0, colors=\"r\", linestyles=\"--\")\n",
    "plt.show()"
   ]
  },
  {
   "cell_type": "code",
   "execution_count": 141,
   "metadata": {},
   "outputs": [
    {
     "data": {
      "text/html": [
       "<div>\n",
       "<style scoped>\n",
       "    .dataframe tbody tr th:only-of-type {\n",
       "        vertical-align: middle;\n",
       "    }\n",
       "\n",
       "    .dataframe tbody tr th {\n",
       "        vertical-align: top;\n",
       "    }\n",
       "\n",
       "    .dataframe thead th {\n",
       "        text-align: right;\n",
       "    }\n",
       "</style>\n",
       "<table border=\"1\" class=\"dataframe\">\n",
       "  <thead>\n",
       "    <tr style=\"text-align: right;\">\n",
       "      <th></th>\n",
       "      <th>Converted</th>\n",
       "      <th>Converted_Prob</th>\n",
       "      <th>Lead Number</th>\n",
       "      <th>predicted</th>\n",
       "      <th>0.0</th>\n",
       "      <th>0.1</th>\n",
       "      <th>0.2</th>\n",
       "      <th>0.3</th>\n",
       "      <th>0.4</th>\n",
       "      <th>0.5</th>\n",
       "      <th>0.6</th>\n",
       "      <th>0.7</th>\n",
       "      <th>0.8</th>\n",
       "      <th>0.9</th>\n",
       "      <th>final_predicted</th>\n",
       "    </tr>\n",
       "  </thead>\n",
       "  <tbody>\n",
       "    <tr>\n",
       "      <th>0</th>\n",
       "      <td>0</td>\n",
       "      <td>0.009108</td>\n",
       "      <td>1871</td>\n",
       "      <td>0</td>\n",
       "      <td>1</td>\n",
       "      <td>0</td>\n",
       "      <td>0</td>\n",
       "      <td>0</td>\n",
       "      <td>0</td>\n",
       "      <td>0</td>\n",
       "      <td>0</td>\n",
       "      <td>0</td>\n",
       "      <td>0</td>\n",
       "      <td>0</td>\n",
       "      <td>0</td>\n",
       "    </tr>\n",
       "    <tr>\n",
       "      <th>1</th>\n",
       "      <td>0</td>\n",
       "      <td>0.188590</td>\n",
       "      <td>6795</td>\n",
       "      <td>0</td>\n",
       "      <td>1</td>\n",
       "      <td>1</td>\n",
       "      <td>0</td>\n",
       "      <td>0</td>\n",
       "      <td>0</td>\n",
       "      <td>0</td>\n",
       "      <td>0</td>\n",
       "      <td>0</td>\n",
       "      <td>0</td>\n",
       "      <td>0</td>\n",
       "      <td>0</td>\n",
       "    </tr>\n",
       "    <tr>\n",
       "      <th>2</th>\n",
       "      <td>0</td>\n",
       "      <td>0.009108</td>\n",
       "      <td>3516</td>\n",
       "      <td>0</td>\n",
       "      <td>1</td>\n",
       "      <td>0</td>\n",
       "      <td>0</td>\n",
       "      <td>0</td>\n",
       "      <td>0</td>\n",
       "      <td>0</td>\n",
       "      <td>0</td>\n",
       "      <td>0</td>\n",
       "      <td>0</td>\n",
       "      <td>0</td>\n",
       "      <td>0</td>\n",
       "    </tr>\n",
       "    <tr>\n",
       "      <th>3</th>\n",
       "      <td>0</td>\n",
       "      <td>0.074288</td>\n",
       "      <td>8105</td>\n",
       "      <td>0</td>\n",
       "      <td>1</td>\n",
       "      <td>0</td>\n",
       "      <td>0</td>\n",
       "      <td>0</td>\n",
       "      <td>0</td>\n",
       "      <td>0</td>\n",
       "      <td>0</td>\n",
       "      <td>0</td>\n",
       "      <td>0</td>\n",
       "      <td>0</td>\n",
       "      <td>0</td>\n",
       "    </tr>\n",
       "    <tr>\n",
       "      <th>4</th>\n",
       "      <td>0</td>\n",
       "      <td>0.036620</td>\n",
       "      <td>3934</td>\n",
       "      <td>0</td>\n",
       "      <td>1</td>\n",
       "      <td>0</td>\n",
       "      <td>0</td>\n",
       "      <td>0</td>\n",
       "      <td>0</td>\n",
       "      <td>0</td>\n",
       "      <td>0</td>\n",
       "      <td>0</td>\n",
       "      <td>0</td>\n",
       "      <td>0</td>\n",
       "      <td>0</td>\n",
       "    </tr>\n",
       "  </tbody>\n",
       "</table>\n",
       "</div>"
      ],
      "text/plain": [
       "   Converted  Converted_Prob  Lead Number  predicted  0.0  0.1  0.2  0.3  0.4  \\\n",
       "0          0        0.009108         1871          0    1    0    0    0    0   \n",
       "1          0        0.188590         6795          0    1    1    0    0    0   \n",
       "2          0        0.009108         3516          0    1    0    0    0    0   \n",
       "3          0        0.074288         8105          0    1    0    0    0    0   \n",
       "4          0        0.036620         3934          0    1    0    0    0    0   \n",
       "\n",
       "   0.5  0.6  0.7  0.8  0.9  final_predicted  \n",
       "0    0    0    0    0    0                0  \n",
       "1    0    0    0    0    0                0  \n",
       "2    0    0    0    0    0                0  \n",
       "3    0    0    0    0    0                0  \n",
       "4    0    0    0    0    0                0  "
      ]
     },
     "execution_count": 141,
     "metadata": {},
     "output_type": "execute_result"
    }
   ],
   "source": [
    "y_train_pred_final['final_predicted'] = y_train_pred_final.Converted_Prob.map( lambda x: 1 if x > 0.19 else 0)\n",
    "y_train_pred_final.head()"
   ]
  },
  {
   "cell_type": "code",
   "execution_count": 142,
   "metadata": {},
   "outputs": [
    {
     "data": {
      "text/plain": [
       "0.9001236858379715"
      ]
     },
     "execution_count": 142,
     "metadata": {},
     "output_type": "execute_result"
    }
   ],
   "source": [
    "# Let's check the overall accuracy.\n",
    "metrics.accuracy_score(y_train_pred_final.Converted, y_train_pred_final.final_predicted)"
   ]
  },
  {
   "cell_type": "code",
   "execution_count": 143,
   "metadata": {},
   "outputs": [
    {
     "data": {
      "text/plain": [
       "array([[3640,  362],\n",
       "       [ 284, 2182]], dtype=int64)"
      ]
     },
     "execution_count": 143,
     "metadata": {},
     "output_type": "execute_result"
    }
   ],
   "source": [
    "confusion2 = metrics.confusion_matrix(y_train_pred_final.Converted, y_train_pred_final.final_predicted )\n",
    "confusion2"
   ]
  },
  {
   "cell_type": "code",
   "execution_count": 144,
   "metadata": {},
   "outputs": [],
   "source": [
    "TP = confusion2[1,1] # true positive \n",
    "TN = confusion2[0,0] # true negatives\n",
    "FP = confusion2[0,1] # false positives\n",
    "FN = confusion2[1,0] # false negatives"
   ]
  },
  {
   "cell_type": "code",
   "execution_count": 145,
   "metadata": {},
   "outputs": [
    {
     "data": {
      "text/plain": [
       "0.8848337388483374"
      ]
     },
     "execution_count": 145,
     "metadata": {},
     "output_type": "execute_result"
    }
   ],
   "source": [
    "# Let's see the sensitivity of our logistic regression model\n",
    "TP / float(TP+FN)"
   ]
  },
  {
   "cell_type": "code",
   "execution_count": 146,
   "metadata": {},
   "outputs": [
    {
     "data": {
      "text/plain": [
       "0.9095452273863068"
      ]
     },
     "execution_count": 146,
     "metadata": {},
     "output_type": "execute_result"
    }
   ],
   "source": [
    "# Let us calculate specificity\n",
    "TN / float(TN+FP)"
   ]
  },
  {
   "cell_type": "code",
   "execution_count": 147,
   "metadata": {},
   "outputs": [
    {
     "name": "stdout",
     "output_type": "stream",
     "text": [
      "0.09045477261369315\n"
     ]
    }
   ],
   "source": [
    "# Calculate false postive rate - predicting lead when customer is not a lead\n",
    "print(FP/ float(TN+FP))"
   ]
  },
  {
   "cell_type": "code",
   "execution_count": 148,
   "metadata": {},
   "outputs": [
    {
     "name": "stdout",
     "output_type": "stream",
     "text": [
      "0.8577044025157232\n"
     ]
    }
   ],
   "source": [
    "# Positive predictive value \n",
    "print (TP / float(TP+FP))"
   ]
  },
  {
   "cell_type": "code",
   "execution_count": 149,
   "metadata": {},
   "outputs": [
    {
     "name": "stdout",
     "output_type": "stream",
     "text": [
      "0.9276248725790011\n"
     ]
    }
   ],
   "source": [
    "# Negative predictive value\n",
    "print (TN / float(TN+ FN))"
   ]
  },
  {
   "cell_type": "markdown",
   "metadata": {},
   "source": [
    "# Precision and Recall"
   ]
  },
  {
   "cell_type": "code",
   "execution_count": 150,
   "metadata": {},
   "outputs": [
    {
     "data": {
      "text/plain": [
       "0.925476603119584"
      ]
     },
     "execution_count": 150,
     "metadata": {},
     "output_type": "execute_result"
    }
   ],
   "source": [
    "confusion[1,1]/(confusion[0,1]+confusion[1,1])"
   ]
  },
  {
   "cell_type": "code",
   "execution_count": 151,
   "metadata": {},
   "outputs": [
    {
     "data": {
      "text/plain": [
       "0.8661800486618005"
      ]
     },
     "execution_count": 151,
     "metadata": {},
     "output_type": "execute_result"
    }
   ],
   "source": [
    "confusion[1,1]/(confusion[1,0]+confusion[1,1])"
   ]
  },
  {
   "cell_type": "code",
   "execution_count": 152,
   "metadata": {},
   "outputs": [],
   "source": [
    "from sklearn.metrics import precision_score, recall_score"
   ]
  },
  {
   "cell_type": "code",
   "execution_count": 153,
   "metadata": {},
   "outputs": [
    {
     "data": {
      "text/plain": [
       "0.925476603119584"
      ]
     },
     "execution_count": 153,
     "metadata": {},
     "output_type": "execute_result"
    }
   ],
   "source": [
    "precision_score(y_train_pred_final.Converted, y_train_pred_final.predicted)"
   ]
  },
  {
   "cell_type": "code",
   "execution_count": 154,
   "metadata": {},
   "outputs": [
    {
     "data": {
      "text/plain": [
       "0.8661800486618005"
      ]
     },
     "execution_count": 154,
     "metadata": {},
     "output_type": "execute_result"
    }
   ],
   "source": [
    "recall_score(y_train_pred_final.Converted, y_train_pred_final.predicted)"
   ]
  },
  {
   "cell_type": "markdown",
   "metadata": {},
   "source": [
    "# Precision and recall tradeoff"
   ]
  },
  {
   "cell_type": "code",
   "execution_count": 155,
   "metadata": {},
   "outputs": [],
   "source": [
    "from sklearn.metrics import precision_recall_curve"
   ]
  },
  {
   "cell_type": "code",
   "execution_count": 156,
   "metadata": {
    "scrolled": false
   },
   "outputs": [
    {
     "data": {
      "text/plain": [
       "(0       0\n",
       " 1       0\n",
       " 2       0\n",
       " 3       0\n",
       " 4       0\n",
       " 5       1\n",
       " 6       0\n",
       " 7       1\n",
       " 8       0\n",
       " 9       1\n",
       " 10      1\n",
       " 11      0\n",
       " 12      1\n",
       " 13      1\n",
       " 14      0\n",
       " 15      0\n",
       " 16      0\n",
       " 17      0\n",
       " 18      0\n",
       " 19      1\n",
       " 20      1\n",
       " 21      1\n",
       " 22      1\n",
       " 23      1\n",
       " 24      1\n",
       " 25      1\n",
       " 26      0\n",
       " 27      1\n",
       " 28      1\n",
       " 29      0\n",
       "        ..\n",
       " 6438    1\n",
       " 6439    0\n",
       " 6440    1\n",
       " 6441    1\n",
       " 6442    0\n",
       " 6443    0\n",
       " 6444    0\n",
       " 6445    0\n",
       " 6446    0\n",
       " 6447    0\n",
       " 6448    0\n",
       " 6449    0\n",
       " 6450    1\n",
       " 6451    1\n",
       " 6452    1\n",
       " 6453    1\n",
       " 6454    1\n",
       " 6455    1\n",
       " 6456    1\n",
       " 6457    1\n",
       " 6458    0\n",
       " 6459    1\n",
       " 6460    1\n",
       " 6461    0\n",
       " 6462    1\n",
       " 6463    1\n",
       " 6464    1\n",
       " 6465    1\n",
       " 6466    0\n",
       " 6467    0\n",
       " Name: Converted, Length: 6468, dtype: int64, 0       0\n",
       " 1       0\n",
       " 2       0\n",
       " 3       0\n",
       " 4       0\n",
       " 5       1\n",
       " 6       0\n",
       " 7       1\n",
       " 8       0\n",
       " 9       1\n",
       " 10      1\n",
       " 11      1\n",
       " 12      1\n",
       " 13      1\n",
       " 14      0\n",
       " 15      0\n",
       " 16      0\n",
       " 17      0\n",
       " 18      0\n",
       " 19      1\n",
       " 20      0\n",
       " 21      1\n",
       " 22      1\n",
       " 23      1\n",
       " 24      1\n",
       " 25      1\n",
       " 26      0\n",
       " 27      1\n",
       " 28      1\n",
       " 29      0\n",
       "        ..\n",
       " 6438    1\n",
       " 6439    0\n",
       " 6440    1\n",
       " 6441    1\n",
       " 6442    0\n",
       " 6443    0\n",
       " 6444    0\n",
       " 6445    1\n",
       " 6446    0\n",
       " 6447    0\n",
       " 6448    0\n",
       " 6449    0\n",
       " 6450    1\n",
       " 6451    0\n",
       " 6452    1\n",
       " 6453    0\n",
       " 6454    1\n",
       " 6455    1\n",
       " 6456    1\n",
       " 6457    1\n",
       " 6458    0\n",
       " 6459    1\n",
       " 6460    1\n",
       " 6461    0\n",
       " 6462    1\n",
       " 6463    1\n",
       " 6464    1\n",
       " 6465    0\n",
       " 6466    0\n",
       " 6467    0\n",
       " Name: predicted, Length: 6468, dtype: int64)"
      ]
     },
     "execution_count": 156,
     "metadata": {},
     "output_type": "execute_result"
    }
   ],
   "source": [
    "y_train_pred_final.Converted, y_train_pred_final.predicted"
   ]
  },
  {
   "cell_type": "code",
   "execution_count": 157,
   "metadata": {},
   "outputs": [],
   "source": [
    "p, r, thresholds = precision_recall_curve(y_train_pred_final.Converted, y_train_pred_final.Converted_Prob)"
   ]
  },
  {
   "cell_type": "code",
   "execution_count": 158,
   "metadata": {},
   "outputs": [
    {
     "data": {
      "image/png": "[encoded data removed]",
      "text/plain": [
       "<Figure size 432x288 with 1 Axes>"
      ]
     },
     "metadata": {
      "needs_background": "light"
     },
     "output_type": "display_data"
    }
   ],
   "source": [
    "plt.plot(thresholds, p[:-1], \"g-\")\n",
    "plt.plot(thresholds, r[:-1], \"r-\")\n",
    "plt.vlines(x=0.37, ymax=1, ymin=0, colors=\"r\", linestyles=\"--\")\n",
    "plt.show()"
   ]
  },
  {
   "cell_type": "markdown",
   "metadata": {},
   "source": [
    "# Making predictions on the test set"
   ]
  },
  {
   "cell_type": "code",
   "execution_count": 159,
   "metadata": {},
   "outputs": [
    {
     "data": {
      "text/html": [
       "<div>\n",
       "<style scoped>\n",
       "    .dataframe tbody tr th:only-of-type {\n",
       "        vertical-align: middle;\n",
       "    }\n",
       "\n",
       "    .dataframe tbody tr th {\n",
       "        vertical-align: top;\n",
       "    }\n",
       "\n",
       "    .dataframe thead th {\n",
       "        text-align: right;\n",
       "    }\n",
       "</style>\n",
       "<table border=\"1\" class=\"dataframe\">\n",
       "  <thead>\n",
       "    <tr style=\"text-align: right;\">\n",
       "      <th></th>\n",
       "      <th>Lead Source_Welingak Website</th>\n",
       "      <th>Last Activity_SMS Sent</th>\n",
       "      <th>Tags_Closed by Horizzon</th>\n",
       "      <th>Tags_Lost to EINS</th>\n",
       "      <th>Tags_Ringing</th>\n",
       "      <th>Tags_Will revert after reading the email</th>\n",
       "      <th>Tags_invalid number</th>\n",
       "      <th>Tags_switched off</th>\n",
       "      <th>Lead Quality_Worst</th>\n",
       "      <th>Last Notable Activity_Modified</th>\n",
       "      <th>Last Notable Activity_Olark Chat Conversation</th>\n",
       "    </tr>\n",
       "  </thead>\n",
       "  <tbody>\n",
       "    <tr>\n",
       "      <th>4269</th>\n",
       "      <td>0</td>\n",
       "      <td>1</td>\n",
       "      <td>0</td>\n",
       "      <td>0</td>\n",
       "      <td>0</td>\n",
       "      <td>0</td>\n",
       "      <td>0</td>\n",
       "      <td>0</td>\n",
       "      <td>0</td>\n",
       "      <td>0</td>\n",
       "      <td>0</td>\n",
       "    </tr>\n",
       "    <tr>\n",
       "      <th>2376</th>\n",
       "      <td>0</td>\n",
       "      <td>1</td>\n",
       "      <td>0</td>\n",
       "      <td>0</td>\n",
       "      <td>0</td>\n",
       "      <td>1</td>\n",
       "      <td>0</td>\n",
       "      <td>0</td>\n",
       "      <td>0</td>\n",
       "      <td>0</td>\n",
       "      <td>0</td>\n",
       "    </tr>\n",
       "    <tr>\n",
       "      <th>7766</th>\n",
       "      <td>0</td>\n",
       "      <td>0</td>\n",
       "      <td>0</td>\n",
       "      <td>0</td>\n",
       "      <td>0</td>\n",
       "      <td>1</td>\n",
       "      <td>0</td>\n",
       "      <td>0</td>\n",
       "      <td>0</td>\n",
       "      <td>0</td>\n",
       "      <td>0</td>\n",
       "    </tr>\n",
       "    <tr>\n",
       "      <th>9199</th>\n",
       "      <td>0</td>\n",
       "      <td>0</td>\n",
       "      <td>0</td>\n",
       "      <td>0</td>\n",
       "      <td>0</td>\n",
       "      <td>0</td>\n",
       "      <td>0</td>\n",
       "      <td>0</td>\n",
       "      <td>0</td>\n",
       "      <td>1</td>\n",
       "      <td>0</td>\n",
       "    </tr>\n",
       "    <tr>\n",
       "      <th>4359</th>\n",
       "      <td>0</td>\n",
       "      <td>0</td>\n",
       "      <td>0</td>\n",
       "      <td>0</td>\n",
       "      <td>0</td>\n",
       "      <td>1</td>\n",
       "      <td>0</td>\n",
       "      <td>0</td>\n",
       "      <td>0</td>\n",
       "      <td>0</td>\n",
       "      <td>0</td>\n",
       "    </tr>\n",
       "  </tbody>\n",
       "</table>\n",
       "</div>"
      ],
      "text/plain": [
       "      Lead Source_Welingak Website  Last Activity_SMS Sent  \\\n",
       "4269                             0                       1   \n",
       "2376                             0                       1   \n",
       "7766                             0                       0   \n",
       "9199                             0                       0   \n",
       "4359                             0                       0   \n",
       "\n",
       "      Tags_Closed by Horizzon  Tags_Lost to EINS  Tags_Ringing  \\\n",
       "4269                        0                  0             0   \n",
       "2376                        0                  0             0   \n",
       "7766                        0                  0             0   \n",
       "9199                        0                  0             0   \n",
       "4359                        0                  0             0   \n",
       "\n",
       "      Tags_Will revert after reading the email  Tags_invalid number  \\\n",
       "4269                                         0                    0   \n",
       "2376                                         1                    0   \n",
       "7766                                         1                    0   \n",
       "9199                                         0                    0   \n",
       "4359                                         1                    0   \n",
       "\n",
       "      Tags_switched off  Lead Quality_Worst  Last Notable Activity_Modified  \\\n",
       "4269                  0                   0                               0   \n",
       "2376                  0                   0                               0   \n",
       "7766                  0                   0                               0   \n",
       "9199                  0                   0                               1   \n",
       "4359                  0                   0                               0   \n",
       "\n",
       "      Last Notable Activity_Olark Chat Conversation  \n",
       "4269                                              0  \n",
       "2376                                              0  \n",
       "7766                                              0  \n",
       "9199                                              0  \n",
       "4359                                              0  "
      ]
     },
     "execution_count": 159,
     "metadata": {},
     "output_type": "execute_result"
    }
   ],
   "source": [
    "X_test = X_test[col]\n",
    "X_test.head()"
   ]
  },
  {
   "cell_type": "code",
   "execution_count": 160,
   "metadata": {},
   "outputs": [],
   "source": [
    "X_test_sm = sm.add_constant(X_test)"
   ]
  },
  {
   "cell_type": "code",
   "execution_count": 161,
   "metadata": {},
   "outputs": [],
   "source": [
    "y_test_pred = res.predict(X_test_sm)"
   ]
  },
  {
   "cell_type": "code",
   "execution_count": 162,
   "metadata": {},
   "outputs": [
    {
     "data": {
      "text/plain": [
       "4269    0.669888\n",
       "2376    0.996582\n",
       "7766    0.970923\n",
       "9199    0.036620\n",
       "4359    0.970923\n",
       "9186    0.996582\n",
       "1631    0.970923\n",
       "8963    0.970923\n",
       "8007    0.036620\n",
       "5324    0.996582\n",
       "dtype: float64"
      ]
     },
     "execution_count": 162,
     "metadata": {},
     "output_type": "execute_result"
    }
   ],
   "source": [
    "y_test_pred[:10]"
   ]
  },
  {
   "cell_type": "code",
   "execution_count": 163,
   "metadata": {},
   "outputs": [],
   "source": [
    "# Converting y_pred to a dataframe which is an array\n",
    "y_pred_1 = pd.DataFrame(y_test_pred)"
   ]
  },
  {
   "cell_type": "code",
   "execution_count": 164,
   "metadata": {},
   "outputs": [
    {
     "data": {
      "text/html": [
       "<div>\n",
       "<style scoped>\n",
       "    .dataframe tbody tr th:only-of-type {\n",
       "        vertical-align: middle;\n",
       "    }\n",
       "\n",
       "    .dataframe tbody tr th {\n",
       "        vertical-align: top;\n",
       "    }\n",
       "\n",
       "    .dataframe thead th {\n",
       "        text-align: right;\n",
       "    }\n",
       "</style>\n",
       "<table border=\"1\" class=\"dataframe\">\n",
       "  <thead>\n",
       "    <tr style=\"text-align: right;\">\n",
       "      <th></th>\n",
       "      <th>0</th>\n",
       "    </tr>\n",
       "  </thead>\n",
       "  <tbody>\n",
       "    <tr>\n",
       "      <th>4269</th>\n",
       "      <td>0.669888</td>\n",
       "    </tr>\n",
       "    <tr>\n",
       "      <th>2376</th>\n",
       "      <td>0.996582</td>\n",
       "    </tr>\n",
       "    <tr>\n",
       "      <th>7766</th>\n",
       "      <td>0.970923</td>\n",
       "    </tr>\n",
       "    <tr>\n",
       "      <th>9199</th>\n",
       "      <td>0.036620</td>\n",
       "    </tr>\n",
       "    <tr>\n",
       "      <th>4359</th>\n",
       "      <td>0.970923</td>\n",
       "    </tr>\n",
       "  </tbody>\n",
       "</table>\n",
       "</div>"
      ],
      "text/plain": [
       "             0\n",
       "4269  0.669888\n",
       "2376  0.996582\n",
       "7766  0.970923\n",
       "9199  0.036620\n",
       "4359  0.970923"
      ]
     },
     "execution_count": 164,
     "metadata": {},
     "output_type": "execute_result"
    }
   ],
   "source": [
    "# Let's see the head\n",
    "y_pred_1.head()"
   ]
  },
  {
   "cell_type": "code",
   "execution_count": 165,
   "metadata": {},
   "outputs": [],
   "source": [
    "# Converting y_test to dataframe\n",
    "y_test_df = pd.DataFrame(y_test)"
   ]
  },
  {
   "cell_type": "code",
   "execution_count": 166,
   "metadata": {},
   "outputs": [],
   "source": [
    "# Putting CustID to index\n",
    "y_test_df['Lead Number'] = y_test_df.index"
   ]
  },
  {
   "cell_type": "code",
   "execution_count": 167,
   "metadata": {},
   "outputs": [],
   "source": [
    "# Removing index for both dataframes to append them side by side \n",
    "y_pred_1.reset_index(drop=True, inplace=True)\n",
    "y_test_df.reset_index(drop=True, inplace=True)"
   ]
  },
  {
   "cell_type": "code",
   "execution_count": 168,
   "metadata": {},
   "outputs": [],
   "source": [
    "# Appending y_test_df and y_pred_1\n",
    "y_pred_final = pd.concat([y_test_df, y_pred_1],axis=1)"
   ]
  },
  {
   "cell_type": "code",
   "execution_count": 169,
   "metadata": {},
   "outputs": [
    {
     "data": {
      "text/html": [
       "<div>\n",
       "<style scoped>\n",
       "    .dataframe tbody tr th:only-of-type {\n",
       "        vertical-align: middle;\n",
       "    }\n",
       "\n",
       "    .dataframe tbody tr th {\n",
       "        vertical-align: top;\n",
       "    }\n",
       "\n",
       "    .dataframe thead th {\n",
       "        text-align: right;\n",
       "    }\n",
       "</style>\n",
       "<table border=\"1\" class=\"dataframe\">\n",
       "  <thead>\n",
       "    <tr style=\"text-align: right;\">\n",
       "      <th></th>\n",
       "      <th>Converted</th>\n",
       "      <th>Lead Number</th>\n",
       "      <th>0</th>\n",
       "    </tr>\n",
       "  </thead>\n",
       "  <tbody>\n",
       "    <tr>\n",
       "      <th>0</th>\n",
       "      <td>1</td>\n",
       "      <td>4269</td>\n",
       "      <td>0.669888</td>\n",
       "    </tr>\n",
       "    <tr>\n",
       "      <th>1</th>\n",
       "      <td>1</td>\n",
       "      <td>2376</td>\n",
       "      <td>0.996582</td>\n",
       "    </tr>\n",
       "    <tr>\n",
       "      <th>2</th>\n",
       "      <td>1</td>\n",
       "      <td>7766</td>\n",
       "      <td>0.970923</td>\n",
       "    </tr>\n",
       "    <tr>\n",
       "      <th>3</th>\n",
       "      <td>0</td>\n",
       "      <td>9199</td>\n",
       "      <td>0.036620</td>\n",
       "    </tr>\n",
       "    <tr>\n",
       "      <th>4</th>\n",
       "      <td>1</td>\n",
       "      <td>4359</td>\n",
       "      <td>0.970923</td>\n",
       "    </tr>\n",
       "  </tbody>\n",
       "</table>\n",
       "</div>"
      ],
      "text/plain": [
       "   Converted  Lead Number         0\n",
       "0          1         4269  0.669888\n",
       "1          1         2376  0.996582\n",
       "2          1         7766  0.970923\n",
       "3          0         9199  0.036620\n",
       "4          1         4359  0.970923"
      ]
     },
     "execution_count": 169,
     "metadata": {},
     "output_type": "execute_result"
    }
   ],
   "source": [
    "y_pred_final.head()"
   ]
  },
  {
   "cell_type": "code",
   "execution_count": 170,
   "metadata": {},
   "outputs": [],
   "source": [
    "# Renaming the column \n",
    "y_pred_final= y_pred_final.rename(columns={ 0 : 'Converted_Prob'})"
   ]
  },
  {
   "cell_type": "code",
   "execution_count": 171,
   "metadata": {},
   "outputs": [
    {
     "data": {
      "text/html": [
       "<div>\n",
       "<style scoped>\n",
       "    .dataframe tbody tr th:only-of-type {\n",
       "        vertical-align: middle;\n",
       "    }\n",
       "\n",
       "    .dataframe tbody tr th {\n",
       "        vertical-align: top;\n",
       "    }\n",
       "\n",
       "    .dataframe thead th {\n",
       "        text-align: right;\n",
       "    }\n",
       "</style>\n",
       "<table border=\"1\" class=\"dataframe\">\n",
       "  <thead>\n",
       "    <tr style=\"text-align: right;\">\n",
       "      <th></th>\n",
       "      <th>Converted</th>\n",
       "      <th>Lead Number</th>\n",
       "      <th>Converted_Prob</th>\n",
       "    </tr>\n",
       "  </thead>\n",
       "  <tbody>\n",
       "    <tr>\n",
       "      <th>0</th>\n",
       "      <td>1</td>\n",
       "      <td>4269</td>\n",
       "      <td>0.669888</td>\n",
       "    </tr>\n",
       "    <tr>\n",
       "      <th>1</th>\n",
       "      <td>1</td>\n",
       "      <td>2376</td>\n",
       "      <td>0.996582</td>\n",
       "    </tr>\n",
       "    <tr>\n",
       "      <th>2</th>\n",
       "      <td>1</td>\n",
       "      <td>7766</td>\n",
       "      <td>0.970923</td>\n",
       "    </tr>\n",
       "    <tr>\n",
       "      <th>3</th>\n",
       "      <td>0</td>\n",
       "      <td>9199</td>\n",
       "      <td>0.036620</td>\n",
       "    </tr>\n",
       "    <tr>\n",
       "      <th>4</th>\n",
       "      <td>1</td>\n",
       "      <td>4359</td>\n",
       "      <td>0.970923</td>\n",
       "    </tr>\n",
       "  </tbody>\n",
       "</table>\n",
       "</div>"
      ],
      "text/plain": [
       "   Converted  Lead Number  Converted_Prob\n",
       "0          1         4269        0.669888\n",
       "1          1         2376        0.996582\n",
       "2          1         7766        0.970923\n",
       "3          0         9199        0.036620\n",
       "4          1         4359        0.970923"
      ]
     },
     "execution_count": 171,
     "metadata": {},
     "output_type": "execute_result"
    }
   ],
   "source": [
    "y_pred_final.head()"
   ]
  },
  {
   "cell_type": "code",
   "execution_count": 172,
   "metadata": {},
   "outputs": [],
   "source": [
    "# Rearranging the columns\n",
    "y_pred_final = y_pred_final.reindex_axis(['Converted','Lead Number','Converted_Prob'], axis=1)"
   ]
  },
  {
   "cell_type": "code",
   "execution_count": 173,
   "metadata": {},
   "outputs": [
    {
     "data": {
      "text/html": [
       "<div>\n",
       "<style scoped>\n",
       "    .dataframe tbody tr th:only-of-type {\n",
       "        vertical-align: middle;\n",
       "    }\n",
       "\n",
       "    .dataframe tbody tr th {\n",
       "        vertical-align: top;\n",
       "    }\n",
       "\n",
       "    .dataframe thead th {\n",
       "        text-align: right;\n",
       "    }\n",
       "</style>\n",
       "<table border=\"1\" class=\"dataframe\">\n",
       "  <thead>\n",
       "    <tr style=\"text-align: right;\">\n",
       "      <th></th>\n",
       "      <th>Converted</th>\n",
       "      <th>Lead Number</th>\n",
       "      <th>Converted_Prob</th>\n",
       "    </tr>\n",
       "  </thead>\n",
       "  <tbody>\n",
       "    <tr>\n",
       "      <th>0</th>\n",
       "      <td>1</td>\n",
       "      <td>4269</td>\n",
       "      <td>0.669888</td>\n",
       "    </tr>\n",
       "    <tr>\n",
       "      <th>1</th>\n",
       "      <td>1</td>\n",
       "      <td>2376</td>\n",
       "      <td>0.996582</td>\n",
       "    </tr>\n",
       "    <tr>\n",
       "      <th>2</th>\n",
       "      <td>1</td>\n",
       "      <td>7766</td>\n",
       "      <td>0.970923</td>\n",
       "    </tr>\n",
       "    <tr>\n",
       "      <th>3</th>\n",
       "      <td>0</td>\n",
       "      <td>9199</td>\n",
       "      <td>0.036620</td>\n",
       "    </tr>\n",
       "    <tr>\n",
       "      <th>4</th>\n",
       "      <td>1</td>\n",
       "      <td>4359</td>\n",
       "      <td>0.970923</td>\n",
       "    </tr>\n",
       "  </tbody>\n",
       "</table>\n",
       "</div>"
      ],
      "text/plain": [
       "   Converted  Lead Number  Converted_Prob\n",
       "0          1         4269        0.669888\n",
       "1          1         2376        0.996582\n",
       "2          1         7766        0.970923\n",
       "3          0         9199        0.036620\n",
       "4          1         4359        0.970923"
      ]
     },
     "execution_count": 173,
     "metadata": {},
     "output_type": "execute_result"
    }
   ],
   "source": [
    "# Let's see the head of y_pred_final\n",
    "y_pred_final.head()"
   ]
  },
  {
   "cell_type": "code",
   "execution_count": 174,
   "metadata": {},
   "outputs": [],
   "source": [
    "y_pred_final['final_predicted'] = y_pred_final.Converted_Prob.map(lambda x: 1 if x > 0.37 else 0)"
   ]
  },
  {
   "cell_type": "code",
   "execution_count": 175,
   "metadata": {},
   "outputs": [
    {
     "data": {
      "text/html": [
       "<div>\n",
       "<style scoped>\n",
       "    .dataframe tbody tr th:only-of-type {\n",
       "        vertical-align: middle;\n",
       "    }\n",
       "\n",
       "    .dataframe tbody tr th {\n",
       "        vertical-align: top;\n",
       "    }\n",
       "\n",
       "    .dataframe thead th {\n",
       "        text-align: right;\n",
       "    }\n",
       "</style>\n",
       "<table border=\"1\" class=\"dataframe\">\n",
       "  <thead>\n",
       "    <tr style=\"text-align: right;\">\n",
       "      <th></th>\n",
       "      <th>Converted</th>\n",
       "      <th>Lead Number</th>\n",
       "      <th>Converted_Prob</th>\n",
       "      <th>final_predicted</th>\n",
       "    </tr>\n",
       "  </thead>\n",
       "  <tbody>\n",
       "    <tr>\n",
       "      <th>0</th>\n",
       "      <td>1</td>\n",
       "      <td>4269</td>\n",
       "      <td>0.669888</td>\n",
       "      <td>1</td>\n",
       "    </tr>\n",
       "    <tr>\n",
       "      <th>1</th>\n",
       "      <td>1</td>\n",
       "      <td>2376</td>\n",
       "      <td>0.996582</td>\n",
       "      <td>1</td>\n",
       "    </tr>\n",
       "    <tr>\n",
       "      <th>2</th>\n",
       "      <td>1</td>\n",
       "      <td>7766</td>\n",
       "      <td>0.970923</td>\n",
       "      <td>1</td>\n",
       "    </tr>\n",
       "    <tr>\n",
       "      <th>3</th>\n",
       "      <td>0</td>\n",
       "      <td>9199</td>\n",
       "      <td>0.036620</td>\n",
       "      <td>0</td>\n",
       "    </tr>\n",
       "    <tr>\n",
       "      <th>4</th>\n",
       "      <td>1</td>\n",
       "      <td>4359</td>\n",
       "      <td>0.970923</td>\n",
       "      <td>1</td>\n",
       "    </tr>\n",
       "  </tbody>\n",
       "</table>\n",
       "</div>"
      ],
      "text/plain": [
       "   Converted  Lead Number  Converted_Prob  final_predicted\n",
       "0          1         4269        0.669888                1\n",
       "1          1         2376        0.996582                1\n",
       "2          1         7766        0.970923                1\n",
       "3          0         9199        0.036620                0\n",
       "4          1         4359        0.970923                1"
      ]
     },
     "execution_count": 175,
     "metadata": {},
     "output_type": "execute_result"
    }
   ],
   "source": [
    "y_pred_final.head()"
   ]
  },
  {
   "cell_type": "code",
   "execution_count": 176,
   "metadata": {},
   "outputs": [
    {
     "data": {
      "text/plain": [
       "0.9231601731601732"
      ]
     },
     "execution_count": 176,
     "metadata": {},
     "output_type": "execute_result"
    }
   ],
   "source": [
    "# Let's check the overall accuracy.\n",
    "metrics.accuracy_score(y_pred_final.Converted, y_pred_final.final_predicted)"
   ]
  },
  {
   "cell_type": "code",
   "execution_count": 177,
   "metadata": {},
   "outputs": [
    {
     "data": {
      "text/plain": [
       "array([[1595,   82],\n",
       "       [ 131,  964]], dtype=int64)"
      ]
     },
     "execution_count": 177,
     "metadata": {},
     "output_type": "execute_result"
    }
   ],
   "source": [
    "confusion2 = metrics.confusion_matrix(y_pred_final.Converted, y_pred_final.final_predicted )\n",
    "confusion2"
   ]
  },
  {
   "cell_type": "code",
   "execution_count": 178,
   "metadata": {},
   "outputs": [],
   "source": [
    "TP = confusion2[1,1] # true positive \n",
    "TN = confusion2[0,0] # true negatives\n",
    "FP = confusion2[0,1] # false positives\n",
    "FN = confusion2[1,0] # false negatives"
   ]
  },
  {
   "cell_type": "code",
   "execution_count": 179,
   "metadata": {},
   "outputs": [
    {
     "data": {
      "text/plain": [
       "0.8803652968036529"
      ]
     },
     "execution_count": 179,
     "metadata": {},
     "output_type": "execute_result"
    }
   ],
   "source": [
    "# Let's see the sensitivity of our logistic regression model\n",
    "TP / float(TP+FN)"
   ]
  },
  {
   "cell_type": "code",
   "execution_count": 180,
   "metadata": {},
   "outputs": [
    {
     "data": {
      "text/plain": [
       "0.951103160405486"
      ]
     },
     "execution_count": 180,
     "metadata": {},
     "output_type": "execute_result"
    }
   ],
   "source": [
    "# Let us calculate specificity\n",
    "TN / float(TN+FP)"
   ]
  },
  {
   "cell_type": "code",
   "execution_count": 181,
   "metadata": {},
   "outputs": [
    {
     "data": {
      "text/plain": [
       "0.9216061185468452"
      ]
     },
     "execution_count": 181,
     "metadata": {},
     "output_type": "execute_result"
    }
   ],
   "source": [
    "TP/float(TP+FP)"
   ]
  },
  {
   "cell_type": "markdown",
   "metadata": {},
   "source": [
    "### Ranking leads in a way that HOT leads gets a higher rank"
   ]
  },
  {
   "cell_type": "code",
   "execution_count": 182,
   "metadata": {},
   "outputs": [],
   "source": [
    "y_pred_final.sort_values(\"Converted_Prob\", axis = 0, ascending = True,inplace = True, na_position ='last')"
   ]
  },
  {
   "cell_type": "code",
   "execution_count": 183,
   "metadata": {},
   "outputs": [
    {
     "data": {
      "text/html": [
       "<div>\n",
       "<style scoped>\n",
       "    .dataframe tbody tr th:only-of-type {\n",
       "        vertical-align: middle;\n",
       "    }\n",
       "\n",
       "    .dataframe tbody tr th {\n",
       "        vertical-align: top;\n",
       "    }\n",
       "\n",
       "    .dataframe thead th {\n",
       "        text-align: right;\n",
       "    }\n",
       "</style>\n",
       "<table border=\"1\" class=\"dataframe\">\n",
       "  <thead>\n",
       "    <tr style=\"text-align: right;\">\n",
       "      <th></th>\n",
       "      <th>Converted</th>\n",
       "      <th>Lead Number</th>\n",
       "      <th>Converted_Prob</th>\n",
       "      <th>final_predicted</th>\n",
       "    </tr>\n",
       "  </thead>\n",
       "  <tbody>\n",
       "    <tr>\n",
       "      <th>2394</th>\n",
       "      <td>0</td>\n",
       "      <td>201</td>\n",
       "      <td>0.000051</td>\n",
       "      <td>0</td>\n",
       "    </tr>\n",
       "    <tr>\n",
       "      <th>1344</th>\n",
       "      <td>0</td>\n",
       "      <td>8368</td>\n",
       "      <td>0.000374</td>\n",
       "      <td>0</td>\n",
       "    </tr>\n",
       "    <tr>\n",
       "      <th>2196</th>\n",
       "      <td>0</td>\n",
       "      <td>5627</td>\n",
       "      <td>0.000483</td>\n",
       "      <td>0</td>\n",
       "    </tr>\n",
       "    <tr>\n",
       "      <th>364</th>\n",
       "      <td>0</td>\n",
       "      <td>5667</td>\n",
       "      <td>0.000963</td>\n",
       "      <td>0</td>\n",
       "    </tr>\n",
       "    <tr>\n",
       "      <th>1718</th>\n",
       "      <td>0</td>\n",
       "      <td>2425</td>\n",
       "      <td>0.000963</td>\n",
       "      <td>0</td>\n",
       "    </tr>\n",
       "  </tbody>\n",
       "</table>\n",
       "</div>"
      ],
      "text/plain": [
       "      Converted  Lead Number  Converted_Prob  final_predicted\n",
       "2394          0          201        0.000051                0\n",
       "1344          0         8368        0.000374                0\n",
       "2196          0         5627        0.000483                0\n",
       "364           0         5667        0.000963                0\n",
       "1718          0         2425        0.000963                0"
      ]
     },
     "execution_count": 183,
     "metadata": {},
     "output_type": "execute_result"
    }
   ],
   "source": [
    "y_pred_final.head()"
   ]
  },
  {
   "cell_type": "code",
   "execution_count": 184,
   "metadata": {},
   "outputs": [],
   "source": [
    "Converted_Prob_values=y_pred_final['Converted_Prob'].values"
   ]
  },
  {
   "cell_type": "code",
   "execution_count": 185,
   "metadata": {},
   "outputs": [],
   "source": [
    "Converted_Prob_values=list(Converted_Prob_values)"
   ]
  },
  {
   "cell_type": "code",
   "execution_count": 186,
   "metadata": {
    "scrolled": false
   },
   "outputs": [],
   "source": [
    "rank_list=[]\n",
    "rank=1\n",
    "previous_value=100\n",
    "for each in Converted_Prob_values:\n",
    "    if each<=previous_value:\n",
    "        rank_list.append(rank)\n",
    "        previous_value=each\n",
    "    else:\n",
    "        rank=rank+1\n",
    "        rank_list.append(rank)\n",
    "        previous_value=each"
   ]
  },
  {
   "cell_type": "code",
   "execution_count": 187,
   "metadata": {},
   "outputs": [],
   "source": [
    "y_pred_final=y_pred_final.assign(Rank=rank_list)"
   ]
  },
  {
   "cell_type": "code",
   "execution_count": 188,
   "metadata": {
    "scrolled": true
   },
   "outputs": [
    {
     "data": {
      "text/html": [
       "<div>\n",
       "<style scoped>\n",
       "    .dataframe tbody tr th:only-of-type {\n",
       "        vertical-align: middle;\n",
       "    }\n",
       "\n",
       "    .dataframe tbody tr th {\n",
       "        vertical-align: top;\n",
       "    }\n",
       "\n",
       "    .dataframe thead th {\n",
       "        text-align: right;\n",
       "    }\n",
       "</style>\n",
       "<table border=\"1\" class=\"dataframe\">\n",
       "  <thead>\n",
       "    <tr style=\"text-align: right;\">\n",
       "      <th></th>\n",
       "      <th>Converted</th>\n",
       "      <th>Lead Number</th>\n",
       "      <th>Converted_Prob</th>\n",
       "      <th>final_predicted</th>\n",
       "      <th>Rank</th>\n",
       "    </tr>\n",
       "  </thead>\n",
       "  <tbody>\n",
       "    <tr>\n",
       "      <th>2394</th>\n",
       "      <td>0</td>\n",
       "      <td>201</td>\n",
       "      <td>0.000051</td>\n",
       "      <td>0</td>\n",
       "      <td>1</td>\n",
       "    </tr>\n",
       "    <tr>\n",
       "      <th>1344</th>\n",
       "      <td>0</td>\n",
       "      <td>8368</td>\n",
       "      <td>0.000374</td>\n",
       "      <td>0</td>\n",
       "      <td>2</td>\n",
       "    </tr>\n",
       "    <tr>\n",
       "      <th>2196</th>\n",
       "      <td>0</td>\n",
       "      <td>5627</td>\n",
       "      <td>0.000483</td>\n",
       "      <td>0</td>\n",
       "      <td>3</td>\n",
       "    </tr>\n",
       "    <tr>\n",
       "      <th>364</th>\n",
       "      <td>0</td>\n",
       "      <td>5667</td>\n",
       "      <td>0.000963</td>\n",
       "      <td>0</td>\n",
       "      <td>4</td>\n",
       "    </tr>\n",
       "    <tr>\n",
       "      <th>1718</th>\n",
       "      <td>0</td>\n",
       "      <td>2425</td>\n",
       "      <td>0.000963</td>\n",
       "      <td>0</td>\n",
       "      <td>4</td>\n",
       "    </tr>\n",
       "  </tbody>\n",
       "</table>\n",
       "</div>"
      ],
      "text/plain": [
       "      Converted  Lead Number  Converted_Prob  final_predicted  Rank\n",
       "2394          0          201        0.000051                0     1\n",
       "1344          0         8368        0.000374                0     2\n",
       "2196          0         5627        0.000483                0     3\n",
       "364           0         5667        0.000963                0     4\n",
       "1718          0         2425        0.000963                0     4"
      ]
     },
     "execution_count": 188,
     "metadata": {},
     "output_type": "execute_result"
    }
   ],
   "source": [
    "y_pred_final.head()"
   ]
  },
  {
   "cell_type": "code",
   "execution_count": 189,
   "metadata": {},
   "outputs": [
    {
     "data": {
      "text/html": [
       "<div>\n",
       "<style scoped>\n",
       "    .dataframe tbody tr th:only-of-type {\n",
       "        vertical-align: middle;\n",
       "    }\n",
       "\n",
       "    .dataframe tbody tr th {\n",
       "        vertical-align: top;\n",
       "    }\n",
       "\n",
       "    .dataframe thead th {\n",
       "        text-align: right;\n",
       "    }\n",
       "</style>\n",
       "<table border=\"1\" class=\"dataframe\">\n",
       "  <thead>\n",
       "    <tr style=\"text-align: right;\">\n",
       "      <th></th>\n",
       "      <th>Converted</th>\n",
       "      <th>Lead Number</th>\n",
       "      <th>Converted_Prob</th>\n",
       "      <th>final_predicted</th>\n",
       "      <th>Rank</th>\n",
       "    </tr>\n",
       "  </thead>\n",
       "  <tbody>\n",
       "    <tr>\n",
       "      <th>94</th>\n",
       "      <td>1</td>\n",
       "      <td>8103</td>\n",
       "      <td>0.999991</td>\n",
       "      <td>1</td>\n",
       "      <td>53</td>\n",
       "    </tr>\n",
       "    <tr>\n",
       "      <th>915</th>\n",
       "      <td>1</td>\n",
       "      <td>8412</td>\n",
       "      <td>0.999994</td>\n",
       "      <td>1</td>\n",
       "      <td>54</td>\n",
       "    </tr>\n",
       "    <tr>\n",
       "      <th>1329</th>\n",
       "      <td>1</td>\n",
       "      <td>4812</td>\n",
       "      <td>0.999994</td>\n",
       "      <td>1</td>\n",
       "      <td>54</td>\n",
       "    </tr>\n",
       "    <tr>\n",
       "      <th>920</th>\n",
       "      <td>1</td>\n",
       "      <td>3339</td>\n",
       "      <td>0.999994</td>\n",
       "      <td>1</td>\n",
       "      <td>54</td>\n",
       "    </tr>\n",
       "    <tr>\n",
       "      <th>2162</th>\n",
       "      <td>1</td>\n",
       "      <td>3736</td>\n",
       "      <td>0.999994</td>\n",
       "      <td>1</td>\n",
       "      <td>54</td>\n",
       "    </tr>\n",
       "  </tbody>\n",
       "</table>\n",
       "</div>"
      ],
      "text/plain": [
       "      Converted  Lead Number  Converted_Prob  final_predicted  Rank\n",
       "94            1         8103        0.999991                1    53\n",
       "915           1         8412        0.999994                1    54\n",
       "1329          1         4812        0.999994                1    54\n",
       "920           1         3339        0.999994                1    54\n",
       "2162          1         3736        0.999994                1    54"
      ]
     },
     "execution_count": 189,
     "metadata": {},
     "output_type": "execute_result"
    }
   ],
   "source": [
    "y_pred_final.tail()"
   ]
  }
 ],
 "metadata": {
  "kernelspec": {
   "display_name": "Python 3",
   "language": "python",
   "name": "python3"
  },
  "language_info": {
   "codemirror_mode": {
    "name": "ipython",
    "version": 3
   },
   "file_extension": ".py",
   "mimetype": "text/x-python",
   "name": "python",
   "nbconvert_exporter": "python",
   "pygments_lexer": "ipython3",
   "version": "3.7.3"
  }
 },
 "nbformat": 4,
 "nbformat_minor": 2
}
